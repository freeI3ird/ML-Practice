{
 "cells": [
  {
   "cell_type": "code",
   "execution_count": 1,
   "metadata": {},
   "outputs": [],
   "source": [
    "import os"
   ]
  },
  {
   "cell_type": "code",
   "execution_count": 2,
   "metadata": {},
   "outputs": [],
   "source": [
    "# os.walk(\"path\"): \n",
    "# os.walk() returns a list of three items. It contains the name of the root directory, \n",
    "# a list of the names of the subdirectories, and a list of the filenames in the current directory."
   ]
  },
  {
   "cell_type": "code",
   "execution_count": 6,
   "metadata": {},
   "outputs": [
    {
     "name": "stdout",
     "output_type": "stream",
     "text": [
      "['Python_tutorial_1.ipynb', 'bigrams.ipynb', 'xor_nn.ipynb', 'random_number.ipynb', 'indian_states.csv', 'os_commands.ipynb']\n",
      "['Pandas_Cheat_Sheet.pdf']\n",
      "['6f970556-9-Dataset_-_Problem_2.zip', 'Data-Analysis-And-Baseline.ipynb', 'Exp101_col1.csv', 'Exp-102-col1.csv']\n",
      "['Data-Analysis-And-Baseline-checkpoint.ipynb']\n",
      "['train.csv', 'test.csv']\n",
      "[]\n",
      "['train.csv', 'sample_submission.csv', 'test.csv', 'header.csv']\n",
      "['Coding Math Mini #1- Normalization.mp4', 'myNormalization.ipynb', 'Normalization and Standardization.mp4', 'Normalization.ipynb', 'USA_Housing.csv']\n",
      "['myNormalization-checkpoint.ipynb']\n",
      "['Linear Regression_Saqib.ipynb', 'USA_housing_linear_regression_py2.ipynb', 'USA_housing_linear_regression.ipynb', 'USA_Housing.csv']\n",
      "['USA_housing_linear_regression-checkpoint.ipynb', 'USA_housing_linear_regression_py2-checkpoint.ipynb', 'Linear Regression_Saqib-checkpoint.ipynb']\n",
      "['Python_tutorial_1-checkpoint.ipynb', 'os_commands-checkpoint.ipynb', 'xor_nn-checkpoint.ipynb', 'bigrams-checkpoint.ipynb', 'random_number-checkpoint.ipynb']\n",
      "['matplot_beginner.ipynb']\n",
      "['matplot_beginner-checkpoint.ipynb']\n"
     ]
    }
   ],
   "source": [
    "for root, dirs, filenames in os.walk(\".\"):\n",
    "    #print(root)\n",
    "    #print(dirs)\n",
    "    print(filenames)"
   ]
  },
  {
   "cell_type": "code",
   "execution_count": null,
   "metadata": {},
   "outputs": [],
   "source": []
  }
 ],
 "metadata": {
  "kernelspec": {
   "display_name": "Python 2",
   "language": "python",
   "name": "python2"
  },
  "language_info": {
   "codemirror_mode": {
    "name": "ipython",
    "version": 2
   },
   "file_extension": ".py",
   "mimetype": "text/x-python",
   "name": "python",
   "nbconvert_exporter": "python",
   "pygments_lexer": "ipython2",
   "version": "2.7.15"
  }
 },
 "nbformat": 4,
 "nbformat_minor": 2
}
