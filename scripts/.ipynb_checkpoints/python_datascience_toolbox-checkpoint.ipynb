{
 "cells": [
  {
   "cell_type": "code",
   "execution_count": 1,
   "metadata": {},
   "outputs": [],
   "source": [
    "mydict = { \"0\": \"0\", \"1\": \"1\"}"
   ]
  },
  {
   "cell_type": "code",
   "execution_count": 4,
   "metadata": {},
   "outputs": [
    {
     "name": "stdout",
     "output_type": "stream",
     "text": [
      "type: <class 'generator'>\n"
     ]
    },
    {
     "data": {
      "text/plain": [
       "<generator object <genexpr> at 0x7f117832d840>"
      ]
     },
     "execution_count": 4,
     "metadata": {},
     "output_type": "execute_result"
    }
   ],
   "source": [
    "newdict = ((k, str(v)) for k,v in mydict.items())\n",
    "print('type:', type(newdict))\n",
    "for i in newdict:\n",
    "    print(i)"
   ]
  },
  {
   "cell_type": "code",
   "execution_count": 3,
   "metadata": {},
   "outputs": [],
   "source": [
    "# User defined functions\n",
    "# function name + parameters = SIGNATURE of function\n",
    "def square(value):  # Function Header\n",
    "    \"\"\"Return the square of value\"\"\"  # Docstring to define what function do\n",
    "    new_value = value**2              # Function Body\n",
    "    return new_value\n",
    "\n",
    "# In the Function Header, we write Parameters\n",
    "# When we call a function we pass Arguments"
   ]
  },
  {
   "cell_type": "code",
   "execution_count": 4,
   "metadata": {},
   "outputs": [
    {
     "data": {
      "text/plain": [
       "16"
      ]
     },
     "execution_count": 4,
     "metadata": {},
     "output_type": "execute_result"
    }
   ],
   "source": [
    "square(4) # arguement = 4"
   ]
  },
  {
   "cell_type": "code",
   "execution_count": 5,
   "metadata": {},
   "outputs": [
    {
     "ename": "SyntaxError",
     "evalue": "invalid syntax (<ipython-input-5-dcc7ff1dc877>, line 2)",
     "output_type": "error",
     "traceback": [
      "\u001b[0;36m  File \u001b[0;32m\"<ipython-input-5-dcc7ff1dc877>\"\u001b[0;36m, line \u001b[0;32m2\u001b[0m\n\u001b[0;31m    y = print(\"4\") # print() function does not return anything, type(y) = NoneType, value = None\u001b[0m\n\u001b[0m            ^\u001b[0m\n\u001b[0;31mSyntaxError\u001b[0m\u001b[0;31m:\u001b[0m invalid syntax\n"
     ]
    }
   ],
   "source": [
    "# assigning a variable to a function that returns nothing \n",
    "y = print(\"4\") # print() function does not return anything, type(y) = NoneType, value = None"
   ]
  },
  {
   "cell_type": "code",
   "execution_count": 6,
   "metadata": {},
   "outputs": [],
   "source": [
    "# tuples: \n",
    "#   tup = (a,b,c,..)\n",
    "#   access like list:  tup[0], tup[1]\n",
    "#   unpacking tuple:   x,y,z = tup  here x = tup[0], y = tup[1], z = tup[2]\n",
    "#   Unlike lists, tup = immutable, once constructed can't be changed."
   ]
  },
  {
   "cell_type": "code",
   "execution_count": 7,
   "metadata": {},
   "outputs": [],
   "source": [
    "# multiple PARAMETERS, multiple RETURN VALUES\n",
    "def raise_to_power(a, b):\n",
    "    \"\"\"return a raise to b and b raise to a\"\"\"\n",
    "    x = a**b\n",
    "    y = b**a\n",
    "    tup = (x,y) # to return multiple values\n",
    "    return tup  # OR return x,y ==> in background python creates the tuple (x,y)"
   ]
  },
  {
   "cell_type": "code",
   "execution_count": 8,
   "metadata": {},
   "outputs": [
    {
     "data": {
      "text/plain": [
       "(32, 25)"
      ]
     },
     "execution_count": 8,
     "metadata": {},
     "output_type": "execute_result"
    }
   ],
   "source": [
    "raise_to_power(2,5)"
   ]
  },
  {
   "cell_type": "code",
   "execution_count": 9,
   "metadata": {},
   "outputs": [],
   "source": [
    "# Scope: part of program where an 'object' or 'name' may be accessed.\n",
    "\n",
    "# 1. local scope    : defined within the function\n",
    "# 2. Enclosing scope: defined within the enclosing function, concept of 'nested functions' keyword: 'nonlocal'\n",
    "# 3. global scope   : defined in the main script, can be accessed anywhere, keyword: 'global'\n",
    "# 4. built-in scope : pre defined by python, e.g: print(), sum()\n",
    "\n",
    "# when a 'object' is accessed, first 'local scope' is searched,then enclosing, then 'global', then 'built-in'\n",
    "# to alter 'global' variable/object in a function, need to use 'global object_name'"
   ]
  },
  {
   "cell_type": "code",
   "execution_count": 10,
   "metadata": {},
   "outputs": [
    {
     "data": {
      "text/plain": [
       "'Manish'"
      ]
     },
     "execution_count": 10,
     "metadata": {},
     "output_type": "execute_result"
    }
   ],
   "source": [
    "name = \"Manish\"  # global var, defined in 'main script'\n",
    "def change_name(pet_name):\n",
    "    name = pet_name\n",
    "change_name(\"Rathi\")\n",
    "name  # name value does not change"
   ]
  },
  {
   "cell_type": "code",
   "execution_count": 11,
   "metadata": {},
   "outputs": [
    {
     "data": {
      "text/plain": [
       "'Rathi'"
      ]
     },
     "execution_count": 11,
     "metadata": {},
     "output_type": "execute_result"
    }
   ],
   "source": [
    "def change_name2(pet_name):\n",
    "    global name  # now we can access the globally defined 'name'\n",
    "    global surname # from inside a function, we defined a 'global' name/object\n",
    "    #global surname = \"Rathi\" #, we can't do this\n",
    "    surname = \"Rathi\"\n",
    "    name = pet_name\n",
    "change_name2(\"Rathi\")\n",
    "name"
   ]
  },
  {
   "cell_type": "code",
   "execution_count": 12,
   "metadata": {},
   "outputs": [
    {
     "data": {
      "text/plain": [
       "'Rathi'"
      ]
     },
     "execution_count": 12,
     "metadata": {},
     "output_type": "execute_result"
    }
   ],
   "source": [
    "surname"
   ]
  },
  {
   "cell_type": "code",
   "execution_count": 13,
   "metadata": {},
   "outputs": [],
   "source": [
    "# Nested Functions, function within the function: to do repeatitive task inside the function"
   ]
  },
  {
   "cell_type": "code",
   "execution_count": 14,
   "metadata": {},
   "outputs": [
    {
     "ename": "SyntaxError",
     "evalue": "invalid syntax (<ipython-input-14-0180c739a9b2>, line 4)",
     "output_type": "error",
     "traceback": [
      "\u001b[0;36m  File \u001b[0;32m\"<ipython-input-14-0180c739a9b2>\"\u001b[0;36m, line \u001b[0;32m4\u001b[0m\n\u001b[0;31m    nonlocal surname  # can alter or define the object in the scope of enclosing function\u001b[0m\n\u001b[0m                   ^\u001b[0m\n\u001b[0;31mSyntaxError\u001b[0m\u001b[0;31m:\u001b[0m invalid syntax\n"
     ]
    }
   ],
   "source": [
    "def add_surname(name1, name2, name3): \n",
    "    surname = \"Rathi\"\n",
    "    def inner(name):\n",
    "        nonlocal surname  # can alter or define the object in the scope of enclosing function\n",
    "        surname = \"Sharma\"\n",
    "        full_name = name + surname\n",
    "        return full_name\n",
    "    return (inner(name1), inner(name2), inner(name3))\n",
    "\n",
    "add_surname(\"Manish\", \"Monika\", \"Meenakshi\")"
   ]
  },
  {
   "cell_type": "code",
   "execution_count": 15,
   "metadata": {},
   "outputs": [],
   "source": [
    "# Closure: This means that the nested or inner function remembers the state of its enclosing scope when called\n",
    "# Thus, anything defined locally in the enclosing scope is available to the inner function even when the\n",
    "# outer function has finished execution.\n",
    "def add_surname( sname ):\n",
    "    def inner(name):\n",
    "        return name + sname\n",
    "    return inner\n",
    "\n",
    "rathi = add_surname(\"Rathi\")\n",
    "sharma = add_surname(\"Sharma\")\n",
    "# here 'rathi' and 'sharma' are the instances of the 'inner' function, and\n",
    "# 'rathi' remembers value of sname = Rathi and 'sharma' instance, remember sname = Sharma, even though\n",
    "# add_surname() function is finished execution."
   ]
  },
  {
   "cell_type": "code",
   "execution_count": 16,
   "metadata": {},
   "outputs": [
    {
     "name": "stdout",
     "output_type": "stream",
     "text": [
      "ManishRathi\n",
      "SandeepSharma\n"
     ]
    }
   ],
   "source": [
    "print( rathi(\"Manish\"))\n",
    "print( sharma(\"Sandeep\"))"
   ]
  },
  {
   "cell_type": "code",
   "execution_count": 17,
   "metadata": {},
   "outputs": [
    {
     "name": "stdout",
     "output_type": "stream",
     "text": [
      "ManishSinghChaudhary\n",
      "ManishRathiChaudhary\n",
      "ManishSinghRathi\n"
     ]
    }
   ],
   "source": [
    "# Default arguments\n",
    "def generate_name1(first, middle = \"Singh\", last= \"Chaudhary\"):\n",
    "    full_name = first + middle + last\n",
    "    return full_name\n",
    "\n",
    "print( generate_name1(\"Manish\") )\n",
    "print( generate_name1(\"Manish\", \"Rathi\")) # Rathi will be assigned to parameter -> middle\n",
    "print( generate_name1(\"Manish\", last = \"Rathi\") ) # Rathi assigned to parameter -> last"
   ]
  },
  {
   "cell_type": "code",
   "execution_count": 18,
   "metadata": {},
   "outputs": [
    {
     "ename": "SyntaxError",
     "evalue": "non-default argument follows default argument (<ipython-input-18-7757cbd8f452>, line 2)",
     "output_type": "error",
     "traceback": [
      "\u001b[0;36m  File \u001b[0;32m\"<ipython-input-18-7757cbd8f452>\"\u001b[0;36m, line \u001b[0;32m2\u001b[0m\n\u001b[0;31m    def generate_name2(first = \"Manish\", middle, last= \"Chaudhary\"):\u001b[0m\n\u001b[0;31mSyntaxError\u001b[0m\u001b[0;31m:\u001b[0m non-default argument follows default argument\n"
     ]
    }
   ],
   "source": [
    "# non-default argument can't follow the default argument.\n",
    "def generate_name2(first = \"Manish\", middle, last= \"Chaudhary\"):\n",
    "    full_name = first + middle + last\n",
    "    return full_name\n",
    "\n",
    "generate_name2(\"Manish\")"
   ]
  },
  {
   "cell_type": "code",
   "execution_count": 19,
   "metadata": {},
   "outputs": [
    {
     "data": {
      "text/plain": [
       "'Hello Manish How are you brother'"
      ]
     },
     "execution_count": 19,
     "metadata": {},
     "output_type": "execute_result"
    }
   ],
   "source": [
    "# variable length arguments: def func_name(*args):\n",
    "# args is a 'tuple' that contains all the arguements passed to function\n",
    "# Variable Argument: follow the parameter name with '*' in function header\n",
    "def generate_name3(*args):\n",
    "    fname = \"\"\n",
    "    for word in args:\n",
    "        fname = fname + word\n",
    "    return fname\n",
    "generate_name3(\"Hello \",\"Manish \",\"How are you\",\" brother\")"
   ]
  },
  {
   "cell_type": "code",
   "execution_count": 20,
   "metadata": {},
   "outputs": [
    {
     "name": "stdout",
     "output_type": "stream",
     "text": [
      "middle:singh\n",
      "last:rathi\n",
      "name:manish\n"
     ]
    }
   ],
   "source": [
    "# Keyword arguments: **kwargs\n",
    "def generate_name4(**kwargs):  # kwargs is a dictionary.\n",
    "    for key,val in kwargs.items():\n",
    "        print(key+\":\"+val)\n",
    "generate_name4(name= \"manish\",middle=\"singh\",last=\"rathi\")"
   ]
  },
  {
   "cell_type": "code",
   "execution_count": 21,
   "metadata": {},
   "outputs": [
    {
     "data": {
      "text/plain": [
       "8"
      ]
     },
     "execution_count": 21,
     "metadata": {},
     "output_type": "execute_result"
    }
   ],
   "source": [
    "# lambda functions: functions on fly\n",
    "# lambda arg1,arg2: (expr we want to return)\n",
    "raise_power = lambda x,y: x**y\n",
    "raise_power(2,3)"
   ]
  },
  {
   "cell_type": "code",
   "execution_count": 22,
   "metadata": {},
   "outputs": [
    {
     "name": "stdout",
     "output_type": "stream",
     "text": [
      "[1, 4, 9, 16]\n",
      "[1, 4, 9, 16]\n"
     ]
    }
   ],
   "source": [
    "# map function: map(func, seq), applies function 'func' on the elements of 'seq', return a map object\n",
    "# here without naming/calling the 'func' it is applied such functions are 'Anonymous functions'\n",
    "nums = [1,2,3,4]\n",
    "square_all = map( lambda x: x**2, nums)\n",
    "# value return by lambda is directly added to the result.\n",
    "print(square_all)\n",
    "print(list(square_all))"
   ]
  },
  {
   "cell_type": "code",
   "execution_count": 23,
   "metadata": {},
   "outputs": [
    {
     "data": {
      "text/plain": [
       "['manish', 'sandeep']"
      ]
     },
     "execution_count": 23,
     "metadata": {},
     "output_type": "execute_result"
    }
   ],
   "source": [
    "# 'filter' function: to filter out some elements from a seq\n",
    "namelist = [\"manish\",\"jon\",\"avtar\",\"sandeep\",\"jamie\"]\n",
    "result = filter(lambda member: len(member)>5, namelist)\n",
    "# value return by lambda is True/False, based on that list_element is selected/rejected.\n",
    "list(result)"
   ]
  },
  {
   "cell_type": "code",
   "execution_count": 24,
   "metadata": {},
   "outputs": [
    {
     "data": {
      "text/plain": [
       "10"
      ]
     },
     "execution_count": 24,
     "metadata": {},
     "output_type": "execute_result"
    }
   ],
   "source": [
    "# reduce function: returns a single element\n",
    "number_list = [1, 2, 3, 4]\n",
    "from functools import reduce\n",
    "result = reduce(lambda a,b: a+b, number_list) # at a time, take one element from the list, and combine it with \n",
    "                                           # previous result.\n",
    "result"
   ]
  },
  {
   "cell_type": "code",
   "execution_count": 25,
   "metadata": {},
   "outputs": [],
   "source": [
    "# error handling: try, except clause\n",
    "def divide_numbers(a,b):\n",
    "    result = 0\n",
    "    if b < 0:\n",
    "        raise ValueError(\"denominator should be > 0\") # raise error using 'raise' keyword\n",
    "    try:\n",
    "        result = a/b\n",
    "    except:\n",
    "        print(\"Denominator can't be zero\")\n",
    "    # control comes here after the 'try-catch block'\n",
    "    return result"
   ]
  },
  {
   "cell_type": "code",
   "execution_count": 26,
   "metadata": {},
   "outputs": [
    {
     "name": "stdout",
     "output_type": "stream",
     "text": [
      "Denominator can't be zero\n"
     ]
    },
    {
     "data": {
      "text/plain": [
       "0"
      ]
     },
     "execution_count": 26,
     "metadata": {},
     "output_type": "execute_result"
    }
   ],
   "source": [
    "divide_numbers(2,0)"
   ]
  },
  {
   "cell_type": "code",
   "execution_count": 27,
   "metadata": {},
   "outputs": [
    {
     "name": "stdout",
     "output_type": "stream",
     "text": [
      "manish\n",
      "monika\n",
      "radha\n",
      "sneha\n",
      "avtar\n",
      "yash\n"
     ]
    }
   ],
   "source": [
    "# Iterables: an object that has an associated 'iter()' method.\n",
    "# e.g: list, string, dictionaries,file connections\n",
    "# Once iter() method is applied to an iterable, an 'iterator' object is created\n",
    "mylist = ['manish', 'monika', 'radha', 'sneha', 'avtar', 'yash']\n",
    "for sibling in mylist:\n",
    "    print(sibling)\n",
    "# for loop, takes an iterable (mylist), creates the associated 'iterator' object and iterates over it.\n",
    "# Iterator: an object that has an associated 'next()' method, that produces consecutive values.\n",
    "# Iterators save resources, because they don't store all the data in memory, they bring it one by one."
   ]
  },
  {
   "cell_type": "code",
   "execution_count": 28,
   "metadata": {},
   "outputs": [
    {
     "name": "stdout",
     "output_type": "stream",
     "text": [
      "manish\n",
      "monika\n",
      "radha\n"
     ]
    }
   ],
   "source": [
    "# Internally how things work\n",
    "my_iterator = iter(mylist) # creating 'iterator' from the 'iterable'\n",
    "print( next(my_iterator)) # call next(iterator object) to get consecutive values\n",
    "print( next(my_iterator))\n",
    "print(next(my_iterator))"
   ]
  },
  {
   "cell_type": "code",
   "execution_count": 29,
   "metadata": {},
   "outputs": [
    {
     "ename": "SyntaxError",
     "evalue": "invalid syntax (<ipython-input-29-e6158ab92a8b>, line 1)",
     "output_type": "error",
     "traceback": [
      "\u001b[0;36m  File \u001b[0;32m\"<ipython-input-29-e6158ab92a8b>\"\u001b[0;36m, line \u001b[0;32m1\u001b[0m\n\u001b[0;31m    print(*my_iterator) # unpack all the values (remaining values) of the iterator\u001b[0m\n\u001b[0m          ^\u001b[0m\n\u001b[0;31mSyntaxError\u001b[0m\u001b[0;31m:\u001b[0m invalid syntax\n"
     ]
    }
   ],
   "source": [
    "print(*my_iterator) # unpack all the values (remaining values) of the iterator"
   ]
  },
  {
   "cell_type": "code",
   "execution_count": 30,
   "metadata": {},
   "outputs": [
    {
     "data": {
      "text/plain": [
       "'sneha'"
      ]
     },
     "execution_count": 30,
     "metadata": {},
     "output_type": "execute_result"
    }
   ],
   "source": [
    "next(my_iterator) # no more values left to iterate"
   ]
  },
  {
   "cell_type": "code",
   "execution_count": 31,
   "metadata": {},
   "outputs": [
    {
     "name": "stdout",
     "output_type": "stream",
     "text": [
      "<type 'list'>\n",
      "[(1, 'manish'), (2, 'monika'), (3, 'radha'), (4, 'sneha'), (5, 'avtar'), (6, 'yash')]\n",
      "1:manish\n",
      "2:monika\n",
      "3:radha\n",
      "4:sneha\n",
      "5:avtar\n",
      "6:yash\n"
     ]
    }
   ],
   "source": [
    "mydict = { 1: 'manish', 2: 'monika', 3: 'radha', 4: 'sneha', 5: 'avtar', 6: 'yash'}\n",
    "dict_iter = iter(mydict)\n",
    "#print(next(dict_iter))\n",
    "print(type(mydict.items()))\n",
    "print(mydict.items())\n",
    "for key, value in mydict.items():\n",
    "    print(str(key)+\":\"+value)\n",
    "#print(*dict_iter)"
   ]
  },
  {
   "cell_type": "code",
   "execution_count": 32,
   "metadata": {},
   "outputs": [
    {
     "name": "stdout",
     "output_type": "stream",
     "text": [
      "Big Brother: Manish\n",
      "\n",
      "Big Sister : Monika\n",
      "\n",
      "other sister: Radha\n",
      "\n",
      "other sister: Sneha\n",
      "\n",
      "little brother: avtar\n",
      "\n",
      "youngest brother: yash\n",
      "\n"
     ]
    }
   ],
   "source": [
    "# iterating file connections\n",
    "file1 = open(\"names.txt\")\n",
    "\n",
    "file_iter = iter(file1)\n",
    "print(next(file_iter))\n",
    "\n",
    "for txt in file1:\n",
    "    print(txt)\n"
   ]
  },
  {
   "cell_type": "code",
   "execution_count": 33,
   "metadata": {},
   "outputs": [
    {
     "name": "stdout",
     "output_type": "stream",
     "text": [
      "<type 'list'>\n",
      "<listiterator object at 0x7f28bb446750>\n",
      "0\n"
     ]
    }
   ],
   "source": [
    "# range(start, end)\n",
    "x = range(3) # range(3) function doesnot create 'list', it creates the range object\n",
    "print(type(x))\n",
    "range_iter = iter(range(3)) # we can create iterator from this object\n",
    "print(range_iter)\n",
    "print(next(range_iter))\n",
    "#print(*range_iter)\n",
    "\n",
    "# for num in range(3): # what happens in background of range() function is shown above\n",
    "#     print(num)"
   ]
  },
  {
   "cell_type": "code",
   "execution_count": 34,
   "metadata": {},
   "outputs": [
    {
     "data": {
      "text/plain": [
       "3"
      ]
     },
     "execution_count": 34,
     "metadata": {},
     "output_type": "execute_result"
    }
   ],
   "source": [
    "#list(range_iter)  # ONCE AN ITERATOR IS ITERATED, IT CAN'T BE UNDONE, HAVE TO CREATE NEW ITERATOR\n",
    "sum(range_iter)"
   ]
  },
  {
   "cell_type": "code",
   "execution_count": 35,
   "metadata": {},
   "outputs": [
    {
     "name": "stdout",
     "output_type": "stream",
     "text": [
      "<type 'enumerate'>\n",
      "<type 'enumerate'>\n",
      "[(0, 'manish'), (1, 'monika'), (2, 'radha'), (3, 'sneha'), (4, 'avtar'), (5, 'yash')]\n",
      "(0, ':', 'manish')\n",
      "(1, ':', 'monika')\n",
      "(2, ':', 'radha')\n",
      "(3, ':', 'sneha')\n",
      "(4, ':', 'avtar')\n",
      "(5, ':', 'yash')\n",
      "(10, ':', 'manish')\n",
      "(11, ':', 'monika')\n",
      "(12, ':', 'radha')\n",
      "(13, ':', 'sneha')\n",
      "(14, ':', 'avtar')\n",
      "(15, ':', 'yash')\n"
     ]
    }
   ],
   "source": [
    "# 'enumerate()': function, that adds 'counter' to any iterable.\n",
    "print(type(enumerate(mylist))) # returns 'enumerate' object ==> ITERABLE\n",
    "enum_iter = iter(enumerate(mylist))\n",
    "print(type(enum_iter))\n",
    "# print(enum_iter.next())  # next() function doesnot work with this\n",
    "\n",
    "x = enumerate(mylist)\n",
    "name_list = list(enumerate(mylist))\n",
    "print(name_list)\n",
    "\n",
    "# unpacking the tuples in the enumerate object\n",
    "for index, value in enumerate(mylist):\n",
    "    print(index,\":\",value)\n",
    "\n",
    "# starting index can be customised usng 'start' parameter of enumerate()\n",
    "for index, value in enumerate(mylist, start=10):\n",
    "    print(index,\":\",value)"
   ]
  },
  {
   "cell_type": "code",
   "execution_count": 36,
   "metadata": {},
   "outputs": [
    {
     "name": "stdout",
     "output_type": "stream",
     "text": [
      "<type 'list'>\n",
      "[('manish', 23), ('monika', 21), ('radha', 16), ('sneha', 13), ('avtar', 10), ('yash', 9)]\n",
      "('manish', 23)\n",
      "('monika', 21)\n",
      "('radha', 16)\n",
      "('sneha', 13)\n",
      "('avtar', 10)\n",
      "('yash', 9)\n"
     ]
    }
   ],
   "source": [
    "# zip() function: packs any number of 'iterables' together,\n",
    "# returns 'zip object': which is iterator of tuples\n",
    "age_list = [23, 21, 16, 13, 10, 9]\n",
    "x = zip(mylist, age_list)\n",
    "print(type(x))\n",
    "print(list(x))\n",
    "for name, age in zip(mylist, age_list):\n",
    "    print(name,age)\n",
    "    "
   ]
  },
  {
   "cell_type": "code",
   "execution_count": 37,
   "metadata": {},
   "outputs": [
    {
     "ename": "SyntaxError",
     "evalue": "invalid syntax (<ipython-input-37-a5abdf39dcc6>, line 3)",
     "output_type": "error",
     "traceback": [
      "\u001b[0;36m  File \u001b[0;32m\"<ipython-input-37-a5abdf39dcc6>\"\u001b[0;36m, line \u001b[0;32m3\u001b[0m\n\u001b[0;31m    print(*z)\u001b[0m\n\u001b[0m          ^\u001b[0m\n\u001b[0;31mSyntaxError\u001b[0m\u001b[0;31m:\u001b[0m invalid syntax\n"
     ]
    }
   ],
   "source": [
    "# unzipping\n",
    "z = zip(mylist, age_list)\n",
    "print(*z)\n",
    "z = zip(mylist, age_list)  # created again because ,initial z is exhausted or iterated completely\n",
    "# why z above is zip object          ?? \n",
    "# why list1 and list2 not zip object ??\n",
    "z2 = zip(*z)\n",
    "print(type(z2))\n",
    "print(*z2)\n",
    "\n",
    "z= zip(mylist, age_list)\n",
    "list1, list2 = zip(*z)\n",
    "print(type(list1))\n",
    "print(list1)\n",
    "print(list2)\n",
    "\n",
    "a= zip(mylist, age_list)"
   ]
  },
  {
   "cell_type": "code",
   "execution_count": 38,
   "metadata": {},
   "outputs": [
    {
     "data": {
      "text/html": [
       "<div>\n",
       "<style scoped>\n",
       "    .dataframe tbody tr th:only-of-type {\n",
       "        vertical-align: middle;\n",
       "    }\n",
       "\n",
       "    .dataframe tbody tr th {\n",
       "        vertical-align: top;\n",
       "    }\n",
       "\n",
       "    .dataframe thead th {\n",
       "        text-align: right;\n",
       "    }\n",
       "</style>\n",
       "<table border=\"1\" class=\"dataframe\">\n",
       "  <thead>\n",
       "    <tr style=\"text-align: right;\">\n",
       "      <th></th>\n",
       "      <th>numbers</th>\n",
       "    </tr>\n",
       "  </thead>\n",
       "  <tbody>\n",
       "    <tr>\n",
       "      <th>count</th>\n",
       "      <td>1000.000000</td>\n",
       "    </tr>\n",
       "    <tr>\n",
       "      <th>mean</th>\n",
       "      <td>332833.500000</td>\n",
       "    </tr>\n",
       "    <tr>\n",
       "      <th>std</th>\n",
       "      <td>298011.754159</td>\n",
       "    </tr>\n",
       "    <tr>\n",
       "      <th>min</th>\n",
       "      <td>0.000000</td>\n",
       "    </tr>\n",
       "    <tr>\n",
       "      <th>25%</th>\n",
       "      <td>62375.250000</td>\n",
       "    </tr>\n",
       "    <tr>\n",
       "      <th>50%</th>\n",
       "      <td>249500.500000</td>\n",
       "    </tr>\n",
       "    <tr>\n",
       "      <th>75%</th>\n",
       "      <td>561375.750000</td>\n",
       "    </tr>\n",
       "    <tr>\n",
       "      <th>max</th>\n",
       "      <td>998001.000000</td>\n",
       "    </tr>\n",
       "  </tbody>\n",
       "</table>\n",
       "</div>"
      ],
      "text/plain": [
       "             numbers\n",
       "count    1000.000000\n",
       "mean   332833.500000\n",
       "std    298011.754159\n",
       "min         0.000000\n",
       "25%     62375.250000\n",
       "50%    249500.500000\n",
       "75%    561375.750000\n",
       "max    998001.000000"
      ]
     },
     "execution_count": 38,
     "metadata": {},
     "output_type": "execute_result"
    }
   ],
   "source": [
    "\n",
    "import pandas as pd\n",
    "num_list = []\n",
    "for i in range(1000):\n",
    "    num_list.append(i**2)\n",
    "len(num_list)\n",
    "num_dict = {'numbers': num_list}\n",
    "df = pd.DataFrame(num_dict)\n",
    "df.to_csv(\"numbers.csv\")\n",
    "df.describe()"
   ]
  },
  {
   "cell_type": "code",
   "execution_count": 39,
   "metadata": {},
   "outputs": [
    {
     "name": "stdout",
     "output_type": "stream",
     "text": [
      "328350\n",
      "2318350\n",
      "6308350\n",
      "12298350\n",
      "20288350\n",
      "30278350\n",
      "42268350\n",
      "56258350\n",
      "72248350\n",
      "90238350\n",
      "332833500\n"
     ]
    }
   ],
   "source": [
    "# handling large amount of data in chunks.\n",
    "# we have file 'numbers.csv' we will load the data of this file in chunks\n",
    "# pd.read_csv(file_name, chunksize= x) ==> this is an iterable, so we can iterate over it using 'for loop'\n",
    "# sum = 0 , never use built in name for your variable, otherwise when later we call builtin function\n",
    "# sum(mylist), then it shows error, 'int' object in not callabale, because we used, sum= 0, bound sum to 'int'\n",
    "total = 0\n",
    "for chunk in pd.read_csv(\"numbers.csv\", chunksize= 100):\n",
    "    print(sum(chunk[\"numbers\"]))\n",
    "    total += sum(chunk[\"numbers\"])\n",
    "print(total)"
   ]
  },
  {
   "cell_type": "code",
   "execution_count": 40,
   "metadata": {},
   "outputs": [
    {
     "name": "stdout",
     "output_type": "stream",
     "text": [
      "[2, 3, 5, 9, 17]\n",
      "[2, 3, 5, 9, 17]\n"
     ]
    }
   ],
   "source": [
    "# list comprehension\n",
    "# Ques: We want to create a new list from old list with '1' added to each number\n",
    "old_list = [1,2,4,8,16]\n",
    "new_list = []\n",
    "for num in old_list:\n",
    "    new_list.append(num+1)\n",
    "print(new_list)\n",
    "\n",
    "# We can do better in terms of 'line of code' and 'efficiency'\n",
    "# list comprehension: new_list = [(output expression) for num in old_list], o/p expr + for loop over the old_list\n",
    "new_list2 = [ num+1 for num in old_list]\n",
    "print(new_list2)"
   ]
  },
  {
   "cell_type": "code",
   "execution_count": 41,
   "metadata": {},
   "outputs": [],
   "source": [
    "# List Comprehensions can be done for any 'Iterable'\n",
    "# Advantage: Colllapse for loop for building lists in single line\n",
    "# Requirements:\n",
    "# a. Iterable\n",
    "# b. Iterator variable ( represents the member of Iterable)\n",
    "# c. Output Expression\n",
    "# in above e.g: Iterable = old_list, Iterator var = num, Output expr = num +1\n",
    "# Basic : [ output expr for ITERATOR VARIABLE in ITERABLE]\n",
    "# Advanced: [ output expr + conditionals on output for ITERATOR VARIABLE IN ITERABLE + CONDITIONAL ON ITERABLE]"
   ]
  },
  {
   "cell_type": "code",
   "execution_count": 42,
   "metadata": {},
   "outputs": [
    {
     "data": {
      "text/plain": [
       "[0, 1, 2, 3, 4, 5, 6, 7, 8, 9]"
      ]
     },
     "execution_count": 42,
     "metadata": {},
     "output_type": "execute_result"
    }
   ],
   "source": [
    "new_list = [i for i in range(10) ] # range() is also iterable\n",
    "new_list"
   ]
  },
  {
   "cell_type": "code",
   "execution_count": 43,
   "metadata": {},
   "outputs": [
    {
     "name": "stdout",
     "output_type": "stream",
     "text": [
      "[(0, 0), (0, 1), (0, 2), (0, 3), (0, 4), (0, 5), (0, 6), (0, 7), (0, 8), (1, 0), (1, 1), (1, 2), (1, 3), (1, 4), (1, 5), (1, 6), (1, 7), (1, 8), (2, 0), (2, 1), (2, 2), (2, 3), (2, 4), (2, 5), (2, 6), (2, 7), (2, 8)]\n",
      "[(0, 0), (0, 1), (0, 2), (0, 3), (0, 4), (0, 5), (0, 6), (0, 7), (0, 8), (1, 0), (1, 1), (1, 2), (1, 3), (1, 4), (1, 5), (1, 6), (1, 7), (1, 8), (2, 0), (2, 1), (2, 2), (2, 3), (2, 4), (2, 5), (2, 6), (2, 7), (2, 8)]\n"
     ]
    }
   ],
   "source": [
    "# Nested loops: create pair of numbers (a,b) where a = [0,2] and b = [0,8]\n",
    "pairs_1 = []\n",
    "for i in range(0,3):\n",
    "    for j in range(0,9):\n",
    "        pairs_1.append((i,j))\n",
    "print(pairs_1)\n",
    "\n",
    "pairs_2 = [(i,j) for i in range(0,3) for j in range(0,9)]\n",
    "print( pairs_2)"
   ]
  },
  {
   "cell_type": "code",
   "execution_count": 44,
   "metadata": {},
   "outputs": [
    {
     "name": "stdout",
     "output_type": "stream",
     "text": [
      "[[0, 1, 2, 3, 4], [0, 1, 2, 3, 4], [0, 1, 2, 3, 4], [0, 1, 2, 3, 4], [0, 1, 2, 3, 4]]\n",
      "[[0, 1, 2, 3, 4], [0, 1, 2, 3, 4], [0, 1, 2, 3, 4], [0, 1, 2, 3, 4], [0, 1, 2, 3, 4]]\n"
     ]
    }
   ],
   "source": [
    "# create a matrix( list of lists) size = (5*5) and elements in each row [0,1,2,3,4]\n",
    "my_matrix = []\n",
    "for row in range(5):\n",
    "    my_list = []\n",
    "    for col in range(5):\n",
    "        my_list.append(col)\n",
    "    my_matrix.append(my_list)\n",
    "print(my_matrix)\n",
    "\n",
    "# using list comprehension, 'list compr.' creates a list of elements, here elements are also list\n",
    "# so we use nested list comprehension\n",
    "my_matrix2 = [[col for col in range(5)] for row in range(5)]\n",
    "print(my_matrix2)"
   ]
  },
  {
   "cell_type": "code",
   "execution_count": 45,
   "metadata": {},
   "outputs": [
    {
     "name": "stdout",
     "output_type": "stream",
     "text": [
      "['manish', 'ramdhari']\n",
      "['manish', 'ramdhari', 'small name', 'small name', 'small name']\n"
     ]
    }
   ],
   "source": [
    "# List Comprehension: using 'conditionals' on iterable variable\n",
    "name_list = [\"manish\", \"ramdhari\", \"yash\", \"avtar\",\"sneha\"]\n",
    "\n",
    "# create a new list with names length > 6\n",
    "filter_name = [name for name in name_list if len(name) >=6 ]\n",
    "print(filter_name)\n",
    "\n",
    "# 'CONDITIONALS ON OUTPUT EXPRESSION'\n",
    "filter_name2 = [name if len(name)>=6 else \"small name\" for name in name_list]\n",
    "print(filter_name2)\n",
    "\n",
    "# CONDITIONALS ON 'iterable variable', helps in a case: 'whether we have to select this item or not',\n",
    "# I don't think there is a 'else ' allowed, see below code donot work\n",
    "# filter_name = [name for name in name_list if len(name) >=6 else \"ramdhari\" ]\n",
    "# print(filter_name)\n",
    "\n",
    "# CONDITIONALS ON 'output expression', allows you to define 'else' statement, \n",
    "# here the item is definitely selected but whether we have to use it in output expression or not, that is to be\n",
    "# determined."
   ]
  },
  {
   "cell_type": "code",
   "execution_count": 46,
   "metadata": {},
   "outputs": [
    {
     "data": {
      "text/plain": [
       "{'avtar': 5, 'manish': 6, 'ramdhari': 8, 'sneha': 5, 'yash': 4}"
      ]
     },
     "execution_count": 46,
     "metadata": {},
     "output_type": "execute_result"
    }
   ],
   "source": [
    "# DICT COMPREHENSION: create dictionary using key == name , value == len(name)\n",
    "# syntax my_dict = { <key>: <value> for member in my_list }\n",
    "name_dict = { name: len(name) for name in name_list}\n",
    "name_dict"
   ]
  },
  {
   "cell_type": "code",
   "execution_count": 47,
   "metadata": {},
   "outputs": [],
   "source": [
    "# Generators and Generator Functions\n",
    "# a. don't create the whole list in the memory, as in case of 'list comprehension'\n",
    "# b. create value on the fly: 'LAZY EVALUATION'\n",
    "# c. using '()' instead of '[]' to create 'Generator' objects.\n",
    "# d. Generator objects"
   ]
  },
  {
   "cell_type": "code",
   "execution_count": 48,
   "metadata": {},
   "outputs": [
    {
     "ename": "SyntaxError",
     "evalue": "invalid syntax (<ipython-input-48-d9603fb8fa2f>, line 4)",
     "output_type": "error",
     "traceback": [
      "\u001b[0;36m  File \u001b[0;32m\"<ipython-input-48-d9603fb8fa2f>\"\u001b[0;36m, line \u001b[0;32m4\u001b[0m\n\u001b[0;31m    print(*my_generator)\u001b[0m\n\u001b[0m          ^\u001b[0m\n\u001b[0;31mSyntaxError\u001b[0m\u001b[0;31m:\u001b[0m invalid syntax\n"
     ]
    }
   ],
   "source": [
    "my_generator = (len(name) for name in name_list)\n",
    "print(my_generator) # generator object and it is iterator\n",
    "print( next(my_generator))\n",
    "print(*my_generator)"
   ]
  },
  {
   "cell_type": "code",
   "execution_count": 49,
   "metadata": {},
   "outputs": [
    {
     "name": "stdout",
     "output_type": "stream",
     "text": [
      "6\n",
      "8\n",
      "4\n",
      "5\n",
      "5\n"
     ]
    }
   ],
   "source": [
    "# Generator Functions: are functions that 'yield' a series of values instead of 'returning' a single value\n",
    "# use the keyword: 'yield'\n",
    "def get_lengths(input_list):\n",
    "    \"\"\"generator function, it yield length of input_list elements one by one\"\"\"\n",
    "    for name in input_list:\n",
    "        yield(len(name))\n",
    "\n",
    "for value in get_lengths(name_list):\n",
    "    print(value)"
   ]
  },
  {
   "cell_type": "code",
   "execution_count": 50,
   "metadata": {},
   "outputs": [],
   "source": [
    "# for loop can be used with both ITERABLE AND ITERATOR\n"
   ]
  },
  {
   "cell_type": "code",
   "execution_count": 51,
   "metadata": {},
   "outputs": [
    {
     "data": {
      "text/plain": [
       "{1: 'manish', 2: 'monika', 3: 'avtar', 4: 'radha', 5: 'sneha'}"
      ]
     },
     "execution_count": 51,
     "metadata": {},
     "output_type": "execute_result"
    }
   ],
   "source": [
    "# dict() function, creating dictionary from the zipped list\n",
    "list1 = [1,2,3,4,5]\n",
    "list2 = ['manish','monika','avtar','radha','sneha']\n",
    "z = zip(list1, list2)\n",
    "dict1 = dict(z)\n",
    "dict1"
   ]
  },
  {
   "cell_type": "code",
   "execution_count": 52,
   "metadata": {},
   "outputs": [
    {
     "data": {
      "text/html": [
       "<div>\n",
       "<style scoped>\n",
       "    .dataframe tbody tr th:only-of-type {\n",
       "        vertical-align: middle;\n",
       "    }\n",
       "\n",
       "    .dataframe tbody tr th {\n",
       "        vertical-align: top;\n",
       "    }\n",
       "\n",
       "    .dataframe thead th {\n",
       "        text-align: right;\n",
       "    }\n",
       "</style>\n",
       "<table border=\"1\" class=\"dataframe\">\n",
       "  <thead>\n",
       "    <tr style=\"text-align: right;\">\n",
       "      <th></th>\n",
       "      <th>CountryName</th>\n",
       "      <th>CountryCode</th>\n",
       "      <th>Year</th>\n",
       "      <th>Total Population</th>\n",
       "      <th>Urban population (% of total)</th>\n",
       "    </tr>\n",
       "  </thead>\n",
       "  <tbody>\n",
       "    <tr>\n",
       "      <th>0</th>\n",
       "      <td>Arab World</td>\n",
       "      <td>ARB</td>\n",
       "      <td>1960</td>\n",
       "      <td>9.249590e+07</td>\n",
       "      <td>31.285384</td>\n",
       "    </tr>\n",
       "    <tr>\n",
       "      <th>1</th>\n",
       "      <td>Caribbean small states</td>\n",
       "      <td>CSS</td>\n",
       "      <td>1960</td>\n",
       "      <td>4.190810e+06</td>\n",
       "      <td>31.597490</td>\n",
       "    </tr>\n",
       "    <tr>\n",
       "      <th>2</th>\n",
       "      <td>Central Europe and the Baltics</td>\n",
       "      <td>CEB</td>\n",
       "      <td>1960</td>\n",
       "      <td>9.140158e+07</td>\n",
       "      <td>44.507921</td>\n",
       "    </tr>\n",
       "    <tr>\n",
       "      <th>3</th>\n",
       "      <td>East Asia &amp; Pacific (all income levels)</td>\n",
       "      <td>EAS</td>\n",
       "      <td>1960</td>\n",
       "      <td>1.042475e+09</td>\n",
       "      <td>22.471132</td>\n",
       "    </tr>\n",
       "    <tr>\n",
       "      <th>4</th>\n",
       "      <td>East Asia &amp; Pacific (developing only)</td>\n",
       "      <td>EAP</td>\n",
       "      <td>1960</td>\n",
       "      <td>8.964930e+08</td>\n",
       "      <td>16.917679</td>\n",
       "    </tr>\n",
       "  </tbody>\n",
       "</table>\n",
       "</div>"
      ],
      "text/plain": [
       "                               CountryName CountryCode  Year  \\\n",
       "0                               Arab World         ARB  1960   \n",
       "1                   Caribbean small states         CSS  1960   \n",
       "2           Central Europe and the Baltics         CEB  1960   \n",
       "3  East Asia & Pacific (all income levels)         EAS  1960   \n",
       "4    East Asia & Pacific (developing only)         EAP  1960   \n",
       "\n",
       "   Total Population  Urban population (% of total)  \n",
       "0      9.249590e+07                      31.285384  \n",
       "1      4.190810e+06                      31.597490  \n",
       "2      9.140158e+07                      44.507921  \n",
       "3      1.042475e+09                      22.471132  \n",
       "4      8.964930e+08                      16.917679  "
      ]
     },
     "execution_count": 52,
     "metadata": {},
     "output_type": "execute_result"
    }
   ],
   "source": [
    "# CASE STUDY : MUST REVISE IT\n",
    "# DATA SET: World Development Indicator\n",
    "df = pd.read_csv(\"world_ind_pop_data.csv\")\n",
    "df.head()"
   ]
  },
  {
   "cell_type": "code",
   "execution_count": 53,
   "metadata": {},
   "outputs": [],
   "source": [
    "# Task: create a DataFrame, Given: row data in form of 'Lists of Lists' and\n",
    "# Column_name in another list 'feature_name'\n",
    "row_data = []\n",
    "row_data = [[ col for col in range(5)] for row in range(5)]\n",
    "feature_name = ['f1', 'f2', 'f3', 'f4', 'f5']"
   ]
  },
  {
   "cell_type": "code",
   "execution_count": 54,
   "metadata": {},
   "outputs": [],
   "source": [
    "def lists_to_dict(list1, list2):\n",
    "    \"\"\"Convert the lists to a dictionary, with keys = list1, values = list2\"\"\"\n",
    "    combine_list = zip(list1,list2)\n",
    "    return dict(combine_list)"
   ]
  },
  {
   "cell_type": "code",
   "execution_count": 55,
   "metadata": {},
   "outputs": [
    {
     "data": {
      "text/plain": [
       "[{'f1': 0, 'f2': 1, 'f3': 2, 'f4': 3, 'f5': 4},\n",
       " {'f1': 0, 'f2': 1, 'f3': 2, 'f4': 3, 'f5': 4},\n",
       " {'f1': 0, 'f2': 1, 'f3': 2, 'f4': 3, 'f5': 4},\n",
       " {'f1': 0, 'f2': 1, 'f3': 2, 'f4': 3, 'f5': 4},\n",
       " {'f1': 0, 'f2': 1, 'f3': 2, 'f4': 3, 'f5': 4}]"
      ]
     },
     "execution_count": 55,
     "metadata": {},
     "output_type": "execute_result"
    }
   ],
   "source": [
    "# create a list of dictionaries, where key = feature_name, value = data of the row\n",
    "list_of_dict = [ lists_to_dict(feature_name, sublist) for sublist in row_data]\n",
    "list_of_dict"
   ]
  },
  {
   "cell_type": "code",
   "execution_count": 56,
   "metadata": {},
   "outputs": [
    {
     "data": {
      "text/html": [
       "<div>\n",
       "<style scoped>\n",
       "    .dataframe tbody tr th:only-of-type {\n",
       "        vertical-align: middle;\n",
       "    }\n",
       "\n",
       "    .dataframe tbody tr th {\n",
       "        vertical-align: top;\n",
       "    }\n",
       "\n",
       "    .dataframe thead th {\n",
       "        text-align: right;\n",
       "    }\n",
       "</style>\n",
       "<table border=\"1\" class=\"dataframe\">\n",
       "  <thead>\n",
       "    <tr style=\"text-align: right;\">\n",
       "      <th></th>\n",
       "      <th>f1</th>\n",
       "      <th>f2</th>\n",
       "      <th>f3</th>\n",
       "      <th>f4</th>\n",
       "      <th>f5</th>\n",
       "    </tr>\n",
       "  </thead>\n",
       "  <tbody>\n",
       "    <tr>\n",
       "      <th>0</th>\n",
       "      <td>0</td>\n",
       "      <td>1</td>\n",
       "      <td>2</td>\n",
       "      <td>3</td>\n",
       "      <td>4</td>\n",
       "    </tr>\n",
       "    <tr>\n",
       "      <th>1</th>\n",
       "      <td>0</td>\n",
       "      <td>1</td>\n",
       "      <td>2</td>\n",
       "      <td>3</td>\n",
       "      <td>4</td>\n",
       "    </tr>\n",
       "    <tr>\n",
       "      <th>2</th>\n",
       "      <td>0</td>\n",
       "      <td>1</td>\n",
       "      <td>2</td>\n",
       "      <td>3</td>\n",
       "      <td>4</td>\n",
       "    </tr>\n",
       "    <tr>\n",
       "      <th>3</th>\n",
       "      <td>0</td>\n",
       "      <td>1</td>\n",
       "      <td>2</td>\n",
       "      <td>3</td>\n",
       "      <td>4</td>\n",
       "    </tr>\n",
       "    <tr>\n",
       "      <th>4</th>\n",
       "      <td>0</td>\n",
       "      <td>1</td>\n",
       "      <td>2</td>\n",
       "      <td>3</td>\n",
       "      <td>4</td>\n",
       "    </tr>\n",
       "  </tbody>\n",
       "</table>\n",
       "</div>"
      ],
      "text/plain": [
       "   f1  f2  f3  f4  f5\n",
       "0   0   1   2   3   4\n",
       "1   0   1   2   3   4\n",
       "2   0   1   2   3   4\n",
       "3   0   1   2   3   4\n",
       "4   0   1   2   3   4"
      ]
     },
     "execution_count": 56,
     "metadata": {},
     "output_type": "execute_result"
    }
   ],
   "source": [
    "# convert this list of dict to a dataFrame\n",
    "df = pd.DataFrame(list_of_dict)\n",
    "df"
   ]
  },
  {
   "cell_type": "code",
   "execution_count": 57,
   "metadata": {},
   "outputs": [],
   "source": [
    "# Task: \n",
    "# 1. Open a connection to file: 'world_ind_pop_data.csv' using \"with\" context manager\n",
    "# 2. process only first 1000 rows and create a dictionary to keep count of no. of times a country name appears.\n",
    "with open(\"world_ind_pop_data.csv\") as myfile:\n",
    "    myfile.readline() # skip the column names\n",
    "    count_dict = {}\n",
    "    for j in range(1000):\n",
    "        row_data = myfile.readline().split(\",\")\n",
    "        country_name = row_data[0]\n",
    "        if country_name in count_dict.keys():\n",
    "            count_dict[country_name] += 1\n",
    "        else:\n",
    "            count_dict[country_name] = 1\n",
    "# print(count_dict)"
   ]
  },
  {
   "cell_type": "code",
   "execution_count": 58,
   "metadata": {},
   "outputs": [],
   "source": [
    "# Note that when you open a connection to a file, the resulting file object is already a generator! \n",
    "# So out in the wild, you won't have to explicitly create generator objects in cases such as this"
   ]
  },
  {
   "cell_type": "code",
   "execution_count": 59,
   "metadata": {},
   "outputs": [],
   "source": [
    "# Creating a generator function to read the file line by line.\n",
    "def read_large_data(myfile_object):\n",
    "    \"\"\"generator function to read a large file lazily\"\"\"\n",
    "    while True:\n",
    "        data = myfile_object.readline()\n",
    "        if not data: # break if this is the end of file\n",
    "            break\n",
    "        else:\n",
    "            yield data"
   ]
  },
  {
   "cell_type": "code",
   "execution_count": 60,
   "metadata": {},
   "outputs": [
    {
     "name": "stdout",
     "output_type": "stream",
     "text": [
      "CountryName,CountryCode,Year,Total Population,Urban population (% of total)\n",
      "\n",
      "Arab World,ARB,1960,92495902.0,31.285384211605397\n",
      "\n"
     ]
    }
   ],
   "source": [
    "with open(\"world_ind_pop_data.csv\") as myfile:\n",
    "    generator_file = read_large_data(myfile) # generator object.\n",
    "    print(next(generator_file))\n",
    "    print(next(generator_file))"
   ]
  },
  {
   "cell_type": "code",
   "execution_count": 61,
   "metadata": {},
   "outputs": [
    {
     "name": "stdout",
     "output_type": "stream",
     "text": [
      "CountryName,CountryCode,Year,Total Population,Urban population (% of total)\n",
      "\n",
      "Arab World,ARB,1960,92495902.0,31.285384211605397\n",
      "\n"
     ]
    }
   ],
   "source": [
    "with open(\"world_ind_pop_data.csv\") as myfile:\n",
    "    print(next(myfile))\n",
    "    print(next(myfile))\n",
    "# because file object is itself a generator"
   ]
  },
  {
   "cell_type": "code",
   "execution_count": 62,
   "metadata": {},
   "outputs": [],
   "source": [
    "# Task: \n",
    "# 1. Open a connection to file: 'world_ind_pop_data.csv' using \"with\" context manager\n",
    "# 2. process all the rows (not only first 1000 rows) and create a dictionary to keep count of no. of times a country name appears.\n",
    "with open(\"world_ind_pop_data.csv\") as myfile:\n",
    "    myfile.readline() # skip the column names\n",
    "    count_dict = {}\n",
    "    for myline in read_large_data(myfile): # generator object is an iterator.\n",
    "        country_name = myline.split(\",\")[0]\n",
    "        if country_name in count_dict.keys():\n",
    "            count_dict[country_name] += 1\n",
    "        else:\n",
    "            count_dict[country_name] = 1\n",
    "# print(count_dict)"
   ]
  },
  {
   "cell_type": "code",
   "execution_count": 66,
   "metadata": {},
   "outputs": [
    {
     "name": "stderr",
     "output_type": "stream",
     "text": [
      "/home/manish/anaconda2/lib/python2.7/site-packages/ipykernel_launcher.py:18: SettingWithCopyWarning: \n",
      "A value is trying to be set on a copy of a slice from a DataFrame.\n",
      "Try using .loc[row_indexer,col_indexer] = value instead\n",
      "\n",
      "See the caveats in the documentation: http://pandas.pydata.org/pandas-docs/stable/indexing.html#indexing-view-versus-copy\n"
     ]
    },
    {
     "data": {
      "image/png": "[encoded data removed]",
      "text/plain": [
       "<Figure size 432x288 with 1 Axes>"
      ]
     },
     "metadata": {},
     "output_type": "display_data"
    }
   ],
   "source": [
    "# Task\n",
    "urb_pop_reader = pd.read_csv('world_ind_pop_data.csv', chunksize=1000) \n",
    "# urb_pop_reader is an iterable\n",
    "mydf = pd.DataFrame() # Empty data frame we will append to it\n",
    "for df_urb_pop in urb_pop_reader: # each time 1000 rows\n",
    "    \n",
    "    # only select rows with CountryCode == 'CEB', creating new data frame: df_pop_ceb\n",
    "    df_pop_ceb = df_urb_pop[ df_urb_pop['CountryCode'] == 'CEB']  # Advanced subsetting, using list of boolean\n",
    "    \n",
    "    # Zip DataFrame columns of interest: pops\n",
    "    pops = zip(df_pop_ceb['Total Population'],\n",
    "                df_pop_ceb['Urban population (% of total)'])\n",
    "\n",
    "    # Turn zip object into list: pops_list\n",
    "    pops_list = list(pops)\n",
    "\n",
    "    # Use list comprehension to create new DataFrame column 'Total Urban Population'\n",
    "    df_pop_ceb['Total Urban Population'] = [int(tup[0] * tup[1] * 0.01) for tup in pops_list]\n",
    "    mydf = mydf.append(df_pop_ceb) # append the data frame to main data frame 'mydf'\n",
    "    \n"
   ]
  },
  {
   "cell_type": "code",
   "execution_count": 67,
   "metadata": {},
   "outputs": [
    {
     "data": {
      "text/html": [
       "<div>\n",
       "<style scoped>\n",
       "    .dataframe tbody tr th:only-of-type {\n",
       "        vertical-align: middle;\n",
       "    }\n",
       "\n",
       "    .dataframe tbody tr th {\n",
       "        vertical-align: top;\n",
       "    }\n",
       "\n",
       "    .dataframe thead th {\n",
       "        text-align: right;\n",
       "    }\n",
       "</style>\n",
       "<table border=\"1\" class=\"dataframe\">\n",
       "  <thead>\n",
       "    <tr style=\"text-align: right;\">\n",
       "      <th></th>\n",
       "      <th>CountryName</th>\n",
       "      <th>CountryCode</th>\n",
       "      <th>Year</th>\n",
       "      <th>Total Population</th>\n",
       "      <th>Urban population (% of total)</th>\n",
       "      <th>Total Urban Population</th>\n",
       "    </tr>\n",
       "  </thead>\n",
       "  <tbody>\n",
       "    <tr>\n",
       "      <th>2</th>\n",
       "      <td>Central Europe and the Baltics</td>\n",
       "      <td>CEB</td>\n",
       "      <td>1960</td>\n",
       "      <td>91401583.0</td>\n",
       "      <td>44.507921</td>\n",
       "      <td>40680944</td>\n",
       "    </tr>\n",
       "    <tr>\n",
       "      <th>244</th>\n",
       "      <td>Central Europe and the Baltics</td>\n",
       "      <td>CEB</td>\n",
       "      <td>1961</td>\n",
       "      <td>92237118.0</td>\n",
       "      <td>45.206665</td>\n",
       "      <td>41697325</td>\n",
       "    </tr>\n",
       "    <tr>\n",
       "      <th>486</th>\n",
       "      <td>Central Europe and the Baltics</td>\n",
       "      <td>CEB</td>\n",
       "      <td>1962</td>\n",
       "      <td>93014890.0</td>\n",
       "      <td>45.866565</td>\n",
       "      <td>42662734</td>\n",
       "    </tr>\n",
       "    <tr>\n",
       "      <th>728</th>\n",
       "      <td>Central Europe and the Baltics</td>\n",
       "      <td>CEB</td>\n",
       "      <td>1963</td>\n",
       "      <td>93845749.0</td>\n",
       "      <td>46.534093</td>\n",
       "      <td>43670267</td>\n",
       "    </tr>\n",
       "    <tr>\n",
       "      <th>970</th>\n",
       "      <td>Central Europe and the Baltics</td>\n",
       "      <td>CEB</td>\n",
       "      <td>1964</td>\n",
       "      <td>94722599.0</td>\n",
       "      <td>47.208743</td>\n",
       "      <td>44717348</td>\n",
       "    </tr>\n",
       "  </tbody>\n",
       "</table>\n",
       "</div>"
      ],
      "text/plain": [
       "                        CountryName CountryCode  Year  Total Population  \\\n",
       "2    Central Europe and the Baltics         CEB  1960        91401583.0   \n",
       "244  Central Europe and the Baltics         CEB  1961        92237118.0   \n",
       "486  Central Europe and the Baltics         CEB  1962        93014890.0   \n",
       "728  Central Europe and the Baltics         CEB  1963        93845749.0   \n",
       "970  Central Europe and the Baltics         CEB  1964        94722599.0   \n",
       "\n",
       "     Urban population (% of total)  Total Urban Population  \n",
       "2                        44.507921                40680944  \n",
       "244                      45.206665                41697325  \n",
       "486                      45.866565                42662734  \n",
       "728                      46.534093                43670267  \n",
       "970                      47.208743                44717348  "
      ]
     },
     "execution_count": 67,
     "metadata": {},
     "output_type": "execute_result"
    }
   ],
   "source": [
    "mydf.head() # mydef contains data of CountryCode = CEB"
   ]
  },
  {
   "cell_type": "code",
   "execution_count": 68,
   "metadata": {},
   "outputs": [
    {
     "data": {
      "image/png": "[encoded data removed]",
      "text/plain": [
       "<Figure size 432x288 with 1 Axes>"
      ]
     },
     "metadata": {},
     "output_type": "display_data"
    }
   ],
   "source": [
    "# plot the data, x = year, y = Total Urban Population\n",
    "import matplotlib.pyplot as plt\n",
    "mydf.plot(x = 'Year', y = 'Total Urban Population', kind = 'scatter')\n",
    "# ANOTHER METHOD TO CREATE PLOT, METHOD OF DATAFRAME.\n",
    "plt.show()"
   ]
  },
  {
   "cell_type": "code",
   "execution_count": null,
   "metadata": {},
   "outputs": [],
   "source": [
    "# we can create a function to do all the above tasks repeatedly and can plot graph of different countries."
   ]
  }
 ],
 "metadata": {
  "kernelspec": {
   "display_name": "Python 3",
   "language": "python",
   "name": "python3"
  },
  "language_info": {
   "codemirror_mode": {
    "name": "ipython",
    "version": 3
   },
   "file_extension": ".py",
   "mimetype": "text/x-python",
   "name": "python",
   "nbconvert_exporter": "python",
   "pygments_lexer": "ipython3",
   "version": "3.7.1"
  }
 },
 "nbformat": 4,
 "nbformat_minor": 2
}
