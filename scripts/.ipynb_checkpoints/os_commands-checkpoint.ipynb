{
 "cells": [
  {
   "cell_type": "code",
   "execution_count": 1,
   "metadata": {},
   "outputs": [],
   "source": [
    "import os"
   ]
  },
  {
   "cell_type": "code",
   "execution_count": 2,
   "metadata": {},
   "outputs": [],
   "source": [
    "# os.walk(\"path\"): \n",
    "# os.walk() returns a list of three items. It contains the name of the root directory, \n",
    "# a list of the names of the subdirectories, and a list of the filenames in the current directory."
   ]
  },
  {
   "cell_type": "code",
   "execution_count": 5,
   "metadata": {},
   "outputs": [
    {
     "name": "stdout",
     "output_type": "stream",
     "text": [
      "Root: .\n",
      "Directories: ['.ipynb_checkpoints', 'matplotlib', 'linear-regression', 'normalization']\n",
      "filenames: ['try_out.ipynb', 'Natural_language_processing.ipynb', 'random_number.ipynb', 'contractions.py', 'python_datascience_toolbox.ipynb', 'sentence_classification_nltk.ipynb', 'os_commands.ipynb', 'bigrams.ipynb', 'xor_nn.ipynb', 'Python_tutorial_1.ipynb']\n",
      "Root: ./.ipynb_checkpoints\n",
      "Directories: []\n",
      "filenames: []\n",
      "Root: ./matplotlib\n",
      "Directories: []\n",
      "filenames: ['matplot_beginner.ipynb']\n",
      "Root: ./linear-regression\n",
      "Directories: []\n",
      "filenames: ['USA_housing_linear_regression.ipynb', 'USA_housing_linear_regression_py2.ipynb', 'Linear Regression_Saqib.ipynb']\n",
      "Root: ./normalization\n",
      "Directories: []\n",
      "filenames: ['myNormalization.ipynb', 'Normalization.ipynb']\n"
     ]
    }
   ],
   "source": [
    "for root, dirs, filenames in os.walk(\".\"):\n",
    "    print('Root:',root)\n",
    "    print('Directories:',dirs)\n",
    "    print('filenames:',filenames)"
   ]
  },
  {
   "cell_type": "code",
   "execution_count": null,
   "metadata": {},
   "outputs": [],
   "source": []
  }
 ],
 "metadata": {
  "kernelspec": {
   "display_name": "Python 3",
   "language": "python",
   "name": "python3"
  },
  "language_info": {
   "codemirror_mode": {
    "name": "ipython",
    "version": 3
   },
   "file_extension": ".py",
   "mimetype": "text/x-python",
   "name": "python",
   "nbconvert_exporter": "python",
   "pygments_lexer": "ipython3",
   "version": "3.7.1"
  }
 },
 "nbformat": 4,
 "nbformat_minor": 2
}
