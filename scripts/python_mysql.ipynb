{
 "cells": [
  {
   "cell_type": "code",
   "execution_count": 3,
   "metadata": {},
   "outputs": [],
   "source": [
    "import mysql.connector as sequel\n",
    "from mysql.connector import errorcode"
   ]
  },
  {
   "cell_type": "markdown",
   "metadata": {},
   "source": [
    "## Connection object \n",
    "    - To connect with mysql server"
   ]
  },
  {
   "cell_type": "code",
   "execution_count": 4,
   "metadata": {},
   "outputs": [],
   "source": [
    "cnx = sequel.connect(user='root', password='', host='localhost', database='model_repo')"
   ]
  },
  {
   "cell_type": "code",
   "execution_count": 5,
   "metadata": {},
   "outputs": [],
   "source": [
    "cnx.close()"
   ]
  },
  {
   "cell_type": "code",
   "execution_count": 6,
   "metadata": {},
   "outputs": [
    {
     "name": "stdout",
     "output_type": "stream",
     "text": [
      "Opening database\n",
      "Closing database\n"
     ]
    }
   ],
   "source": [
    "try:\n",
    "    print(\"Opening database\")\n",
    "    cnx = sequel.connect(user='root', password='', host='localhost', database='model_repo')\n",
    "except sequel.Error as err:\n",
    "    if err.errno == errorcode.ER_ACCESS_DENIED_ERROR:\n",
    "        print(\"Something is wrong with user name and password\")\n",
    "    elif err.errno == errorcode.ER_BAD_DB_ERROR:\n",
    "        print(\"Database doesn't exist\")\n",
    "    else:\n",
    "        print(\"error:\", err)\n",
    "else:\n",
    "    print(\"Closing database\")\n",
    "    cnx.close()"
   ]
  },
  {
   "cell_type": "code",
   "execution_count": 7,
   "metadata": {},
   "outputs": [],
   "source": [
    "DB_NAME = 'employees'\n",
    "\n",
    "TABLES = {}\n",
    "TABLES['employees'] = (\n",
    "    \"CREATE TABLE `employees` (\"\n",
    "    \"  `emp_no` int(11) NOT NULL AUTO_INCREMENT,\"\n",
    "    \"  `birth_date` date NOT NULL,\"\n",
    "    \"  `first_name` varchar(14) NOT NULL,\"\n",
    "    \"  `last_name` varchar(16) NOT NULL,\"\n",
    "    \"  `gender` enum('M','F') NOT NULL,\"\n",
    "    \"  `hire_date` date NOT NULL,\"\n",
    "    \"  PRIMARY KEY (`emp_no`)\"\n",
    "    \") ENGINE=InnoDB\")\n",
    "\n",
    "TABLES['departments'] = (\n",
    "    \"CREATE TABLE `departments` (\"\n",
    "    \"  `dept_no` char(4) NOT NULL,\"\n",
    "    \"  `dept_name` varchar(40) NOT NULL,\"\n",
    "    \"  PRIMARY KEY (`dept_no`), UNIQUE KEY `dept_name` (`dept_name`)\"\n",
    "    \") ENGINE=InnoDB\")\n",
    "\n",
    "TABLES['salaries'] = (\n",
    "    \"CREATE TABLE `salaries` (\"\n",
    "    \"  `emp_no` int(11) NOT NULL,\"\n",
    "    \"  `salary` int(11) NOT NULL,\"\n",
    "    \"  `from_date` date NOT NULL,\"\n",
    "    \"  `to_date` date NOT NULL,\"\n",
    "    \"  PRIMARY KEY (`emp_no`,`from_date`), KEY `emp_no` (`emp_no`),\"\n",
    "    \"  CONSTRAINT `salaries_ibfk_1` FOREIGN KEY (`emp_no`) \"\n",
    "    \"     REFERENCES `employees` (`emp_no`) ON DELETE CASCADE\"\n",
    "    \") ENGINE=InnoDB\")\n",
    "\n",
    "TABLES['dept_emp'] = (\n",
    "    \"CREATE TABLE `dept_emp` (\"\n",
    "    \"  `emp_no` int(11) NOT NULL,\"\n",
    "    \"  `dept_no` char(4) NOT NULL,\"\n",
    "    \"  `from_date` date NOT NULL,\"\n",
    "    \"  `to_date` date NOT NULL,\"\n",
    "    \"  PRIMARY KEY (`emp_no`,`dept_no`), KEY `emp_no` (`emp_no`),\"\n",
    "    \"  KEY `dept_no` (`dept_no`),\"\n",
    "    \"  CONSTRAINT `dept_emp_ibfk_1` FOREIGN KEY (`emp_no`) \"\n",
    "    \"     REFERENCES `employees` (`emp_no`) ON DELETE CASCADE,\"\n",
    "    \"  CONSTRAINT `dept_emp_ibfk_2` FOREIGN KEY (`dept_no`) \"\n",
    "    \"     REFERENCES `departments` (`dept_no`) ON DELETE CASCADE\"\n",
    "    \") ENGINE=InnoDB\")\n",
    "\n",
    "TABLES['dept_manager'] = (\n",
    "    \"  CREATE TABLE `dept_manager` (\"\n",
    "    \"  `emp_no` int(11) NOT NULL,\"\n",
    "    \"  `dept_no` char(4) NOT NULL,\"\n",
    "    \"  `from_date` date NOT NULL,\"\n",
    "    \"  `to_date` date NOT NULL,\"\n",
    "    \"  PRIMARY KEY (`emp_no`,`dept_no`),\"\n",
    "    \"  KEY `emp_no` (`emp_no`),\"\n",
    "    \"  KEY `dept_no` (`dept_no`),\"\n",
    "    \"  CONSTRAINT `dept_manager_ibfk_1` FOREIGN KEY (`emp_no`) \"\n",
    "    \"     REFERENCES `employees` (`emp_no`) ON DELETE CASCADE,\"\n",
    "    \"  CONSTRAINT `dept_manager_ibfk_2` FOREIGN KEY (`dept_no`) \"\n",
    "    \"     REFERENCES `departments` (`dept_no`) ON DELETE CASCADE\"\n",
    "    \") ENGINE=InnoDB\")\n",
    "\n",
    "TABLES['titles'] = (\n",
    "    \"CREATE TABLE `titles` (\"\n",
    "    \"  `emp_no` int(11) NOT NULL,\"\n",
    "    \"  `title` varchar(50) NOT NULL,\"\n",
    "    \"  `from_date` date NOT NULL,\"\n",
    "    \"  `to_date` date DEFAULT NULL,\"\n",
    "    \"  PRIMARY KEY (`emp_no`,`title`,`from_date`), KEY `emp_no` (`emp_no`),\"\n",
    "    \"  CONSTRAINT `titles_ibfk_1` FOREIGN KEY (`emp_no`)\"\n",
    "    \"     REFERENCES `employees` (`emp_no`) ON DELETE CASCADE\"\n",
    "    \") ENGINE=InnoDB\")"
   ]
  },
  {
   "cell_type": "markdown",
   "metadata": {},
   "source": [
    "## Cursor Object\n",
    "    - To perform DDL(data definition language) statements "
   ]
  },
  {
   "cell_type": "code",
   "execution_count": 8,
   "metadata": {},
   "outputs": [],
   "source": [
    "# connection object\n",
    "cnx = sequel.connect(user='root', host='localhost')"
   ]
  },
  {
   "cell_type": "code",
   "execution_count": 9,
   "metadata": {},
   "outputs": [],
   "source": [
    "# cursor object\n",
    "cursor = cnx.cursor()"
   ]
  },
  {
   "cell_type": "code",
   "execution_count": 20,
   "metadata": {},
   "outputs": [],
   "source": [
    "# Can execute DDL statements using the cursor\n",
    "# cursor.execute('')"
   ]
  },
  {
   "cell_type": "code",
   "execution_count": 21,
   "metadata": {},
   "outputs": [],
   "source": [
    "# Connecting to employees database, if doesn't. exist need to create it first"
   ]
  },
  {
   "cell_type": "code",
   "execution_count": 10,
   "metadata": {},
   "outputs": [],
   "source": [
    "def create_db(cursor):\n",
    "    print(\"Creating a new DB\")\n",
    "    try:\n",
    "        cursor.execute(f\"CREATE DATABASE {DB_NAME} DEFAULT CHARACTER SET 'utf8'\")\n",
    "    except sequel.Error as err:\n",
    "        print(\"Failed creating the database: \", err)"
   ]
  },
  {
   "cell_type": "code",
   "execution_count": 11,
   "metadata": {},
   "outputs": [
    {
     "name": "stdout",
     "output_type": "stream",
     "text": [
      "Now using the database:  employees\n"
     ]
    }
   ],
   "source": [
    "try:\n",
    "    cursor.execute(f\"USE {DB_NAME}\")\n",
    "    print(\"Now using the database: \", DB_NAME)\n",
    "    # create tables\n",
    "except sequel.Error as err:\n",
    "    print(\"Error occured while selecting database\")\n",
    "    if err.errno == errorcode.ER_BAD_DB_ERROR:\n",
    "        print(\"DB doesnot exists\")\n",
    "        # create db first \n",
    "        create_db(cursor)\n",
    "        print(\"DB successfully created\")\n",
    "        cnx.database=DB_NAME\n",
    "        pass\n",
    "    else:\n",
    "        print(err)"
   ]
  },
  {
   "cell_type": "code",
   "execution_count": 25,
   "metadata": {},
   "outputs": [
    {
     "name": "stdout",
     "output_type": "stream",
     "text": [
      "Creating table:  employees\n",
      "Table already exits\n",
      "Creating table:  departments\n",
      "Table already exits\n",
      "Creating table:  salaries\n",
      "Table already exits\n",
      "Creating table:  dept_emp\n",
      "Table already exits\n",
      "Creating table:  dept_manager\n",
      "Table already exits\n",
      "Creating table:  titles\n",
      "Table already exits\n"
     ]
    }
   ],
   "source": [
    "# Now creating tables \n",
    "# for name, description in TABLES.items():\n",
    "#     try:\n",
    "#         print(\"Creating table: \", name)\n",
    "#         cursor.execute(description)\n",
    "#     except sequel.Error as err:\n",
    "#         if err.errno == errorcode.ER_TABLE_EXISTS_ERROR:\n",
    "#             print(\"Table already exits\")\n",
    "#         else:\n",
    "#             print(\"Error occured: \",err)\n",
    "#     else:\n",
    "#         print(\"Table created successfully\")"
   ]
  },
  {
   "cell_type": "code",
   "execution_count": 12,
   "metadata": {},
   "outputs": [],
   "source": [
    "# Executing a simple query\n",
    "query = \"SELECT * FROM departments\""
   ]
  },
  {
   "cell_type": "code",
   "execution_count": 13,
   "metadata": {},
   "outputs": [],
   "source": [
    "cursor.execute(query)"
   ]
  },
  {
   "cell_type": "code",
   "execution_count": 14,
   "metadata": {},
   "outputs": [],
   "source": [
    "results = cursor.fetchall()"
   ]
  },
  {
   "cell_type": "code",
   "execution_count": 15,
   "metadata": {},
   "outputs": [
    {
     "name": "stdout",
     "output_type": "stream",
     "text": [
      "('d009', 'Customer Service')\n",
      "('d005', 'Development')\n",
      "('d002', 'Finance')\n",
      "('d003', 'Human Resources')\n",
      "('d001', 'Marketing')\n",
      "('d004', 'Production')\n",
      "('d006', 'Quality Management')\n",
      "('d008', 'Research')\n",
      "('d007', 'Sales')\n"
     ]
    }
   ],
   "source": [
    "for item in results:\n",
    "    print(item)"
   ]
  },
  {
   "cell_type": "code",
   "execution_count": 17,
   "metadata": {},
   "outputs": [],
   "source": [
    "# close the connections\n",
    "cursor.close()\n",
    "cnx.close()\n"
   ]
  },
  {
   "cell_type": "markdown",
   "metadata": {},
   "source": [
    "## Question \n",
    "1. When we create a connection object, it establishes the connection with DB.\n",
    "    - What is the bandwidth of this connection object ?\n",
    "    - Can we make parallel requests to this object ?\n",
    "    - Can we share this object with threads ?\n",
    "    - When did this connection object will close or throw some exception ?"
   ]
  },
  {
   "cell_type": "code",
   "execution_count": null,
   "metadata": {},
   "outputs": [],
   "source": []
  }
 ],
 "metadata": {
  "kernelspec": {
   "display_name": "Python 3",
   "language": "python",
   "name": "python3"
  },
  "language_info": {
   "codemirror_mode": {
    "name": "ipython",
    "version": 3
   },
   "file_extension": ".py",
   "mimetype": "text/x-python",
   "name": "python",
   "nbconvert_exporter": "python",
   "pygments_lexer": "ipython3",
   "version": "3.7.4"
  }
 },
 "nbformat": 4,
 "nbformat_minor": 4
}
