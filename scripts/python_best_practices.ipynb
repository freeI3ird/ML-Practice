{
 "cells": [
  {
   "cell_type": "markdown",
   "metadata": {},
   "source": [
    "## Checking empty lists and dictionaries\n",
    "    - Avoid doing if len(list1) > 0\n",
    "    - Use if list1:"
   ]
  },
  {
   "cell_type": "code",
   "execution_count": 1,
   "metadata": {},
   "outputs": [],
   "source": [
    "list1 = []\n",
    "dict1 = {}"
   ]
  },
  {
   "cell_type": "code",
   "execution_count": 2,
   "metadata": {},
   "outputs": [
    {
     "name": "stdout",
     "output_type": "stream",
     "text": [
      "List is empty\n"
     ]
    }
   ],
   "source": [
    "if list1:\n",
    "    print('List is not empty')\n",
    "else:\n",
    "    print('List is empty')"
   ]
  },
  {
   "cell_type": "code",
   "execution_count": 3,
   "metadata": {},
   "outputs": [
    {
     "name": "stdout",
     "output_type": "stream",
     "text": [
      "dict is empty\n"
     ]
    }
   ],
   "source": [
    "if dict1:\n",
    "    print('dict is not empty')\n",
    "else:\n",
    "    print('dict is empty')"
   ]
  },
  {
   "cell_type": "code",
   "execution_count": null,
   "metadata": {},
   "outputs": [],
   "source": []
  },
  {
   "cell_type": "markdown",
   "metadata": {},
   "source": [
    "## Dictionary .get() and .setdefault()\n",
    "- Use these methods instead of brackets to access the values of dictionary\n",
    "- Brackets may throw key error and break your program"
   ]
  },
  {
   "cell_type": "code",
   "execution_count": 1,
   "metadata": {},
   "outputs": [],
   "source": [
    "mydict = {'name': 'Manish', 'role': 'ML Engineer'}"
   ]
  },
  {
   "cell_type": "code",
   "execution_count": 2,
   "metadata": {},
   "outputs": [
    {
     "name": "stdout",
     "output_type": "stream",
     "text": [
      "Manish\n",
      "None\n",
      "rathi\n"
     ]
    }
   ],
   "source": [
    "print(mydict.get('name'))\n",
    "print(mydict.get('lastname'))\n",
    "print(mydict.get('lastname', 'rathi'))"
   ]
  },
  {
   "cell_type": "code",
   "execution_count": 3,
   "metadata": {},
   "outputs": [
    {
     "name": "stdout",
     "output_type": "stream",
     "text": [
      "None\n",
      "rathi\n"
     ]
    }
   ],
   "source": [
    "# .setdefault() set and return the value\n",
    "print(mydict.setdefault('age'))\n",
    "print(mydict.setdefault('lastname', 'rathi'))"
   ]
  },
  {
   "cell_type": "code",
   "execution_count": 5,
   "metadata": {},
   "outputs": [
    {
     "data": {
      "text/plain": [
       "{'name': 'Manish', 'role': 'ML Engineer', 'age': None, 'lastname': 'rathi'}"
      ]
     },
     "execution_count": 5,
     "metadata": {},
     "output_type": "execute_result"
    }
   ],
   "source": [
    "mydict"
   ]
  },
  {
   "cell_type": "markdown",
   "metadata": {},
   "source": [
    "## Merging Dictionaries \n",
    "1. `{**d1, **d2}`: If two keys are same in d1 and d2, values will be overlapped by later dictionary\n",
    "2. d1 | d2 : Python >=3.9"
   ]
  },
  {
   "cell_type": "code",
   "execution_count": 15,
   "metadata": {},
   "outputs": [
    {
     "data": {
      "text/plain": [
       "[{'name': 'Manish', 'age': 25},\n",
       " {'name': 'manish', 'age': 23},\n",
       " {'name': 'monika', 'age': 24},\n",
       " {'name': 'Ajay', 'age': 25},\n",
       " {'name': 'radha', 'age': 18},\n",
       " {'name': 'sneha', 'age': 16}]"
      ]
     },
     "execution_count": 15,
     "metadata": {},
     "output_type": "execute_result"
    }
   ],
   "source": [
    "mylist = [\n",
    "    {'name': 'Manish', 'age': 25}, \n",
    "    {'name': 'manish', 'age': 23},\n",
    "    {'name': 'monika', 'age': 24},\n",
    "    {'name': 'Ajay', 'age': 25},\n",
    "    {'name': 'radha', 'age': 18},\n",
    "    {'name': 'sneha', 'age': 16}\n",
    "]\n",
    "mylist"
   ]
  },
  {
   "cell_type": "markdown",
   "metadata": {},
   "source": [
    "## Sorting a list\n",
    "- mylist.sort(): inplace\n",
    "- sorted(mylist, key, reverse)"
   ]
  },
  {
   "cell_type": "code",
   "execution_count": 18,
   "metadata": {},
   "outputs": [
    {
     "data": {
      "text/plain": [
       "[{'name': 'Ajay', 'age': 25},\n",
       " {'name': 'manish', 'age': 23},\n",
       " {'name': 'Manish', 'age': 25},\n",
       " {'name': 'monika', 'age': 24},\n",
       " {'name': 'radha', 'age': 18},\n",
       " {'name': 'sneha', 'age': 16}]"
      ]
     },
     "execution_count": 18,
     "metadata": {},
     "output_type": "execute_result"
    }
   ],
   "source": [
    "sorted(mylist, key = lambda d: (d['name'].lower(), d['age']))"
   ]
  },
  {
   "cell_type": "code",
   "execution_count": 22,
   "metadata": {},
   "outputs": [],
   "source": [
    "mylist.sort(key = lambda d: (d['name'].lower(), d['age']))"
   ]
  },
  {
   "cell_type": "code",
   "execution_count": 23,
   "metadata": {},
   "outputs": [
    {
     "data": {
      "text/plain": [
       "[{'name': 'Ajay', 'age': 25},\n",
       " {'name': 'manish', 'age': 23},\n",
       " {'name': 'Manish', 'age': 25},\n",
       " {'name': 'monika', 'age': 24},\n",
       " {'name': 'radha', 'age': 18},\n",
       " {'name': 'sneha', 'age': 16}]"
      ]
     },
     "execution_count": 23,
     "metadata": {},
     "output_type": "execute_result"
    }
   ],
   "source": [
    "mylist"
   ]
  },
  {
   "cell_type": "markdown",
   "metadata": {},
   "source": [
    "## Managing Memory Usage\n",
    "- sys.getsizeof(object)\n",
    "- We can choose our constructs smartly by making use of this function"
   ]
  },
  {
   "cell_type": "code",
   "execution_count": 24,
   "metadata": {},
   "outputs": [],
   "source": [
    "import sys"
   ]
  },
  {
   "cell_type": "code",
   "execution_count": 25,
   "metadata": {},
   "outputs": [
    {
     "name": "stdout",
     "output_type": "stream",
     "text": [
      "120\n",
      "248\n"
     ]
    }
   ],
   "source": [
    "print(sys.getsizeof(mylist))\n",
    "print(sys.getsizeof(mydict))"
   ]
  },
  {
   "cell_type": "code",
   "execution_count": 26,
   "metadata": {},
   "outputs": [],
   "source": [
    "range_obj = range(1,10000)\n",
    "list_obj = [i for i in range(1,10000)]"
   ]
  },
  {
   "cell_type": "code",
   "execution_count": 27,
   "metadata": {},
   "outputs": [
    {
     "name": "stdout",
     "output_type": "stream",
     "text": [
      "48\n",
      "87632\n"
     ]
    }
   ],
   "source": [
    "print(sys.getsizeof(range_obj))\n",
    "print(sys.getsizeof(list_obj))\n"
   ]
  },
  {
   "cell_type": "markdown",
   "metadata": {},
   "source": [
    "## Comprehension: list/dict/generator\n",
    "1. list : []\n",
    "2. dict: {}\n",
    "3. generator: ()\n",
    "    - Generators are memory efficient"
   ]
  },
  {
   "cell_type": "code",
   "execution_count": 67,
   "metadata": {},
   "outputs": [],
   "source": [
    "f_list = None\n",
    "f_dict = None\n",
    "f_gen = None\n",
    "\n",
    "with open(\"./contractions.py\") as file:\n",
    "    f_list = [line for line in file]\n",
    "    \n",
    "with open(\"./contractions.py\") as file:\n",
    "    f_dict = {line: line for line in file}\n",
    "    \n",
    "with open(\"./contractions.py\") as file:\n",
    "    f_gen = (line for line in file)"
   ]
  },
  {
   "cell_type": "code",
   "execution_count": 66,
   "metadata": {},
   "outputs": [
    {
     "name": "stdout",
     "output_type": "stream",
     "text": [
      "120 120\n"
     ]
    }
   ],
   "source": [
    "print(len(f_list), len(f_dict))"
   ]
  },
  {
   "cell_type": "code",
   "execution_count": 68,
   "metadata": {},
   "outputs": [
    {
     "name": "stdout",
     "output_type": "stream",
     "text": [
      "1080 4712 128\n"
     ]
    }
   ],
   "source": [
    "print(sys.getsizeof(f_list), sys.getsizeof(f_dict), sys.getsizeof(f_gen))"
   ]
  },
  {
   "cell_type": "code",
   "execution_count": null,
   "metadata": {},
   "outputs": [],
   "source": []
  },
  {
   "cell_type": "markdown",
   "metadata": {},
   "source": [
    "## Data class"
   ]
  },
  {
   "cell_type": "markdown",
   "metadata": {},
   "source": [
    "## attrs package"
   ]
  },
  {
   "cell_type": "markdown",
   "metadata": {},
   "source": [
    "## Most frequently occuring value"
   ]
  },
  {
   "cell_type": "code",
   "execution_count": 45,
   "metadata": {},
   "outputs": [],
   "source": [
    "test = [1, 2, 3, 4, 2, 2, 3, 1, 4, 4, 4]"
   ]
  },
  {
   "cell_type": "code",
   "execution_count": 47,
   "metadata": {},
   "outputs": [
    {
     "data": {
      "text/plain": [
       "4"
      ]
     },
     "execution_count": 47,
     "metadata": {},
     "output_type": "execute_result"
    }
   ],
   "source": [
    "max(set(test), key = test.count)"
   ]
  },
  {
   "cell_type": "code",
   "execution_count": 38,
   "metadata": {},
   "outputs": [],
   "source": [
    "from collections import Counter"
   ]
  },
  {
   "cell_type": "code",
   "execution_count": 44,
   "metadata": {},
   "outputs": [
    {
     "data": {
      "text/plain": [
       "[(4, 4), (2, 3), (1, 2), (3, 2)]"
      ]
     },
     "execution_count": 44,
     "metadata": {},
     "output_type": "execute_result"
    }
   ],
   "source": [
    "Counter(test).most_common()"
   ]
  },
  {
   "cell_type": "markdown",
   "metadata": {},
   "source": [
    "## Best practices for functions \n",
    "1. Explicit and Meaning full names\n",
    "    - Function, local var, parameters must have meaning full names\n",
    "    - No need of comments or documentation when your function has meaning full names\n",
    "    \n",
    "2. Small and Single Purpose\n",
    "    - Functions should be kept small and perform a single operation\n",
    "    \n",
    "3. Default Arguments/Parameters\n",
    "    - Arguments which are stays same for most of cases are set as default argument.\n",
    "    - But when we need to change them, they are available. \n",
    "    - The purpose/logic of function can be changed by changing the default argument.\n",
    "    - `Never set value of default argument as Mutable Object`\n",
    "    \n",
    "4. Never return more than 3 values\n",
    "5. Consider Argument Validation\n",
    "6. **args, **kwargs\n",
    "    - Can make our function look clean\n",
    "    - Their use create lack of readability\n",
    "    - Try to use list as argument in place of `**args` and dictionary in place of `**kwargs`\n",
    "7. Responsible Documentation \n",
    "    - Always document the PUBLIC APIs properly\n",
    "    - Proper document\n",
    "        - Brief summary of intended operation in one sentence\n",
    "        - Input arguments type and explanation\n",
    "        - return value type and explanation"
   ]
  },
  {
   "cell_type": "code",
   "execution_count": 52,
   "metadata": {},
   "outputs": [],
   "source": [
    "# setting Mutabe object for default argument\n",
    "def add_items(item, items_list = []):\n",
    "    items_list.append(item)\n",
    "    return items_list"
   ]
  },
  {
   "cell_type": "code",
   "execution_count": 53,
   "metadata": {},
   "outputs": [
    {
     "data": {
      "text/plain": [
       "['peanut_butter']"
      ]
     },
     "execution_count": 53,
     "metadata": {},
     "output_type": "execute_result"
    }
   ],
   "source": [
    "add_items('peanut_butter')"
   ]
  },
  {
   "cell_type": "code",
   "execution_count": 54,
   "metadata": {},
   "outputs": [
    {
     "data": {
      "text/plain": [
       "['peanut_butter', 'whey_protien']"
      ]
     },
     "execution_count": 54,
     "metadata": {},
     "output_type": "execute_result"
    }
   ],
   "source": [
    "# here items_list contains value from previous call\n",
    "# The side effect is that the default argument is evaluated at the time of function declaration,\n",
    "# so a default mutable object is created and becomes part of the function. Whenever you call the \n",
    "# function using the default object, you’re essentially accessing the same mutable object associated\n",
    "# with the function, although your intention may be having the function to create a brand new object for you.\n",
    "add_items('whey_protien')"
   ]
  },
  {
   "cell_type": "markdown",
   "metadata": {},
   "source": [
    "## Generators \n",
    "    - Why they are m/m efficient"
   ]
  },
  {
   "cell_type": "markdown",
   "metadata": {},
   "source": [
    "## String Reversal \n",
    "- `stg[::-1]`\n",
    "\n",
    "### Check Palindrome\n",
    "- `stg == stg[::-1]`"
   ]
  },
  {
   "cell_type": "code",
   "execution_count": null,
   "metadata": {},
   "outputs": [],
   "source": []
  },
  {
   "cell_type": "markdown",
   "metadata": {},
   "source": [
    "### Swapping values\n",
    "- `a,b = b,a`\n",
    "\n",
    "### Creating list of definite size \n",
    "- `[0]*n`\n",
    "\n"
   ]
  },
  {
   "cell_type": "markdown",
   "metadata": {},
   "source": [
    "## Counter"
   ]
  },
  {
   "cell_type": "code",
   "execution_count": 1,
   "metadata": {},
   "outputs": [],
   "source": [
    "from collections import Counter"
   ]
  },
  {
   "cell_type": "code",
   "execution_count": 14,
   "metadata": {},
   "outputs": [],
   "source": [
    "mylist = [1, 2, 3, 3, 2, 4, 5, 1, 2, 6]\n",
    "\n",
    "stgA, stgB, stgC = 'abcde', 'edcba', 'abcdf'"
   ]
  },
  {
   "cell_type": "markdown",
   "metadata": {},
   "source": [
    "#### Find the Frequency of each element and most frequent  element"
   ]
  },
  {
   "cell_type": "code",
   "execution_count": 10,
   "metadata": {},
   "outputs": [
    {
     "data": {
      "text/plain": [
       "Counter({1: 2, 2: 3, 3: 2, 4: 1, 5: 1, 6: 1})"
      ]
     },
     "execution_count": 10,
     "metadata": {},
     "output_type": "execute_result"
    }
   ],
   "source": [
    "count_obj = Counter(mylist)\n",
    "count_obj"
   ]
  },
  {
   "cell_type": "code",
   "execution_count": 11,
   "metadata": {},
   "outputs": [
    {
     "data": {
      "text/plain": [
       "(2, 3)"
      ]
     },
     "execution_count": 11,
     "metadata": {},
     "output_type": "execute_result"
    }
   ],
   "source": [
    "# most frequent \n",
    "count_obj.most_common()[0]"
   ]
  },
  {
   "cell_type": "markdown",
   "metadata": {},
   "source": [
    "#### Check if 2 strings are anagrams\n",
    "- By comparing their counter objects"
   ]
  },
  {
   "cell_type": "code",
   "execution_count": 15,
   "metadata": {},
   "outputs": [
    {
     "name": "stdout",
     "output_type": "stream",
     "text": [
      "4493278480\n"
     ]
    },
    {
     "data": {
      "text/plain": [
       "Counter({'a': 1, 'b': 1, 'c': 1, 'd': 1, 'e': 1})"
      ]
     },
     "execution_count": 15,
     "metadata": {},
     "output_type": "execute_result"
    }
   ],
   "source": [
    "countA = Counter(stgA)\n",
    "print(id(countA))\n",
    "countA"
   ]
  },
  {
   "cell_type": "code",
   "execution_count": 16,
   "metadata": {},
   "outputs": [
    {
     "name": "stdout",
     "output_type": "stream",
     "text": [
      "4497174608\n"
     ]
    },
    {
     "data": {
      "text/plain": [
       "Counter({'e': 1, 'd': 1, 'c': 1, 'b': 1, 'a': 1})"
      ]
     },
     "execution_count": 16,
     "metadata": {},
     "output_type": "execute_result"
    }
   ],
   "source": [
    "countB = Counter(stgB)\n",
    "print(id(countB))\n",
    "countB"
   ]
  },
  {
   "cell_type": "code",
   "execution_count": 17,
   "metadata": {},
   "outputs": [
    {
     "name": "stdout",
     "output_type": "stream",
     "text": [
      "A and B are anangrams\n"
     ]
    }
   ],
   "source": [
    "if countA == countB:\n",
    "    print('A and B are anagrams')"
   ]
  },
  {
   "cell_type": "markdown",
   "metadata": {},
   "source": [
    "### Digitize a number"
   ]
  },
  {
   "cell_type": "code",
   "execution_count": 22,
   "metadata": {},
   "outputs": [],
   "source": [
    "num = 12345"
   ]
  },
  {
   "cell_type": "code",
   "execution_count": 23,
   "metadata": {},
   "outputs": [
    {
     "data": {
      "text/plain": [
       "[1, 2, 3, 4, 5]"
      ]
     },
     "execution_count": 23,
     "metadata": {},
     "output_type": "execute_result"
    }
   ],
   "source": [
    "digitize1 = [int(x) for x in str(num)]\n",
    "digitize1"
   ]
  },
  {
   "cell_type": "code",
   "execution_count": 24,
   "metadata": {},
   "outputs": [
    {
     "data": {
      "text/plain": [
       "['1', '2', '3', '4', '5']"
      ]
     },
     "execution_count": 24,
     "metadata": {},
     "output_type": "execute_result"
    }
   ],
   "source": [
    "digitize2 = list(str(num))\n",
    "digitize2"
   ]
  },
  {
   "cell_type": "code",
   "execution_count": 28,
   "metadata": {},
   "outputs": [
    {
     "data": {
      "text/plain": [
       "[1, 2, 3, 4, 5]"
      ]
     },
     "execution_count": 28,
     "metadata": {},
     "output_type": "execute_result"
    }
   ],
   "source": [
    "digitize3 = list(map(int, str(num)))\n",
    "digitize3"
   ]
  }
 ],
 "metadata": {
  "kernelspec": {
   "display_name": "Python 3",
   "language": "python",
   "name": "python3"
  },
  "language_info": {
   "codemirror_mode": {
    "name": "ipython",
    "version": 3
   },
   "file_extension": ".py",
   "mimetype": "text/x-python",
   "name": "python",
   "nbconvert_exporter": "python",
   "pygments_lexer": "ipython3",
   "version": "3.7.4"
  }
 },
 "nbformat": 4,
 "nbformat_minor": 4
}
