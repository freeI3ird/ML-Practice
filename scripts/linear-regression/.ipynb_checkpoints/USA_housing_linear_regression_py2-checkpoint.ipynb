{
 "cells": [
  {
   "cell_type": "code",
   "execution_count": 1,
   "metadata": {},
   "outputs": [],
   "source": [
    "import numpy as np\n",
    "import pandas as pd\n",
    "from sklearn.model_selection import train_test_split\n",
    "from sklearn.preprocessing import StandardScaler"
   ]
  },
  {
   "cell_type": "code",
   "execution_count": 2,
   "metadata": {},
   "outputs": [],
   "source": [
    "df = pd.read_csv('USA_Housing.csv')"
   ]
  },
  {
   "cell_type": "code",
   "execution_count": 3,
   "metadata": {},
   "outputs": [
    {
     "data": {
      "text/html": [
       "<div>\n",
       "<style scoped>\n",
       "    .dataframe tbody tr th:only-of-type {\n",
       "        vertical-align: middle;\n",
       "    }\n",
       "\n",
       "    .dataframe tbody tr th {\n",
       "        vertical-align: top;\n",
       "    }\n",
       "\n",
       "    .dataframe thead th {\n",
       "        text-align: right;\n",
       "    }\n",
       "</style>\n",
       "<table border=\"1\" class=\"dataframe\">\n",
       "  <thead>\n",
       "    <tr style=\"text-align: right;\">\n",
       "      <th></th>\n",
       "      <th>Avg. Area Income</th>\n",
       "      <th>Avg. Area House Age</th>\n",
       "      <th>Avg. Area Number of Rooms</th>\n",
       "      <th>Avg. Area Number of Bedrooms</th>\n",
       "      <th>Area Population</th>\n",
       "      <th>Price</th>\n",
       "      <th>Address</th>\n",
       "    </tr>\n",
       "  </thead>\n",
       "  <tbody>\n",
       "    <tr>\n",
       "      <th>0</th>\n",
       "      <td>79545.458574</td>\n",
       "      <td>5.682861</td>\n",
       "      <td>7.009188</td>\n",
       "      <td>4.09</td>\n",
       "      <td>23086.800503</td>\n",
       "      <td>1.059034e+06</td>\n",
       "      <td>208 Michael Ferry Apt. 674\\nLaurabury, NE 3701...</td>\n",
       "    </tr>\n",
       "    <tr>\n",
       "      <th>1</th>\n",
       "      <td>79248.642455</td>\n",
       "      <td>6.002900</td>\n",
       "      <td>6.730821</td>\n",
       "      <td>3.09</td>\n",
       "      <td>40173.072174</td>\n",
       "      <td>1.505891e+06</td>\n",
       "      <td>188 Johnson Views Suite 079\\nLake Kathleen, CA...</td>\n",
       "    </tr>\n",
       "    <tr>\n",
       "      <th>2</th>\n",
       "      <td>61287.067179</td>\n",
       "      <td>5.865890</td>\n",
       "      <td>8.512727</td>\n",
       "      <td>5.13</td>\n",
       "      <td>36882.159400</td>\n",
       "      <td>1.058988e+06</td>\n",
       "      <td>9127 Elizabeth Stravenue\\nDanieltown, WI 06482...</td>\n",
       "    </tr>\n",
       "    <tr>\n",
       "      <th>3</th>\n",
       "      <td>63345.240046</td>\n",
       "      <td>7.188236</td>\n",
       "      <td>5.586729</td>\n",
       "      <td>3.26</td>\n",
       "      <td>34310.242831</td>\n",
       "      <td>1.260617e+06</td>\n",
       "      <td>USS Barnett\\nFPO AP 44820</td>\n",
       "    </tr>\n",
       "    <tr>\n",
       "      <th>4</th>\n",
       "      <td>59982.197226</td>\n",
       "      <td>5.040555</td>\n",
       "      <td>7.839388</td>\n",
       "      <td>4.23</td>\n",
       "      <td>26354.109472</td>\n",
       "      <td>6.309435e+05</td>\n",
       "      <td>USNS Raymond\\nFPO AE 09386</td>\n",
       "    </tr>\n",
       "  </tbody>\n",
       "</table>\n",
       "</div>"
      ],
      "text/plain": [
       "   Avg. Area Income  Avg. Area House Age  Avg. Area Number of Rooms  \\\n",
       "0      79545.458574             5.682861                   7.009188   \n",
       "1      79248.642455             6.002900                   6.730821   \n",
       "2      61287.067179             5.865890                   8.512727   \n",
       "3      63345.240046             7.188236                   5.586729   \n",
       "4      59982.197226             5.040555                   7.839388   \n",
       "\n",
       "   Avg. Area Number of Bedrooms  Area Population         Price  \\\n",
       "0                          4.09     23086.800503  1.059034e+06   \n",
       "1                          3.09     40173.072174  1.505891e+06   \n",
       "2                          5.13     36882.159400  1.058988e+06   \n",
       "3                          3.26     34310.242831  1.260617e+06   \n",
       "4                          4.23     26354.109472  6.309435e+05   \n",
       "\n",
       "                                             Address  \n",
       "0  208 Michael Ferry Apt. 674\\nLaurabury, NE 3701...  \n",
       "1  188 Johnson Views Suite 079\\nLake Kathleen, CA...  \n",
       "2  9127 Elizabeth Stravenue\\nDanieltown, WI 06482...  \n",
       "3                          USS Barnett\\nFPO AP 44820  \n",
       "4                         USNS Raymond\\nFPO AE 09386  "
      ]
     },
     "execution_count": 3,
     "metadata": {},
     "output_type": "execute_result"
    }
   ],
   "source": [
    "df.head()"
   ]
  },
  {
   "cell_type": "code",
   "execution_count": 4,
   "metadata": {},
   "outputs": [],
   "source": [
    "df.columns = ['income', 'age', 'rooms', 'bedrooms', 'population', 'price', 'address']"
   ]
  },
  {
   "cell_type": "code",
   "execution_count": 5,
   "metadata": {},
   "outputs": [
    {
     "data": {
      "text/html": [
       "<div>\n",
       "<style scoped>\n",
       "    .dataframe tbody tr th:only-of-type {\n",
       "        vertical-align: middle;\n",
       "    }\n",
       "\n",
       "    .dataframe tbody tr th {\n",
       "        vertical-align: top;\n",
       "    }\n",
       "\n",
       "    .dataframe thead th {\n",
       "        text-align: right;\n",
       "    }\n",
       "</style>\n",
       "<table border=\"1\" class=\"dataframe\">\n",
       "  <thead>\n",
       "    <tr style=\"text-align: right;\">\n",
       "      <th></th>\n",
       "      <th>income</th>\n",
       "      <th>age</th>\n",
       "      <th>rooms</th>\n",
       "      <th>bedrooms</th>\n",
       "      <th>population</th>\n",
       "      <th>price</th>\n",
       "      <th>address</th>\n",
       "    </tr>\n",
       "  </thead>\n",
       "  <tbody>\n",
       "    <tr>\n",
       "      <th>0</th>\n",
       "      <td>79545.458574</td>\n",
       "      <td>5.682861</td>\n",
       "      <td>7.009188</td>\n",
       "      <td>4.09</td>\n",
       "      <td>23086.800503</td>\n",
       "      <td>1.059034e+06</td>\n",
       "      <td>208 Michael Ferry Apt. 674\\nLaurabury, NE 3701...</td>\n",
       "    </tr>\n",
       "    <tr>\n",
       "      <th>1</th>\n",
       "      <td>79248.642455</td>\n",
       "      <td>6.002900</td>\n",
       "      <td>6.730821</td>\n",
       "      <td>3.09</td>\n",
       "      <td>40173.072174</td>\n",
       "      <td>1.505891e+06</td>\n",
       "      <td>188 Johnson Views Suite 079\\nLake Kathleen, CA...</td>\n",
       "    </tr>\n",
       "    <tr>\n",
       "      <th>2</th>\n",
       "      <td>61287.067179</td>\n",
       "      <td>5.865890</td>\n",
       "      <td>8.512727</td>\n",
       "      <td>5.13</td>\n",
       "      <td>36882.159400</td>\n",
       "      <td>1.058988e+06</td>\n",
       "      <td>9127 Elizabeth Stravenue\\nDanieltown, WI 06482...</td>\n",
       "    </tr>\n",
       "    <tr>\n",
       "      <th>3</th>\n",
       "      <td>63345.240046</td>\n",
       "      <td>7.188236</td>\n",
       "      <td>5.586729</td>\n",
       "      <td>3.26</td>\n",
       "      <td>34310.242831</td>\n",
       "      <td>1.260617e+06</td>\n",
       "      <td>USS Barnett\\nFPO AP 44820</td>\n",
       "    </tr>\n",
       "    <tr>\n",
       "      <th>4</th>\n",
       "      <td>59982.197226</td>\n",
       "      <td>5.040555</td>\n",
       "      <td>7.839388</td>\n",
       "      <td>4.23</td>\n",
       "      <td>26354.109472</td>\n",
       "      <td>6.309435e+05</td>\n",
       "      <td>USNS Raymond\\nFPO AE 09386</td>\n",
       "    </tr>\n",
       "  </tbody>\n",
       "</table>\n",
       "</div>"
      ],
      "text/plain": [
       "         income       age     rooms  bedrooms    population         price  \\\n",
       "0  79545.458574  5.682861  7.009188      4.09  23086.800503  1.059034e+06   \n",
       "1  79248.642455  6.002900  6.730821      3.09  40173.072174  1.505891e+06   \n",
       "2  61287.067179  5.865890  8.512727      5.13  36882.159400  1.058988e+06   \n",
       "3  63345.240046  7.188236  5.586729      3.26  34310.242831  1.260617e+06   \n",
       "4  59982.197226  5.040555  7.839388      4.23  26354.109472  6.309435e+05   \n",
       "\n",
       "                                             address  \n",
       "0  208 Michael Ferry Apt. 674\\nLaurabury, NE 3701...  \n",
       "1  188 Johnson Views Suite 079\\nLake Kathleen, CA...  \n",
       "2  9127 Elizabeth Stravenue\\nDanieltown, WI 06482...  \n",
       "3                          USS Barnett\\nFPO AP 44820  \n",
       "4                         USNS Raymond\\nFPO AE 09386  "
      ]
     },
     "execution_count": 5,
     "metadata": {},
     "output_type": "execute_result"
    }
   ],
   "source": [
    "df.head()"
   ]
  },
  {
   "cell_type": "code",
   "execution_count": 6,
   "metadata": {},
   "outputs": [
    {
     "name": "stdout",
     "output_type": "stream",
     "text": [
      "(5000, 5)\n",
      "[[7.95454586e+04 5.68286132e+00 7.00918814e+00 4.09000000e+00\n",
      "  2.30868005e+04]\n",
      " [7.92486425e+04 6.00289981e+00 6.73082102e+00 3.09000000e+00\n",
      "  4.01730722e+04]\n",
      " [6.12870672e+04 5.86588984e+00 8.51272743e+00 5.13000000e+00\n",
      "  3.68821594e+04]\n",
      " ...\n",
      " [6.33906869e+04 7.25059061e+00 4.80508098e+00 2.13000000e+00\n",
      "  3.32661455e+04]\n",
      " [6.80013312e+04 5.53438842e+00 7.13014386e+00 5.44000000e+00\n",
      "  4.26256202e+04]\n",
      " [6.55105818e+04 5.99230531e+00 6.79233610e+00 4.07000000e+00\n",
      "  4.65012838e+04]]\n"
     ]
    }
   ],
   "source": [
    "X = df[['income', 'age', 'rooms', 'bedrooms', 'population']]  # X = feature matrix, shape = m*n,\n",
    "X = np.array(X)\n",
    "print(X.shape)\n",
    "print(X)"
   ]
  },
  {
   "cell_type": "code",
   "execution_count": 7,
   "metadata": {},
   "outputs": [
    {
     "name": "stdout",
     "output_type": "stream",
     "text": [
      "[[ 1.02865969 -0.29692705  0.02127433  0.08806222 -1.31759867]\n",
      " [ 1.00080775  0.02590164 -0.25550611 -0.72230146  0.40399945]\n",
      " [-0.68462916 -0.11230283  1.5162435   0.93084045  0.07240989]\n",
      " [-0.49149907  1.22157207 -1.39307717 -0.58453963 -0.18673422]\n",
      " [-0.80707253 -0.94483368  0.84674187  0.20151314 -0.98838741]]\n"
     ]
    }
   ],
   "source": [
    "# Normalize data with mean = 0 and std dev = 1\n",
    "# Feature Scaling is important\n",
    "scaler = StandardScaler()\n",
    "scaler.fit(X)\n",
    "X  = scaler.transform(X)\n",
    "print(X[:5,:5])"
   ]
  },
  {
   "cell_type": "code",
   "execution_count": 8,
   "metadata": {},
   "outputs": [
    {
     "name": "stdout",
     "output_type": "stream",
     "text": [
      "(5000,)\n",
      "[1059033.55787012 1505890.91484695 1058987.98787608 ... 1030729.58315229\n",
      " 1198656.87240769 1298950.48026696]\n"
     ]
    }
   ],
   "source": [
    "y = df['price']   # y = true label, shape = m*1\n",
    "y = np.array(y)\n",
    "print(y.shape)\n",
    "print(y)"
   ]
  },
  {
   "cell_type": "code",
   "execution_count": 9,
   "metadata": {},
   "outputs": [],
   "source": [
    "# m = No. of training examples = 5000\n",
    "# n = No. of features = 5\n",
    "m = 5000\n",
    "n = 5"
   ]
  },
  {
   "cell_type": "code",
   "execution_count": 10,
   "metadata": {},
   "outputs": [],
   "source": [
    "x_train, x_test, y_train, y_test = train_test_split(X, y, test_size = 0.20, random_state = 42)"
   ]
  },
  {
   "cell_type": "code",
   "execution_count": 11,
   "metadata": {},
   "outputs": [
    {
     "name": "stdout",
     "output_type": "stream",
     "text": [
      "((4000, 5), (4000,))\n",
      "((1000, 5), (1000,))\n"
     ]
    }
   ],
   "source": [
    "print(x_train.shape,y_train.shape)\n",
    "print(x_test.shape, y_test.shape)"
   ]
  },
  {
   "cell_type": "code",
   "execution_count": 12,
   "metadata": {},
   "outputs": [
    {
     "name": "stdout",
     "output_type": "stream",
     "text": [
      "[[2 1]\n",
      " [3 4]]\n",
      "[[2 3]\n",
      " [1 4]]\n"
     ]
    }
   ],
   "source": [
    "np.matmul([[2, 1],[2, 1]], [[1, 2], [3, 2]])  # matrix multiplication\n",
    "np.dot([2, 1], [3, 2])  # dot product\n",
    "a = np.array([[2, 1], [3, 4]])\n",
    "print(a)\n",
    "print(a.transpose())  # numpy array transpose"
   ]
  },
  {
   "cell_type": "code",
   "execution_count": 13,
   "metadata": {},
   "outputs": [],
   "source": [
    "alpha = 0.01   # learning rate"
   ]
  },
  {
   "cell_type": "code",
   "execution_count": 14,
   "metadata": {},
   "outputs": [],
   "source": [
    "def rss(X, y, w):\n",
    "    residue =(np.matmul(X, w) - y)\n",
    "    residue_sq = residue**2\n",
    "    residue_sq_sum = np.sum( residue_sq)\n",
    "    return np.sqrt(residue_sq_sum)"
   ]
  },
  {
   "cell_type": "code",
   "execution_count": 15,
   "metadata": {},
   "outputs": [],
   "source": [
    "def rs(X, y, w):\n",
    "    residue =(np.matmul(X, w) - y)\n",
    "    residue_sq = residue**2\n",
    "    return residue_sq"
   ]
  },
  {
   "cell_type": "code",
   "execution_count": 16,
   "metadata": {},
   "outputs": [
    {
     "name": "stdout",
     "output_type": "stream",
     "text": [
      "[0. 0. 0. 0. 0.]\n",
      "(5,)\n"
     ]
    }
   ],
   "source": [
    "weights = np.zeros(shape = (n,))  # w = weight vector, shape = n*1\n",
    "print(weights)\n",
    "print(weights.shape)"
   ]
  },
  {
   "cell_type": "code",
   "execution_count": 17,
   "metadata": {},
   "outputs": [],
   "source": [
    "epochs = 200\n",
    "cost = []"
   ]
  },
  {
   "cell_type": "code",
   "execution_count": 18,
   "metadata": {},
   "outputs": [],
   "source": [
    "from sklearn.linear_model import LinearRegression\n",
    "lin_reg = LinearRegression()"
   ]
  },
  {
   "cell_type": "code",
   "execution_count": 19,
   "metadata": {},
   "outputs": [
    {
     "data": {
      "text/plain": [
       "array([230745.9407329 , 163243.2731459 , 120309.77397939,   3011.45976047,\n",
       "       151552.63069253])"
      ]
     },
     "execution_count": 19,
     "metadata": {},
     "output_type": "execute_result"
    }
   ],
   "source": [
    "lin_reg.fit(x_train, y_train)\n",
    "lin_reg.coef_\n",
    "# lin_reg.predict(x_test)\n"
   ]
  },
  {
   "cell_type": "code",
   "execution_count": 20,
   "metadata": {},
   "outputs": [
    {
     "name": "stdout",
     "output_type": "stream",
     "text": [
      "('loss: ', 80809323.44385682)\n",
      "('loss: ', 80705601.10696253)\n",
      "('loss: ', 80606007.95617588)\n",
      "('loss: ', 80510379.52661873)\n",
      "('loss: ', 80418557.78571165)\n",
      "('loss: ', 80330390.89611264)\n",
      "('loss: ', 80245732.98602863)\n",
      "('loss: ', 80164443.92678866)\n",
      "('loss: ', 80086389.11755885)\n",
      "('loss: ', 80011439.27707116)\n",
      "('loss: ', 79939470.24223064)\n",
      "('loss: ', 79870362.77346064)\n",
      "('loss: ', 79804002.36663961)\n",
      "('loss: ', 79740279.07147975)\n",
      "('loss: ', 79679087.31619406)\n",
      "('loss: ', 79620325.73829627)\n",
      "('loss: ', 79563897.02137594)\n",
      "('loss: ', 79509707.73769009)\n",
      "('loss: ', 79457668.19641212)\n",
      "('loss: ', 79407692.2973788)\n",
      "('loss: ', 79359697.3901765)\n",
      "('loss: ', 79313604.1384088)\n",
      "('loss: ', 79269336.38898851)\n",
      "('loss: ', 79226821.04629976)\n",
      "('loss: ', 79185987.95107614)\n",
      "('loss: ', 79146769.76384476)\n",
      "('loss: ', 79109101.85278746)\n",
      "('loss: ', 79072922.18587297)\n",
      "('loss: ', 79038171.22711757)\n",
      "('loss: ', 79004791.83683367)\n",
      "('loss: ', 78972729.17572945)\n",
      "('loss: ', 78941930.61272563)\n",
      "('loss: ', 78912345.63635863)\n",
      "('loss: ', 78883925.76964302)\n",
      "('loss: ', 78856624.48826896)\n",
      "('loss: ', 78830397.14201418)\n",
      "('loss: ', 78805200.8792532)\n",
      "('loss: ', 78780994.5744499)\n",
      "('loss: ', 78757738.75852294)\n",
      "('loss: ', 78735395.55197687)\n",
      "('loss: ', 78713928.60069509)\n",
      "('loss: ', 78693303.01429412)\n",
      "('loss: ', 78673485.30694184)\n",
      "('loss: ', 78654443.34054565)\n",
      "('loss: ', 78636146.2702193)\n",
      "('loss: ', 78618564.49194083)\n",
      "('loss: ', 78601669.5923165)\n",
      "('loss: ', 78585434.30036853)\n",
      "('loss: ', 78569832.44126812)\n",
      "('loss: ', 78554838.89193688)\n",
      "('loss: ', 78540429.53844346)\n",
      "('loss: ', 78526581.2351244)\n",
      "('loss: ', 78513271.76536082)\n",
      "('loss: ', 78500479.80394542)\n",
      "('loss: ', 78488184.88097607)\n",
      "('loss: ', 78476367.34721538)\n",
      "('loss: ', 78465008.34085746)\n",
      "('loss: ', 78454089.75564513)\n",
      "('loss: ', 78443594.21028395)\n",
      "('loss: ', 78433505.01910011)\n",
      "('loss: ', 78423806.16389263)\n",
      "('loss: ', 78414482.26693097)\n",
      "('loss: ', 78405518.56505251)\n",
      "('loss: ', 78396900.88481438)\n",
      "('loss: ', 78388615.6186578)\n",
      "('loss: ', 78380649.7020429)\n",
      "('loss: ', 78372990.59151532)\n",
      "('loss: ', 78365626.2436662)\n",
      "('loss: ', 78358545.09494925)\n",
      "('loss: ', 78351736.04231992)\n",
      "('loss: ', 78345188.42466345)\n",
      "('loss: ', 78338892.00497887)\n",
      "('loss: ', 78332836.9532889)\n",
      "('loss: ', 78327013.83024539)\n",
      "('loss: ', 78321413.57140236)\n",
      "('loss: ', 78316027.47212876)\n",
      "('loss: ', 78310847.17313558)\n",
      "('loss: ', 78305864.64659105)\n",
      "('loss: ', 78301072.18280108)\n",
      "('loss: ', 78296462.37743074)\n",
      "('loss: ', 78292028.11924517)\n",
      "('loss: ', 78287762.57834865)\n",
      "('loss: ', 78283659.1949011)\n",
      "('loss: ', 78279711.66829263)\n",
      "('loss: ', 78275913.94675758)\n",
      "('loss: ', 78272260.21740966)\n",
      "('loss: ', 78268744.89668106)\n",
      "('loss: ', 78265362.62114926)\n",
      "('loss: ', 78262108.2387353)\n",
      "('loss: ', 78258976.80025847)\n",
      "('loss: ', 78255963.5513328)\n",
      "('loss: ', 78253063.9245914)\n",
      "('loss: ', 78250273.53222522)\n",
      "('loss: ', 78247588.15882322)\n",
      "('loss: ', 78245003.75450201)\n",
      "('loss: ', 78242516.4283126)\n",
      "('loss: ', 78240122.44191347)\n",
      "('loss: ', 78237818.20349859)\n",
      "('loss: ', 78235600.26197045)\n",
      "('loss: ', 78233465.30134766)\n",
      "('loss: ', 78231410.13539797)\n",
      "('loss: ', 78229431.70248708)\n",
      "('loss: ', 78227527.06063485)\n",
      "('loss: ', 78225693.38277027)\n",
      "('loss: ', 78223927.95217694)\n",
      "('loss: ', 78222228.15812176)\n",
      "('loss: ', 78220591.49165876)\n",
      "('loss: ', 78219015.54160158)\n",
      "('loss: ', 78217497.99065724)\n",
      "('loss: ', 78216036.61171502)\n",
      "('loss: ', 78214629.26428378)\n",
      "('loss: ', 78213273.8910721)\n",
      "('loss: ', 78211968.51470518)\n",
      "('loss: ', 78210711.23457299)\n",
      "('loss: ', 78209500.22380443)\n",
      "('loss: ', 78208333.72636232)\n",
      "('loss: ', 78207210.05425447)\n",
      "('loss: ', 78206127.58485591)\n",
      "('loss: ', 78205084.75833793)\n",
      "('loss: ', 78204080.07519971)\n",
      "('loss: ', 78203112.09389812)\n",
      "('loss: ', 78202179.42857197)\n",
      "('loss: ', 78201280.74685688)\n",
      "('loss: ', 78200414.76778692)\n",
      "('loss: ', 78199580.25977975)\n",
      "('loss: ', 78198776.0387018)\n",
      "('loss: ', 78198000.9660103)\n",
      "('loss: ', 78197253.94696894)\n",
      "('loss: ', 78196533.92893444)\n",
      "('loss: ', 78195839.89971098)\n",
      "('loss: ', 78195170.88596983)\n",
      "('loss: ', 78194525.95173159)\n",
      "('loss: ', 78193904.19690847)\n",
      "('loss: ', 78193304.75590429)\n",
      "('loss: ', 78192726.79626979)\n",
      "('loss: ', 78192169.51741111)\n",
      "('loss: ', 78191632.14934927)\n",
      "('loss: ', 78191113.95152861)\n",
      "('loss: ', 78190614.21167225)\n",
      "('loss: ', 78190132.24468276)\n",
      "('loss: ', 78189667.391586)\n",
      "('loss: ', 78189219.01851678)\n",
      "('loss: ', 78188786.51574424)\n",
      "('loss: ', 78188369.29673578)\n",
      "('loss: ', 78187966.79725766)\n",
      "('loss: ', 78187578.47451107)\n",
      "('loss: ', 78187203.80630209)\n",
      "('loss: ', 78186842.29024427)\n",
      "('loss: ', 78186493.44299251)\n",
      "('loss: ', 78186156.79950695)\n",
      "('loss: ', 78185831.91234584)\n",
      "('loss: ', 78185518.35098605)\n",
      "('loss: ', 78185215.70117016)\n",
      "('loss: ', 78184923.56427921)\n",
      "('loss: ', 78184641.55672999)\n",
      "('loss: ', 78184369.30939573)\n",
      "('loss: ', 78184106.46704976)\n",
      "('loss: ', 78183852.6878306)\n",
      "('loss: ', 78183607.6427281)\n",
      "('loss: ', 78183371.01508969)\n",
      "('loss: ', 78183142.50014569)\n",
      "('loss: ', 78182921.80455333)\n",
      "('loss: ', 78182708.64595851)\n",
      "('loss: ', 78182502.75257456)\n",
      "('loss: ', 78182303.86277735)\n",
      "('loss: ', 78182111.72471642)\n",
      "('loss: ', 78181926.09594095)\n",
      "('loss: ', 78181746.74304041)\n",
      "('loss: ', 78181573.44129919)\n",
      "('loss: ', 78181405.97436453)\n",
      "('loss: ', 78181244.1339275)\n",
      "('loss: ', 78181087.71941623)\n",
      "('loss: ', 78180936.5377011)\n",
      "('loss: ', 78180790.40281136)\n",
      "('loss: ', 78180649.13566265)\n",
      "('loss: ', 78180512.56379516)\n",
      "('loss: ', 78180380.52112196)\n",
      "('loss: ', 78180252.8476869)\n",
      "('loss: ', 78180129.389432)\n",
      "('loss: ', 78180009.99797384)\n",
      "('loss: ', 78179894.53038847)\n",
      "('loss: ', 78179782.84900478)\n",
      "('loss: ', 78179674.82120565)\n",
      "('loss: ', 78179570.31923696)\n",
      "('loss: ', 78179469.22002389)\n",
      "('loss: ', 78179371.40499415)\n",
      "('loss: ', 78179276.75990827)\n",
      "('loss: ', 78179185.17469627)\n",
      "('loss: ', 78179096.54330058)\n",
      "('loss: ', 78179010.76352511)\n",
      "('loss: ', 78178927.73689002)\n",
      "('loss: ', 78178847.3684921)\n",
      "('loss: ', 78178769.56687053)\n",
      "('loss: ', 78178694.24387777)\n",
      "('loss: ', 78178621.31455539)\n",
      "('loss: ', 78178550.69701463)\n",
      "('loss: ', 78178482.31232157)\n",
      "('loss: ', 78178416.08438675)\n",
      "('loss: ', 78178351.93985884)\n",
      "('loss: ', 78178289.80802254)\n",
      "[226085.36552061 155014.70879264 100987.58871053  16337.25795724\n",
      " 141024.97929636]\n",
      "('loss: ', 78178289.80802254)\n"
     ]
    }
   ],
   "source": [
    "for i in range(epochs):\n",
    "    xT = x_train.transpose()\n",
    "    tmp1 = np.matmul(x_train,weights) - y_train\n",
    "    tmp2 = np.matmul(xT, tmp1)\n",
    "    #print(weights)\n",
    "    #print(np.matmul(x_train,weights))\n",
    "    weights = weights - (alpha*(2*tmp2))/len(x_train)\n",
    "    loss = rss(x_train, y_train, weights)\n",
    "    cost.append(loss)\n",
    "    print('loss: ', loss)\n",
    "    \n",
    "    #print(weights)\n",
    "print(weights)\n",
    "print('loss: ', rss(x_train, y_train, weights))"
   ]
  },
  {
   "cell_type": "code",
   "execution_count": 21,
   "metadata": {},
   "outputs": [],
   "source": [
    "import matplotlib.pyplot as plt"
   ]
  },
  {
   "cell_type": "code",
   "execution_count": 22,
   "metadata": {},
   "outputs": [
    {
     "data": {
      "image/png": "[encoded data removed]",
      "text/plain": [
       "<Figure size 432x288 with 1 Axes>"
      ]
     },
     "metadata": {},
     "output_type": "display_data"
    }
   ],
   "source": [
    "plt.scatter(range(0, len(cost)),cost)\n",
    "plt.show()"
   ]
  },
  {
   "cell_type": "code",
   "execution_count": null,
   "metadata": {},
   "outputs": [],
   "source": []
  }
 ],
 "metadata": {
  "kernelspec": {
   "display_name": "Python 3",
   "language": "python",
   "name": "python3"
  },
  "language_info": {
   "codemirror_mode": {
    "name": "ipython",
    "version": 3
   },
   "file_extension": ".py",
   "mimetype": "text/x-python",
   "name": "python",
   "nbconvert_exporter": "python",
   "pygments_lexer": "ipython3",
   "version": "3.7.1"
  }
 },
 "nbformat": 4,
 "nbformat_minor": 2
}
