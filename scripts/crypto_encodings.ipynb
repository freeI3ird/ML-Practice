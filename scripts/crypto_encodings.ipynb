{
 "cells": [
  {
   "cell_type": "markdown",
   "metadata": {},
   "source": [
    "## Encryption and Decryption \n",
    "- Encryption: \n",
    "    - Stages: `PADDING --> ENCRYPTION`\n",
    "    - Flow: `TEXT --> PADDED-TEXT --> ENCRYPTED-TEXT`\n",
    "- Decryption:\n",
    "    - Stage: 'DECRYPTION --> REMOVE-PADDING`\n",
    "    - Flow: `ENCRYPTED-TEXT --> DECRYPTED-PADDED-TEXT --> ORIGINAL-TEXT`"
   ]
  },
  {
   "cell_type": "markdown",
   "metadata": {},
   "source": [
    "## Base64 \n",
    "1. Why we need it ? \n",
    "2. How it is done ?\n",
    "\n",
    "### Pitfalls"
   ]
  },
  {
   "cell_type": "markdown",
   "metadata": {},
   "source": [
    "## AES Encryption\n",
    "1. How to do it ?\n",
    "### Pitfalls\n",
    "1. Take care of vi vector, always keep it fix, it is needed both at time of encryption and decryption\n",
    "2. Always re-instantiate Decryptor object after one decryption\n",
    "    - something changes after every decryption. Don't know what ?\n",
    "    - Not sure if this happens during encryption as well \n",
    "3. Sometimes even the key could be encrypted or encoded "
   ]
  },
  {
   "cell_type": "markdown",
   "metadata": {},
   "source": [
    "## Bytes vs String \n",
    "1. When we convert bytes array to string, then there is extra escape character got added '\\'\n",
    "    - When convert string back to array, there can be issues \n",
    "    - Correct way: `obj.encode().decode('unicode-escape').encode('ISO-8859-1')`\n",
    "        - change the encoding as per use case"
   ]
  },
  {
   "cell_type": "code",
   "execution_count": 1,
   "metadata": {},
   "outputs": [],
   "source": [
    "import binascii\n",
    "import re\n",
    "from Crypto.Cipher import AES"
   ]
  },
  {
   "cell_type": "code",
   "execution_count": 132,
   "metadata": {},
   "outputs": [],
   "source": [
    "class AESCBC:\n",
    "    def __init__(self):\n",
    "        self.key = '0123456789012345' #defined key value\n",
    "        self.mode = AES.MODE_CBC\n",
    "        self.bs = 16  # block size\n",
    "        self.PADDING = lambda s: s + (self.bs - len(s) % self.bs) * chr(self.bs - len(s) % self.bs)\n",
    " \n",
    "    def encrypt(self, text):\n",
    "        generator = AES.new(self.key, self.mode,self.key) #The key here is the same as IV, which can be defined according to its own value.\n",
    "        crypt = generator.encrypt(self.PADDING(text))\n",
    "        print('crypt: ', crypt)\n",
    "        # crypted_str = base64.b64encode(crypt) #outputBase64\n",
    "        crypted_str =binascii.b2a_hex(crypt) #output Hex\n",
    "        print('binary to hex: ', crypted_str)\n",
    "        result = crypted_str.decode()\n",
    "        print('result: ', result)\n",
    "        return result\n",
    " \n",
    "    def decrypt(self, text):\n",
    "        generator = AES.new(self.key, self.mode,self.key)\n",
    "        text += (len(text) % 4) * '='\n",
    "        print('modified text: ', text)\n",
    "        # decrpyt_bytes = base64.b64decode(text) #outputBase64\n",
    "        decrpyt_bytes = binascii.a2b_hex(text) #output Hex\n",
    "        print('hex to binary: ', decrpyt_bytes)\n",
    "        meg = generator.decrypt(decrpyt_bytes)\n",
    "        print('meg: ', meg)\n",
    "        # Remove the illegal characters after decoding\n",
    "        try:\n",
    "            result = re.compile('[\\\\x00-\\\\x08\\\\x0b-\\\\x0c\\\\x0e-\\\\x1f\\n\\r\\t]').sub('', meg.decode())\n",
    "        except Exception:\n",
    "            result = 'Decoding failed, please try again!'\n",
    "        return result"
   ]
  },
  {
   "cell_type": "code",
   "execution_count": 166,
   "metadata": {},
   "outputs": [],
   "source": [
    "from PIL import Image"
   ]
  },
  {
   "cell_type": "code",
   "execution_count": 167,
   "metadata": {},
   "outputs": [],
   "source": [
    "tobytes = b'xd8\\xe1\\xb7\\xeb\\xa8\\xe5 \\xd2\\xb7\\xe1'\n",
    "img = Image.frombytes(\"L\", (3, 2), tobytes)"
   ]
  },
  {
   "cell_type": "code",
   "execution_count": 168,
   "metadata": {},
   "outputs": [],
   "source": [
    "img.show()"
   ]
  },
  {
   "cell_type": "code",
   "execution_count": 170,
   "metadata": {},
   "outputs": [
    {
     "data": {
      "text/plain": [
       "<ImagingCore at 0x10a8e8bd0>"
      ]
     },
     "execution_count": 170,
     "metadata": {},
     "output_type": "execute_result"
    }
   ],
   "source": [
    "img.getdata()"
   ]
  },
  {
   "cell_type": "code",
   "execution_count": 135,
   "metadata": {},
   "outputs": [
    {
     "name": "stdout",
     "output_type": "stream",
     "text": [
      "crypt:  b'\\xc0\\x98~\\xf7\\x18d\"l\\x1d\\x15\\xadk\\xacGT\\xba'\n",
      "binary to hex:  b'c0987ef71864226c1d15ad6bac4754ba'\n",
      "result:  c0987ef71864226c1d15ad6bac4754ba\n",
      "\n",
      " before encryption: manishrathee\n",
      " encrypted: c0987ef71864226c1d15ad6bac4754ba\n",
      "\n",
      "modified text:  c0987ef71864226c1d15ad6bac4754ba\n",
      "hex to binary:  b'\\xc0\\x98~\\xf7\\x18d\"l\\x1d\\x15\\xadk\\xacGT\\xba'\n",
      "meg:  b'manishrathee\\x04\\x04\\x04\\x04'\n",
      "Before decryption: c0987ef71864226c1d15ad6bac4754ba\n",
      "after decryption: manishrathee\n"
     ]
    }
   ],
   "source": [
    "\n",
    "aes = AESCBC()\n",
    "\n",
    "to_encrypt = 'manishrathee'\n",
    "to_decrypt = 'c0987ef71864226c1d15ad6bac4754ba'\n",
    "\n",
    "print(\"\\n before encryption: {0}\\n encrypted: {1}\\n\".format(to_encrypt,aes.encrypt(to_encrypt)))\n",
    "print(\"Before decryption: {0}\\nafter decryption: {1}\".format(to_decrypt,aes.decrypt(to_decrypt)))\n"
   ]
  },
  {
   "cell_type": "code",
   "execution_count": 149,
   "metadata": {},
   "outputs": [],
   "source": [
    "# encryption: text --> paddedText --> Encrypted-BinaryText --> hexText\n",
    "\n",
    "# decrypttion: hexText --> binaryText --> Decrypted-PaddedText --> Text"
   ]
  },
  {
   "cell_type": "code",
   "execution_count": 153,
   "metadata": {},
   "outputs": [],
   "source": [
    "text1 = 'manishrathee'"
   ]
  },
  {
   "cell_type": "code",
   "execution_count": 150,
   "metadata": {},
   "outputs": [],
   "source": [
    "bsize = 16\n",
    "padder = lambda s: s + (bsize - len(s) % bsize) * chr(bsize - len(s) % bsize)"
   ]
  },
  {
   "cell_type": "code",
   "execution_count": 151,
   "metadata": {},
   "outputs": [],
   "source": [
    "key = '0123456789012345'"
   ]
  },
  {
   "cell_type": "code",
   "execution_count": 152,
   "metadata": {},
   "outputs": [],
   "source": [
    "encryptor = AES.new(key, AES.MODE_CBC, key)"
   ]
  },
  {
   "cell_type": "code",
   "execution_count": 154,
   "metadata": {},
   "outputs": [],
   "source": [
    "crypted = encryptor.encrypt(padder(text1))"
   ]
  },
  {
   "cell_type": "code",
   "execution_count": 155,
   "metadata": {},
   "outputs": [
    {
     "data": {
      "text/plain": [
       "b'\\xc0\\x98~\\xf7\\x18d\"l\\x1d\\x15\\xadk\\xacGT\\xba'"
      ]
     },
     "execution_count": 155,
     "metadata": {},
     "output_type": "execute_result"
    }
   ],
   "source": [
    "crypted"
   ]
  },
  {
   "cell_type": "code",
   "execution_count": 156,
   "metadata": {},
   "outputs": [],
   "source": [
    "decryptor = AES.new(key, AES.MODE_CBC, key)"
   ]
  },
  {
   "cell_type": "code",
   "execution_count": 157,
   "metadata": {},
   "outputs": [
    {
     "data": {
      "text/plain": [
       "b'manishrathee\\x04\\x04\\x04\\x04'"
      ]
     },
     "execution_count": 157,
     "metadata": {},
     "output_type": "execute_result"
    }
   ],
   "source": [
    "decrypted = decryptor.decrypt(crypted)\n",
    "decrypted"
   ]
  },
  {
   "cell_type": "code",
   "execution_count": 164,
   "metadata": {},
   "outputs": [
    {
     "data": {
      "text/plain": [
       "'\\x08manishrathee\\x04\\x04\\x04\\x04'"
      ]
     },
     "execution_count": 164,
     "metadata": {},
     "output_type": "execute_result"
    }
   ],
   "source": [
    "b'\\x08manishrathee\\x04\\x04\\x04\\x04'.decode()"
   ]
  },
  {
   "cell_type": "code",
   "execution_count": 108,
   "metadata": {},
   "outputs": [
    {
     "data": {
      "text/plain": [
       "'72a9f78df9a9e0017f65c877689357ae'"
      ]
     },
     "execution_count": 108,
     "metadata": {},
     "output_type": "execute_result"
    }
   ],
   "source": [
    "decrypted_hex.decode()"
   ]
  },
  {
   "cell_type": "code",
   "execution_count": 117,
   "metadata": {},
   "outputs": [
    {
     "data": {
      "text/plain": [
       "b'r\\xa9\\xf7\\x8d\\xf9\\xa9\\xe0\\x01\\x7fe\\xc8wh\\x93W\\xae'"
      ]
     },
     "execution_count": 117,
     "metadata": {},
     "output_type": "execute_result"
    }
   ],
   "source": [
    "bytes_object = bytes.fromhex(decrypted_hex.decode())\n",
    "bytes_object"
   ]
  },
  {
   "cell_type": "code",
   "execution_count": 118,
   "metadata": {},
   "outputs": [
    {
     "data": {
      "text/plain": [
       "'r\\x01\\x7fewhW'"
      ]
     },
     "execution_count": 118,
     "metadata": {},
     "output_type": "execute_result"
    }
   ],
   "source": [
    "bytes_object.decode('ascii',errors='ignore')"
   ]
  },
  {
   "cell_type": "code",
   "execution_count": 88,
   "metadata": {},
   "outputs": [
    {
     "data": {
      "text/plain": [
       "b'04d7b33d21d3bd281666db9f70ddc57f327376598b1072d05469ff6cad253d5d'"
      ]
     },
     "execution_count": 88,
     "metadata": {},
     "output_type": "execute_result"
    }
   ],
   "source": [
    "crypted_hex = binascii.b2a_hex(crypted)\n",
    "crypted_hex"
   ]
  },
  {
   "cell_type": "code",
   "execution_count": 89,
   "metadata": {},
   "outputs": [
    {
     "data": {
      "text/plain": [
       "'04d7b33d21d3bd281666db9f70ddc57f327376598b1072d05469ff6cad253d5d'"
      ]
     },
     "execution_count": 89,
     "metadata": {},
     "output_type": "execute_result"
    }
   ],
   "source": [
    "crypted_hex.decode()"
   ]
  },
  {
   "cell_type": "code",
   "execution_count": 81,
   "metadata": {},
   "outputs": [],
   "source": [
    "text = '31f45bc15c28b3dffb7886d86ae0136d'"
   ]
  },
  {
   "cell_type": "code",
   "execution_count": 82,
   "metadata": {},
   "outputs": [
    {
     "data": {
      "text/plain": [
       "'31f45bc15c28b3dffb7886d86ae0136d'"
      ]
     },
     "execution_count": 82,
     "metadata": {},
     "output_type": "execute_result"
    }
   ],
   "source": [
    "text = text + (len(text) % 4) * '='\n",
    "text"
   ]
  },
  {
   "cell_type": "code",
   "execution_count": null,
   "metadata": {},
   "outputs": [],
   "source": []
  },
  {
   "cell_type": "code",
   "execution_count": 83,
   "metadata": {},
   "outputs": [
    {
     "data": {
      "text/plain": [
       "b'1\\xf4[\\xc1\\\\(\\xb3\\xdf\\xfbx\\x86\\xd8j\\xe0\\x13m'"
      ]
     },
     "execution_count": 83,
     "metadata": {},
     "output_type": "execute_result"
    }
   ],
   "source": [
    "Decrpyt_bytes = binascii.a2b_hex(text)\n",
    "Decrpyt_bytes"
   ]
  },
  {
   "cell_type": "code",
   "execution_count": 90,
   "metadata": {},
   "outputs": [
    {
     "data": {
      "text/plain": [
       "b'l\\xa4\\x07\\x9b\\x1bu\\xf7\\x89\\xb7)\\xdf\\x80+\\xb4H7dboyofindiasoi\\x02\\x02'"
      ]
     },
     "execution_count": 90,
     "metadata": {},
     "output_type": "execute_result"
    }
   ],
   "source": [
    "decrypted = gen.decrypt(crypted)\n",
    "decrypted"
   ]
  },
  {
   "cell_type": "code",
   "execution_count": 93,
   "metadata": {},
   "outputs": [
    {
     "ename": "UnicodeDecodeError",
     "evalue": "'utf-8' codec can't decode byte 0xa4 in position 1: invalid start byte",
     "output_type": "error",
     "traceback": [
      "\u001b[0;31m---------------------------------------------------------------------------\u001b[0m",
      "\u001b[0;31mUnicodeDecodeError\u001b[0m                        Traceback (most recent call last)",
      "\u001b[0;32m<ipython-input-93-e7d0d3bf08b3>\u001b[0m in \u001b[0;36m<module>\u001b[0;34m\u001b[0m\n\u001b[0;32m----> 1\u001b[0;31m \u001b[0mre\u001b[0m\u001b[0;34m.\u001b[0m\u001b[0mcompile\u001b[0m\u001b[0;34m(\u001b[0m\u001b[0;34m'[\\\\x00-\\\\x08\\\\x0b-\\\\x0c\\\\x0e-\\\\x1f\\n\\r\\t]'\u001b[0m\u001b[0;34m)\u001b[0m\u001b[0;34m.\u001b[0m\u001b[0msub\u001b[0m\u001b[0;34m(\u001b[0m\u001b[0;34m''\u001b[0m\u001b[0;34m,\u001b[0m \u001b[0mdecrypted\u001b[0m\u001b[0;34m.\u001b[0m\u001b[0mdecode\u001b[0m\u001b[0;34m(\u001b[0m\u001b[0;34m)\u001b[0m\u001b[0;34m)\u001b[0m\u001b[0;34m\u001b[0m\u001b[0;34m\u001b[0m\u001b[0m\n\u001b[0m",
      "\u001b[0;31mUnicodeDecodeError\u001b[0m: 'utf-8' codec can't decode byte 0xa4 in position 1: invalid start byte"
     ]
    }
   ],
   "source": [
    "re.compile('[\\\\x00-\\\\x08\\\\x0b-\\\\x0c\\\\x0e-\\\\x1f\\n\\r\\t]').sub('', decrypted.decode())"
   ]
  },
  {
   "cell_type": "code",
   "execution_count": 85,
   "metadata": {},
   "outputs": [
    {
     "ename": "UnicodeDecodeError",
     "evalue": "'utf-8' codec can't decode byte 0xf7 in position 1: invalid start byte",
     "output_type": "error",
     "traceback": [
      "\u001b[0;31m---------------------------------------------------------------------------\u001b[0m",
      "\u001b[0;31mUnicodeDecodeError\u001b[0m                        Traceback (most recent call last)",
      "\u001b[0;32m<ipython-input-85-4cba0ed46e0a>\u001b[0m in \u001b[0;36m<module>\u001b[0;34m\u001b[0m\n\u001b[0;32m----> 1\u001b[0;31m \u001b[0mdecrypted\u001b[0m\u001b[0;34m.\u001b[0m\u001b[0mdecode\u001b[0m\u001b[0;34m(\u001b[0m\u001b[0;34m)\u001b[0m\u001b[0;34m\u001b[0m\u001b[0;34m\u001b[0m\u001b[0m\n\u001b[0m",
      "\u001b[0;31mUnicodeDecodeError\u001b[0m: 'utf-8' codec can't decode byte 0xf7 in position 1: invalid start byte"
     ]
    }
   ],
   "source": [
    "decrypted.decode()"
   ]
  },
  {
   "cell_type": "code",
   "execution_count": 86,
   "metadata": {},
   "outputs": [
    {
     "ename": "UnicodeDecodeError",
     "evalue": "'utf-8' codec can't decode byte 0xf7 in position 1: invalid start byte",
     "output_type": "error",
     "traceback": [
      "\u001b[0;31m---------------------------------------------------------------------------\u001b[0m",
      "\u001b[0;31mUnicodeDecodeError\u001b[0m                        Traceback (most recent call last)",
      "\u001b[0;32m<ipython-input-86-e7d0d3bf08b3>\u001b[0m in \u001b[0;36m<module>\u001b[0;34m\u001b[0m\n\u001b[0;32m----> 1\u001b[0;31m \u001b[0mre\u001b[0m\u001b[0;34m.\u001b[0m\u001b[0mcompile\u001b[0m\u001b[0;34m(\u001b[0m\u001b[0;34m'[\\\\x00-\\\\x08\\\\x0b-\\\\x0c\\\\x0e-\\\\x1f\\n\\r\\t]'\u001b[0m\u001b[0;34m)\u001b[0m\u001b[0;34m.\u001b[0m\u001b[0msub\u001b[0m\u001b[0;34m(\u001b[0m\u001b[0;34m''\u001b[0m\u001b[0;34m,\u001b[0m \u001b[0mdecrypted\u001b[0m\u001b[0;34m.\u001b[0m\u001b[0mdecode\u001b[0m\u001b[0;34m(\u001b[0m\u001b[0;34m)\u001b[0m\u001b[0;34m)\u001b[0m\u001b[0;34m\u001b[0m\u001b[0;34m\u001b[0m\u001b[0m\n\u001b[0m",
      "\u001b[0;31mUnicodeDecodeError\u001b[0m: 'utf-8' codec can't decode byte 0xf7 in position 1: invalid start byte"
     ]
    }
   ],
   "source": [
    "re.compile('[\\\\x00-\\\\x08\\\\x0b-\\\\x0c\\\\x0e-\\\\x1f\\n\\r\\t]').sub('', decrypted.decode())"
   ]
  },
  {
   "cell_type": "code",
   "execution_count": null,
   "metadata": {},
   "outputs": [],
   "source": [
    "re.compile('[\\\\x00-\\\\x08\\\\x0b-\\\\x0c\\\\x0e-\\\\x1f\\n\\r\\t]').sub('', meg.decode())"
   ]
  },
  {
   "cell_type": "code",
   "execution_count": 55,
   "metadata": {},
   "outputs": [],
   "source": [
    "mystr = 'manishrathiisgoodboyofindiasoi'"
   ]
  },
  {
   "cell_type": "code",
   "execution_count": 44,
   "metadata": {},
   "outputs": [
    {
     "data": {
      "text/plain": [
       "30"
      ]
     },
     "execution_count": 44,
     "metadata": {},
     "output_type": "execute_result"
    }
   ],
   "source": [
    "len(mystr)"
   ]
  },
  {
   "cell_type": "code",
   "execution_count": 45,
   "metadata": {},
   "outputs": [
    {
     "data": {
      "text/plain": [
       "2"
      ]
     },
     "execution_count": 45,
     "metadata": {},
     "output_type": "execute_result"
    }
   ],
   "source": [
    "bsize - len(mystr) % bsize"
   ]
  },
  {
   "cell_type": "code",
   "execution_count": 47,
   "metadata": {},
   "outputs": [
    {
     "data": {
      "text/plain": [
       "'\\x02\\x02'"
      ]
     },
     "execution_count": 47,
     "metadata": {},
     "output_type": "execute_result"
    }
   ],
   "source": [
    "chr(2)*2"
   ]
  },
  {
   "cell_type": "code",
   "execution_count": 11,
   "metadata": {},
   "outputs": [
    {
     "data": {
      "text/plain": [
       "'manishrathi\\x05\\x05\\x05\\x05\\x05'"
      ]
     },
     "execution_count": 11,
     "metadata": {},
     "output_type": "execute_result"
    }
   ],
   "source": [
    "padder(mystr)"
   ]
  },
  {
   "cell_type": "code",
   "execution_count": 172,
   "metadata": {},
   "outputs": [
    {
     "ename": "IndentationError",
     "evalue": "unindent does not match any outer indentation level (<tokenize>, line 14)",
     "output_type": "error",
     "traceback": [
      "\u001b[0;36m  File \u001b[0;32m\"<tokenize>\"\u001b[0;36m, line \u001b[0;32m14\u001b[0m\n\u001b[0;31m    crypt = generator.encrypt(self.PADDING(text))\u001b[0m\n\u001b[0m    ^\u001b[0m\n\u001b[0;31mIndentationError\u001b[0m\u001b[0;31m:\u001b[0m unindent does not match any outer indentation level\n"
     ]
    }
   ],
   "source": [
    "import binascii\n",
    "import re\n",
    "from Crypto.Cipher import AES\n",
    " \n",
    "class AESCBC:\n",
    "    def __init__(self):\n",
    "        Self.key = '0123456789012345' #defined key value\n",
    "        self.mode = AES.MODE_CBC\n",
    "        self.bs = 16  # block size\n",
    "        self.PADDING = lambda s: s + (self.bs - len(s) % self.bs) * chr(self.bs - len(s) % self.bs)\n",
    " \n",
    "    def encrypt(self, text):\n",
    "                 Generator = AES.new(self.key, self.mode,self.key) #The key here is the same as IV, which can be defined according to its own value.\n",
    "        crypt = generator.encrypt(self.PADDING(text))\n",
    "                 # crypted_str = base64.b64encode(crypt) #outputBase64\n",
    "                 Crypted_str =binascii.b2a_hex(crypt) #output Hex\n",
    "        result = crypted_str.decode()\n",
    "        return result\n",
    " \n",
    "    def decrypt(self, text):\n",
    "        generator = AES.new(self.key, self.mode,self.key)\n",
    "        text += (len(text) % 4) * '='\n",
    "                 # decrpyt_bytes = base64.b64decode(text) #outputBase64\n",
    "                 Decrpyt_bytes = binascii.a2b_hex(text) #output Hex\n",
    "        meg = generator.decrypt(decrpyt_bytes)\n",
    "                 # Remove the illegal characters after decoding\n",
    "        try:\n",
    "            result = re.compile('[\\\\x00-\\\\x08\\\\x0b-\\\\x0c\\\\x0e-\\\\x1f\\n\\r\\t]').sub('', meg.decode())\n",
    "        except Exception:\n",
    "                         Result = 'Decoding failed, please try again!'\n",
    "        return result\n",
    " \n",
    " \n",
    "if __name__ == '__main__':\n",
    "    aes = AESCBC()\n",
    " \n",
    "    to_encrypt = '123456'\n",
    "    to_decrypt = '31f45bc15c28b3dffb7886d86ae0136d'\n",
    " \n",
    "\n",
    "         Print(\"\\n before encryption: {0}\\n encrypted: {1}\\n\".format(to_encrypt,aes.encrypt(to_encrypt)))\n",
    "         Print(\"Before decryption: {0}\\nafter decryption: {1}\".format(to_decrypt,aes.decrypt(to_decrypt)))"
   ]
  }
 ],
 "metadata": {
  "kernelspec": {
   "display_name": "Python 3",
   "language": "python",
   "name": "python3"
  },
  "language_info": {
   "codemirror_mode": {
    "name": "ipython",
    "version": 3
   },
   "file_extension": ".py",
   "mimetype": "text/x-python",
   "name": "python",
   "nbconvert_exporter": "python",
   "pygments_lexer": "ipython3",
   "version": "3.7.4"
  }
 },
 "nbformat": 4,
 "nbformat_minor": 4
}
