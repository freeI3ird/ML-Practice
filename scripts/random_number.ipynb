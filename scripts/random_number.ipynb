{
 "cells": [
  {
   "cell_type": "code",
   "execution_count": 2,
   "metadata": {},
   "outputs": [],
   "source": [
    "import numpy as np\n",
    "from numpy import random"
   ]
  },
  {
   "cell_type": "code",
   "execution_count": 5,
   "metadata": {},
   "outputs": [
    {
     "name": "stdout",
     "output_type": "stream",
     "text": [
      "[[0.11546384 0.86318478]\n",
      " [0.89375466 0.9354978 ]]\n"
     ]
    }
   ],
   "source": [
    "arr1 = random.rand(2,2)  # random array, shape = arguements, distribution= uniform between 0 to 1.\n",
    "print(arr1)"
   ]
  },
  {
   "cell_type": "code",
   "execution_count": 7,
   "metadata": {},
   "outputs": [
    {
     "name": "stdout",
     "output_type": "stream",
     "text": [
      "[[ 2.65236129  0.53385437]\n",
      " [-0.14811159 -1.4587515 ]]\n"
     ]
    }
   ],
   "source": [
    "arr2 = random.randn(2,2)  # random array, shape = arguements, distribution = Standard normal (mean = 0, std =1)\n",
    "print(arr2)"
   ]
  },
  {
   "cell_type": "code",
   "execution_count": 10,
   "metadata": {},
   "outputs": [
    {
     "name": "stdout",
     "output_type": "stream",
     "text": [
      "[[3 7]\n",
      " [4 2]]\n"
     ]
    }
   ],
   "source": [
    "arr3 = random.randint(low = 2 ,high = 10, size = (2,2) ) # distribution = Discrete Uniform\n",
    "print(arr3)"
   ]
  },
  {
   "cell_type": "code",
   "execution_count": 17,
   "metadata": {},
   "outputs": [
    {
     "name": "stdout",
     "output_type": "stream",
     "text": [
      "(array([10. , 12.5, 15. , 17.5, 20. ]), 2.5)\n"
     ]
    }
   ],
   "source": [
    "arr4 = np.linspace(start = 10.0, stop = 20.0, num = 5, retstep = True ) # return evenly spaced numbers \n",
    "print(arr4)"
   ]
  },
  {
   "cell_type": "code",
   "execution_count": null,
   "metadata": {},
   "outputs": [],
   "source": []
  }
 ],
 "metadata": {
  "kernelspec": {
   "display_name": "Python 2",
   "language": "python",
   "name": "python2"
  },
  "language_info": {
   "codemirror_mode": {
    "name": "ipython",
    "version": 2
   },
   "file_extension": ".py",
   "mimetype": "text/x-python",
   "name": "python",
   "nbconvert_exporter": "python",
   "pygments_lexer": "ipython2",
   "version": "2.7.15"
  }
 },
 "nbformat": 4,
 "nbformat_minor": 2
}
