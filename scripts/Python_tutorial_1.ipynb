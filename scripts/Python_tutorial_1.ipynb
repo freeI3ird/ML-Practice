{
 "cells": [
  {
   "cell_type": "code",
   "execution_count": 1,
   "metadata": {},
   "outputs": [],
   "source": [
    "list1 = [1,2,3]"
   ]
  },
  {
   "cell_type": "code",
   "execution_count": 2,
   "metadata": {},
   "outputs": [
    {
     "name": "stdout",
     "output_type": "stream",
     "text": [
      "[1, 'a', 3]\n",
      "[1, 'a', 3]\n"
     ]
    }
   ],
   "source": [
    "# coping the list \n",
    "list2 = list1  # list not copied only reference is shared\n",
    "list2[1] = \"a\"\n",
    "print(list1)\n",
    "print(list2)"
   ]
  },
  {
   "cell_type": "code",
   "execution_count": 3,
   "metadata": {},
   "outputs": [
    {
     "name": "stdout",
     "output_type": "stream",
     "text": [
      "('list1:', [1, 'a', 3])\n",
      "('list2:', [1, 'a', 3])\n",
      "('list3:', [1, 'b', 3])\n",
      "('list4:', [1, 'd', 3])\n"
     ]
    }
   ],
   "source": [
    "list3 = list(list1)  # a new list with same elements is assigned\n",
    "list4 = list1[:]  # slicing operation, returns a list\n",
    "list3[1] = \"b\"\n",
    "list4[1] = \"d\"\n",
    "print(\"list1:\",list1)\n",
    "print(\"list2:\", list2)\n",
    "print(\"list3:\", list3)\n",
    "print(\"list4:\", list4)"
   ]
  },
  {
   "cell_type": "code",
   "execution_count": 4,
   "metadata": {},
   "outputs": [
    {
     "data": {
      "text/plain": [
       "list"
      ]
     },
     "execution_count": 4,
     "metadata": {},
     "output_type": "execute_result"
    }
   ],
   "source": [
    "type(list1[:])  # slicing returns a list"
   ]
  },
  {
   "cell_type": "code",
   "execution_count": 5,
   "metadata": {},
   "outputs": [
    {
     "name": "stdout",
     "output_type": "stream",
     "text": [
      "[1, 5, 6]\n"
     ]
    }
   ],
   "source": [
    "# Deleting elements from the list ==> Use del(myList[i]) or del(myList[i:j])\n",
    "mylist = [1,2,3,4,5,6]\n",
    "del(mylist[ 1: 4]) # element at position 1,2,3 will be deleted\n",
    "print(mylist)"
   ]
  },
  {
   "cell_type": "code",
   "execution_count": 6,
   "metadata": {},
   "outputs": [
    {
     "name": "stdout",
     "output_type": "stream",
     "text": [
      "Help on built-in function round in module __builtin__:\n",
      "\n",
      "round(...)\n",
      "    round(number[, ndigits]) -> floating point number\n",
      "    \n",
      "    Round a number to a given precision in decimal digits (default 0 digits).\n",
      "    This always returns a floating point number.  Precision may be negative.\n",
      "\n"
     ]
    }
   ],
   "source": [
    "# to get help about any function use function 'help(fn_name)'\n",
    "help(round) \n"
   ]
  },
  {
   "cell_type": "code",
   "execution_count": 7,
   "metadata": {},
   "outputs": [
    {
     "name": "stdout",
     "output_type": "stream",
     "text": [
      "3\n",
      "2\n",
      "None\n",
      "[1, 1, 2, 2, 4, 4, 4, 5, 5]\n"
     ]
    }
   ],
   "source": [
    "# In python everthing is a object and every object has specific functions related to them known as \"METHODS\"\n",
    "mylist = [1 , 2, 4, 4, 5, 2, 1 ,4 ,5]\n",
    "print( mylist.count(4) )\n",
    "print( mylist.index(4))\n",
    "print( mylist.sort())  # sort method return None\n",
    "print(mylist)"
   ]
  },
  {
   "cell_type": "code",
   "execution_count": 8,
   "metadata": {},
   "outputs": [],
   "source": [
    "# Packages are like 'DIRECTORY', inside them 'python_scripts'/ modules, inside it : functions, methods, types"
   ]
  },
  {
   "cell_type": "code",
   "execution_count": 9,
   "metadata": {},
   "outputs": [],
   "source": [
    "import numpy as np"
   ]
  },
  {
   "cell_type": "code",
   "execution_count": 10,
   "metadata": {},
   "outputs": [],
   "source": [
    "# alternative to python List ==> numpy 'Array'\n",
    "# Array is similar to list \n",
    "# Operation over entire Collection easily done but not in the list\n",
    "# numpy array contains values of 'SIMILAR TYPES' only, this is different from list\n",
    "\n"
   ]
  },
  {
   "cell_type": "code",
   "execution_count": 11,
   "metadata": {},
   "outputs": [
    {
     "name": "stdout",
     "output_type": "stream",
     "text": [
      "<type 'numpy.ndarray'>\n"
     ]
    }
   ],
   "source": [
    "arr = np.array( [1, 2, 3, 4, 5])  # array creation , np.array( list ),\n",
    "arr1 = np.array( [1, 2 ,3, 4, 5])\n",
    "print(type(arr))   # return = numpy.ndarray\n",
    "# means this type => 'ndarray' is defined inside 'numpy' package. ndarray: N-dimensional array"
   ]
  },
  {
   "cell_type": "code",
   "execution_count": 12,
   "metadata": {},
   "outputs": [
    {
     "name": "stdout",
     "output_type": "stream",
     "text": [
      "['1' 'manish' '2.0' '(2+3j)']\n"
     ]
    }
   ],
   "source": [
    "arr2 = np.array( [ 1, 'manish', 2.0, complex(2,3)])  # different type of item in list, all converted to single type\n",
    "print(arr2)"
   ]
  },
  {
   "cell_type": "code",
   "execution_count": 13,
   "metadata": {},
   "outputs": [],
   "source": [
    "list1 = [1, 2, 3, 4, 5]\n",
    "list2 = [1, 2, 3, 4 ,5]"
   ]
  },
  {
   "cell_type": "code",
   "execution_count": 14,
   "metadata": {},
   "outputs": [],
   "source": [
    "# DIFFERENCE IN THE LISTS AND NUMPY ARRAYS\n",
    "arr3 = arr + arr1  # element wise addition\n",
    "list3 =list1 + list2 # append the two lists"
   ]
  },
  {
   "cell_type": "code",
   "execution_count": 15,
   "metadata": {},
   "outputs": [
    {
     "name": "stdout",
     "output_type": "stream",
     "text": [
      "[ 1  4  9 16 25]\n"
     ]
    }
   ],
   "source": [
    "arr4 = np.array([1, 4, 9, 16, 25])\n",
    "print(arr4)"
   ]
  },
  {
   "cell_type": "code",
   "execution_count": 16,
   "metadata": {},
   "outputs": [
    {
     "data": {
      "text/plain": [
       "array([False, False, False,  True,  True])"
      ]
     },
     "execution_count": 16,
     "metadata": {},
     "output_type": "execute_result"
    }
   ],
   "source": [
    "arr3 > 6"
   ]
  },
  {
   "cell_type": "code",
   "execution_count": 17,
   "metadata": {},
   "outputs": [
    {
     "data": {
      "text/plain": [
       "array([16, 25])"
      ]
     },
     "execution_count": 17,
     "metadata": {},
     "output_type": "execute_result"
    }
   ],
   "source": [
    "# FIND THE ELEMENTS IN THE ARRAY WHICH ARE >6\n",
    "arr4[ arr3 > 6]  # subsetting array using the boolean array of the same size.\n"
   ]
  },
  {
   "cell_type": "code",
   "execution_count": 18,
   "metadata": {},
   "outputs": [
    {
     "name": "stdout",
     "output_type": "stream",
     "text": [
      "[ 1  3 19 18]\n"
     ]
    }
   ],
   "source": [
    "# select people whose bmi < 21\n",
    "bmi = np.array([ 1, 3, 54, 23, 19, 18])\n",
    "reqbmi = bmi < 21   # bmi[ bmi < 21 ]\n",
    "print(bmi[ reqbmi ])  # using boolean array for subsetting\n",
    "# bmi < 21 , here python understand that you want to compare each element of the numpy.array with 21.\n",
    "# so in background: it create a array same size as that of bmi with every value = 21 and then compare."
   ]
  },
  {
   "cell_type": "code",
   "execution_count": 19,
   "metadata": {},
   "outputs": [
    {
     "name": "stdout",
     "output_type": "stream",
     "text": [
      "[1, 2, 3]\n",
      "a\n"
     ]
    }
   ],
   "source": [
    "mylist = [ [1,2,3], ['a','b','c'], [2.0,4.0,3.0] ]\n",
    "print( (mylist[:][0])) # Why not [1, 'a', 2.0] because mylist[:], gives us list of list, then [0] is applied on 2d list\n",
    "print( mylist[1][0]) # mylist[a] , it gives us the element at index 'a', but mylist[:] gives us list of elements"
   ]
  },
  {
   "cell_type": "code",
   "execution_count": 20,
   "metadata": {},
   "outputs": [],
   "source": [
    "# Numpy 2D array\n",
    "myarr = np.array( [[1,2,3,4],[1,4,9,16],[1,8,27,64]])"
   ]
  },
  {
   "cell_type": "code",
   "execution_count": 21,
   "metadata": {},
   "outputs": [
    {
     "name": "stdout",
     "output_type": "stream",
     "text": [
      "(3, 4)\n",
      "[[ 1  2  3  4]\n",
      " [ 1  4  9 16]\n",
      " [ 1  8 27 64]]\n",
      "1\n",
      "4\n",
      "[ 1  4  9 16]\n",
      "[1 1]\n",
      "[ 4 16 64]\n"
     ]
    }
   ],
   "source": [
    "print( myarr.shape)\n",
    "print( myarr[:,:])\n",
    "print( myarr[0][0] )\n",
    "print( myarr[1,1] )\n",
    "print( myarr[1:3][0]) # select 2 rows then, give output as 1st row, different from below\n",
    "print( myarr[1:3,0])  # select 2 rows and their 0 column so output = 0th element of 2 selected rows,\n",
    "print( myarr[:,3]) # select the whole 3 column"
   ]
  },
  {
   "cell_type": "code",
   "execution_count": 22,
   "metadata": {},
   "outputs": [
    {
     "name": "stdout",
     "output_type": "stream",
     "text": [
      "[[1. 1.]\n",
      " [1. 1.]]\n",
      "[[ 1. -1.]\n",
      " [-1.  1.]]\n",
      "1.118033988749895\n"
     ]
    }
   ],
   "source": [
    "x = [1, 2, 3, 4]\n",
    "y = [5, 6, 7, 8]\n",
    "z = [8, 7, 6, 5]\n",
    "print( np.corrcoef(x, y) )\n",
    "print( np.corrcoef(x,z))\n",
    "print( np.std(x) )"
   ]
  },
  {
   "cell_type": "code",
   "execution_count": 23,
   "metadata": {},
   "outputs": [],
   "source": [
    "# Matplotlib: To visualize the data and get better insight out of it\n",
    "# matplotlib: package, pyplot: subpackage"
   ]
  },
  {
   "cell_type": "code",
   "execution_count": 24,
   "metadata": {},
   "outputs": [],
   "source": [
    "import matplotlib.pyplot as plt\n"
   ]
  },
  {
   "cell_type": "code",
   "execution_count": 25,
   "metadata": {},
   "outputs": [
    {
     "data": {
      "image/png": "[encoded data removed]",
      "text/plain": [
       "<Figure size 432x288 with 1 Axes>"
      ]
     },
     "metadata": {},
     "output_type": "display_data"
    }
   ],
   "source": [
    "# line plot\n",
    "plt.plot(x, y)  # plot functions tells what to plot and how to plot\n",
    "plt.show()   # it actually shows the graph"
   ]
  },
  {
   "cell_type": "code",
   "execution_count": 26,
   "metadata": {},
   "outputs": [
    {
     "data": {
      "image/png": "[encoded data removed]",
      "text/plain": [
       "<Figure size 432x288 with 1 Axes>"
      ]
     },
     "metadata": {},
     "output_type": "display_data"
    }
   ],
   "source": [
    "# scatter plot: good to visualize the coorelation btw the variables.\n",
    "plt.scatter(x, y) # it's more realistic plot, shows the only data points don't connect them with the line\n",
    "plt.show()"
   ]
  },
  {
   "cell_type": "code",
   "execution_count": 27,
   "metadata": {},
   "outputs": [
    {
     "data": {
      "image/png": "[encoded data removed]",
      "text/plain": [
       "<Figure size 432x288 with 1 Axes>"
      ]
     },
     "metadata": {},
     "output_type": "display_data"
    }
   ],
   "source": [
    "# change the scale of the axis\n",
    "plt.scatter(x, z)\n",
    "plt.xscale('log')  # change the scale of the x-axis\n",
    "plt.show()"
   ]
  },
  {
   "cell_type": "code",
   "execution_count": 28,
   "metadata": {},
   "outputs": [
    {
     "data": {
      "image/png": "[encoded data removed]",
      "text/plain": [
       "<Figure size 432x288 with 1 Axes>"
      ]
     },
     "metadata": {},
     "output_type": "display_data"
    },
    {
     "data": {
      "image/png": "[encoded data removed]",
      "text/plain": [
       "<Figure size 432x288 with 1 Axes>"
      ]
     },
     "metadata": {},
     "output_type": "display_data"
    }
   ],
   "source": [
    "# histograms: to visualise the distribution of the data\n",
    "x = [1, 3, 4, 100, 4, 2, 3, 45, 5, 45, 56, 23, 5, 12, 123, 78, 89, 67, 77, 98, 75,45]\n",
    "plt.hist(x, bins= 5)  # hist(list, bins): to create histograms\n",
    "plt.show()\n",
    "plt.clf()  # plt.clf(): clears the plot( clear the object), old information is wiped\n",
    "plt.hist(x, bins = 10)\n",
    "plt.show()"
   ]
  },
  {
   "cell_type": "code",
   "execution_count": 29,
   "metadata": {},
   "outputs": [
    {
     "data": {
      "image/png": "[encoded data removed]",
      "text/plain": [
       "<Figure size 432x288 with 1 Axes>"
      ]
     },
     "metadata": {},
     "output_type": "display_data"
    },
    {
     "data": {
      "text/plain": [
       "<Figure size 432x288 with 0 Axes>"
      ]
     },
     "metadata": {},
     "output_type": "display_data"
    }
   ],
   "source": [
    "x = [1, 3, 4, 100, 4, 2, 3, 45, 5, 45, 56, 23, 5, 12, 123, 78, 89, 67, 77, 98, 75,45]\n",
    "x.sort()\n",
    "x = np.array(x)\n",
    "y = x**2\n",
    "\n",
    "# customizations\n",
    "plt.plot(x, y)\n",
    "plt.xlabel('time')\n",
    "plt.ylabel('money')\n",
    "plt.title('Time is money')\n",
    "plt.show()\n",
    "plt.clf()"
   ]
  },
  {
   "cell_type": "code",
   "execution_count": 30,
   "metadata": {},
   "outputs": [
    {
     "data": {
      "text/plain": [
       "<matplotlib.collections.PathCollection at 0x7fc7c783b4d0>"
      ]
     },
     "execution_count": 30,
     "metadata": {},
     "output_type": "execute_result"
    },
    {
     "data": {
      "image/png": "[encoded data removed]",
      "text/plain": [
       "<Figure size 432x288 with 1 Axes>"
      ]
     },
     "metadata": {},
     "output_type": "display_data"
    }
   ],
   "source": [
    "plt.scatter(x, y, s = x*3, c = x)\n",
    "# arguemet, s: size of dots, c: color of dots"
   ]
  },
  {
   "cell_type": "code",
   "execution_count": 31,
   "metadata": {},
   "outputs": [
    {
     "name": "stdout",
     "output_type": "stream",
     "text": [
      "{1: 'ML', 2: 'compt. coding', 3: 'web development', 4: ['target']}\n"
     ]
    }
   ],
   "source": [
    "# Dictionary: It is a immutable object i.e once created it can't be changed\n",
    "dict1 = { 1: \"ML\", 2: \"compt. coding\", 3: \"web development\", 4: [\"target\"]}\n",
    "print(dict1)"
   ]
  },
  {
   "cell_type": "code",
   "execution_count": 32,
   "metadata": {},
   "outputs": [
    {
     "ename": "TypeError",
     "evalue": "unhashable type: 'list'",
     "output_type": "error",
     "traceback": [
      "\u001b[0;31m---------------------------------------------------------------------------\u001b[0m",
      "\u001b[0;31mTypeError\u001b[0m                                 Traceback (most recent call last)",
      "\u001b[0;32m<ipython-input-32-310c0b009b80>\u001b[0m in \u001b[0;36m<module>\u001b[0;34m()\u001b[0m\n\u001b[0;32m----> 1\u001b[0;31m \u001b[0mdict2\u001b[0m \u001b[0;34m=\u001b[0m \u001b[0;34m{\u001b[0m\u001b[0;34m[\u001b[0m\u001b[0;34m'1'\u001b[0m\u001b[0;34m,\u001b[0m\u001b[0;34m'2'\u001b[0m\u001b[0;34m,\u001b[0m\u001b[0;34m'3'\u001b[0m\u001b[0;34m]\u001b[0m\u001b[0;34m:\u001b[0m \u001b[0;34m'Target'\u001b[0m\u001b[0;34m,\u001b[0m\u001b[0;34m}\u001b[0m  \u001b[0;31m# invalid dictionary, because 'list' is mutable i.e can be changed but dictionary\u001b[0m\u001b[0;34m\u001b[0m\u001b[0m\n\u001b[0m\u001b[1;32m      2\u001b[0m \u001b[0;31m# immutable , also all its keys must be immutable, its value can be mutable, but not keys.\u001b[0m\u001b[0;34m\u001b[0m\u001b[0;34m\u001b[0m\u001b[0m\n\u001b[1;32m      3\u001b[0m \u001b[0;32mprint\u001b[0m\u001b[0;34m(\u001b[0m\u001b[0mdict2\u001b[0m\u001b[0;34m)\u001b[0m\u001b[0;34m\u001b[0m\u001b[0m\n",
      "\u001b[0;31mTypeError\u001b[0m: unhashable type: 'list'"
     ]
    }
   ],
   "source": [
    "dict2 = {['1','2','3']: 'Target',}  # invalid dictionary, because 'list' is mutable i.e can be changed but dictionary \n",
    "# immutable , also all its keys must be immutable, its value can be mutable, but not keys.\n",
    "print(dict2)"
   ]
  },
  {
   "cell_type": "code",
   "execution_count": 33,
   "metadata": {},
   "outputs": [],
   "source": [
    "# pandas package: to get a tabular data type 'dataframe'\n",
    "import pandas as pd"
   ]
  },
  {
   "cell_type": "code",
   "execution_count": 34,
   "metadata": {},
   "outputs": [],
   "source": [
    "mydict = { \"state\": ['haryana', 'punjab', 'rajasthan', 'Madhya Pradesh'],\n",
    "         \"capital\":['chandigarh', 'chandigarh', 'jaipur', 'Bhopal'],\n",
    "         'population': [234, 312, 2344, 3455]}\n",
    "india = pd.DataFrame(mydict)"
   ]
  },
  {
   "cell_type": "code",
   "execution_count": 35,
   "metadata": {},
   "outputs": [
    {
     "name": "stdout",
     "output_type": "stream",
     "text": [
      "      capital  population           state\n",
      "0  chandigarh         234         haryana\n",
      "1  chandigarh         312          punjab\n",
      "2      jaipur        2344       rajasthan\n",
      "3      Bhopal        3455  Madhya Pradesh\n"
     ]
    }
   ],
   "source": [
    "print(india)"
   ]
  },
  {
   "cell_type": "code",
   "execution_count": 36,
   "metadata": {},
   "outputs": [],
   "source": [
    "# above index of each row is automatically generated\n",
    "# customise it by 'index' attribute of DataFrame\n",
    "india.index = ['hr','pu','rj','mp']"
   ]
  },
  {
   "cell_type": "code",
   "execution_count": 37,
   "metadata": {},
   "outputs": [
    {
     "name": "stdout",
     "output_type": "stream",
     "text": [
      "       capital  population           state\n",
      "hr  chandigarh         234         haryana\n",
      "pu  chandigarh         312          punjab\n",
      "rj      jaipur        2344       rajasthan\n",
      "mp      Bhopal        3455  Madhya Pradesh\n"
     ]
    }
   ],
   "source": [
    "print(india)"
   ]
  },
  {
   "cell_type": "code",
   "execution_count": 38,
   "metadata": {},
   "outputs": [],
   "source": [
    "# reading data from .csv file to dataframe\n",
    "india = pd.read_csv('indian_states.csv')"
   ]
  },
  {
   "cell_type": "code",
   "execution_count": 39,
   "metadata": {},
   "outputs": [
    {
     "data": {
      "text/html": [
       "<div>\n",
       "<style scoped>\n",
       "    .dataframe tbody tr th:only-of-type {\n",
       "        vertical-align: middle;\n",
       "    }\n",
       "\n",
       "    .dataframe tbody tr th {\n",
       "        vertical-align: top;\n",
       "    }\n",
       "\n",
       "    .dataframe thead th {\n",
       "        text-align: right;\n",
       "    }\n",
       "</style>\n",
       "<table border=\"1\" class=\"dataframe\">\n",
       "  <thead>\n",
       "    <tr style=\"text-align: right;\">\n",
       "      <th></th>\n",
       "      <th>Unnamed: 0</th>\n",
       "      <th>capital</th>\n",
       "      <th>population</th>\n",
       "      <th>state</th>\n",
       "      <th>Unnamed: 4</th>\n",
       "    </tr>\n",
       "  </thead>\n",
       "  <tbody>\n",
       "    <tr>\n",
       "      <th>0</th>\n",
       "      <td>hr</td>\n",
       "      <td>chandigarh</td>\n",
       "      <td>234</td>\n",
       "      <td>haryana</td>\n",
       "      <td>NaN</td>\n",
       "    </tr>\n",
       "    <tr>\n",
       "      <th>1</th>\n",
       "      <td>pu</td>\n",
       "      <td>chandigarh</td>\n",
       "      <td>312</td>\n",
       "      <td>punjab</td>\n",
       "      <td>NaN</td>\n",
       "    </tr>\n",
       "    <tr>\n",
       "      <th>2</th>\n",
       "      <td>rj</td>\n",
       "      <td>jaipur</td>\n",
       "      <td>2344</td>\n",
       "      <td>rajasthan</td>\n",
       "      <td>NaN</td>\n",
       "    </tr>\n",
       "    <tr>\n",
       "      <th>3</th>\n",
       "      <td>mp</td>\n",
       "      <td>Bhopal</td>\n",
       "      <td>3455</td>\n",
       "      <td>Madhya Pradesh</td>\n",
       "      <td>NaN</td>\n",
       "    </tr>\n",
       "  </tbody>\n",
       "</table>\n",
       "</div>"
      ],
      "text/plain": [
       "  Unnamed: 0     capital  population           state  Unnamed: 4\n",
       "0         hr  chandigarh         234         haryana         NaN\n",
       "1         pu  chandigarh         312          punjab         NaN\n",
       "2         rj      jaipur        2344       rajasthan         NaN\n",
       "3         mp      Bhopal        3455  Madhya Pradesh         NaN"
      ]
     },
     "execution_count": 39,
     "metadata": {},
     "output_type": "execute_result"
    }
   ],
   "source": [
    "india"
   ]
  },
  {
   "cell_type": "code",
   "execution_count": 40,
   "metadata": {},
   "outputs": [
    {
     "data": {
      "text/html": [
       "<div>\n",
       "<style scoped>\n",
       "    .dataframe tbody tr th:only-of-type {\n",
       "        vertical-align: middle;\n",
       "    }\n",
       "\n",
       "    .dataframe tbody tr th {\n",
       "        vertical-align: top;\n",
       "    }\n",
       "\n",
       "    .dataframe thead th {\n",
       "        text-align: right;\n",
       "    }\n",
       "</style>\n",
       "<table border=\"1\" class=\"dataframe\">\n",
       "  <thead>\n",
       "    <tr style=\"text-align: right;\">\n",
       "      <th></th>\n",
       "      <th>capital</th>\n",
       "      <th>population</th>\n",
       "      <th>state</th>\n",
       "      <th>Unnamed: 4</th>\n",
       "    </tr>\n",
       "  </thead>\n",
       "  <tbody>\n",
       "    <tr>\n",
       "      <th>hr</th>\n",
       "      <td>chandigarh</td>\n",
       "      <td>234</td>\n",
       "      <td>haryana</td>\n",
       "      <td>NaN</td>\n",
       "    </tr>\n",
       "    <tr>\n",
       "      <th>pu</th>\n",
       "      <td>chandigarh</td>\n",
       "      <td>312</td>\n",
       "      <td>punjab</td>\n",
       "      <td>NaN</td>\n",
       "    </tr>\n",
       "    <tr>\n",
       "      <th>rj</th>\n",
       "      <td>jaipur</td>\n",
       "      <td>2344</td>\n",
       "      <td>rajasthan</td>\n",
       "      <td>NaN</td>\n",
       "    </tr>\n",
       "    <tr>\n",
       "      <th>mp</th>\n",
       "      <td>Bhopal</td>\n",
       "      <td>3455</td>\n",
       "      <td>Madhya Pradesh</td>\n",
       "      <td>NaN</td>\n",
       "    </tr>\n",
       "  </tbody>\n",
       "</table>\n",
       "</div>"
      ],
      "text/plain": [
       "       capital  population           state  Unnamed: 4\n",
       "hr  chandigarh         234         haryana         NaN\n",
       "pu  chandigarh         312          punjab         NaN\n",
       "rj      jaipur        2344       rajasthan         NaN\n",
       "mp      Bhopal        3455  Madhya Pradesh         NaN"
      ]
     },
     "execution_count": 40,
     "metadata": {},
     "output_type": "execute_result"
    }
   ],
   "source": [
    "# using first column as index of rows\n",
    "india = pd.read_csv('indian_states.csv', index_col= 0 )\n",
    "india"
   ]
  },
  {
   "cell_type": "code",
   "execution_count": 41,
   "metadata": {},
   "outputs": [
    {
     "data": {
      "text/html": [
       "<div>\n",
       "<style scoped>\n",
       "    .dataframe tbody tr th:only-of-type {\n",
       "        vertical-align: middle;\n",
       "    }\n",
       "\n",
       "    .dataframe tbody tr th {\n",
       "        vertical-align: top;\n",
       "    }\n",
       "\n",
       "    .dataframe thead th {\n",
       "        text-align: right;\n",
       "    }\n",
       "</style>\n",
       "<table border=\"1\" class=\"dataframe\">\n",
       "  <thead>\n",
       "    <tr style=\"text-align: right;\">\n",
       "      <th></th>\n",
       "      <th>capital</th>\n",
       "      <th>population</th>\n",
       "      <th>state</th>\n",
       "      <th>Unnamed: 4</th>\n",
       "    </tr>\n",
       "  </thead>\n",
       "  <tbody>\n",
       "    <tr>\n",
       "      <th>hr</th>\n",
       "      <td>chandigarh</td>\n",
       "      <td>234</td>\n",
       "      <td>haryana</td>\n",
       "      <td>NaN</td>\n",
       "    </tr>\n",
       "    <tr>\n",
       "      <th>pb</th>\n",
       "      <td>chandigarh</td>\n",
       "      <td>312</td>\n",
       "      <td>punjab</td>\n",
       "      <td>NaN</td>\n",
       "    </tr>\n",
       "    <tr>\n",
       "      <th>rj</th>\n",
       "      <td>jaipur</td>\n",
       "      <td>2344</td>\n",
       "      <td>rajasthan</td>\n",
       "      <td>NaN</td>\n",
       "    </tr>\n",
       "    <tr>\n",
       "      <th>mp</th>\n",
       "      <td>Bhopal</td>\n",
       "      <td>3455</td>\n",
       "      <td>Madhya Pradesh</td>\n",
       "      <td>NaN</td>\n",
       "    </tr>\n",
       "  </tbody>\n",
       "</table>\n",
       "</div>"
      ],
      "text/plain": [
       "       capital  population           state  Unnamed: 4\n",
       "hr  chandigarh         234         haryana         NaN\n",
       "pb  chandigarh         312          punjab         NaN\n",
       "rj      jaipur        2344       rajasthan         NaN\n",
       "mp      Bhopal        3455  Madhya Pradesh         NaN"
      ]
     },
     "execution_count": 41,
     "metadata": {},
     "output_type": "execute_result"
    }
   ],
   "source": [
    "india.index = ['hr', 'pb','rj','mp']\n",
    "india"
   ]
  },
  {
   "cell_type": "code",
   "execution_count": 42,
   "metadata": {},
   "outputs": [
    {
     "name": "stdout",
     "output_type": "stream",
     "text": [
      "hr           haryana\n",
      "pb            punjab\n",
      "rj         rajasthan\n",
      "mp    Madhya Pradesh\n",
      "Name: state, dtype: object\n",
      "<class 'pandas.core.series.Series'>\n"
     ]
    }
   ],
   "source": [
    "# Accessing data from a dataframe\n",
    "# USING 'SQ. BRACKETS'\n",
    "series1 = india[\"state\"]  # returns 'Series' object corresponding to \"state\" COLUMN.\n",
    "print(series1)\n",
    "print(type(series1))"
   ]
  },
  {
   "cell_type": "code",
   "execution_count": 43,
   "metadata": {},
   "outputs": [
    {
     "name": "stdout",
     "output_type": "stream",
     "text": [
      "             state\n",
      "hr         haryana\n",
      "pb          punjab\n",
      "rj       rajasthan\n",
      "mp  Madhya Pradesh\n",
      "<class 'pandas.core.frame.DataFrame'>\n"
     ]
    },
    {
     "data": {
      "text/html": [
       "<div>\n",
       "<style scoped>\n",
       "    .dataframe tbody tr th:only-of-type {\n",
       "        vertical-align: middle;\n",
       "    }\n",
       "\n",
       "    .dataframe tbody tr th {\n",
       "        vertical-align: top;\n",
       "    }\n",
       "\n",
       "    .dataframe thead th {\n",
       "        text-align: right;\n",
       "    }\n",
       "</style>\n",
       "<table border=\"1\" class=\"dataframe\">\n",
       "  <thead>\n",
       "    <tr style=\"text-align: right;\">\n",
       "      <th></th>\n",
       "      <th>state</th>\n",
       "      <th>capital</th>\n",
       "    </tr>\n",
       "  </thead>\n",
       "  <tbody>\n",
       "    <tr>\n",
       "      <th>hr</th>\n",
       "      <td>haryana</td>\n",
       "      <td>chandigarh</td>\n",
       "    </tr>\n",
       "    <tr>\n",
       "      <th>pb</th>\n",
       "      <td>punjab</td>\n",
       "      <td>chandigarh</td>\n",
       "    </tr>\n",
       "    <tr>\n",
       "      <th>rj</th>\n",
       "      <td>rajasthan</td>\n",
       "      <td>jaipur</td>\n",
       "    </tr>\n",
       "    <tr>\n",
       "      <th>mp</th>\n",
       "      <td>Madhya Pradesh</td>\n",
       "      <td>Bhopal</td>\n",
       "    </tr>\n",
       "  </tbody>\n",
       "</table>\n",
       "</div>"
      ],
      "text/plain": [
       "             state     capital\n",
       "hr         haryana  chandigarh\n",
       "pb          punjab  chandigarh\n",
       "rj       rajasthan      jaipur\n",
       "mp  Madhya Pradesh      Bhopal"
      ]
     },
     "execution_count": 43,
     "metadata": {},
     "output_type": "execute_result"
    }
   ],
   "source": [
    "sub_data_frame = india[[\"state\"]]  # returns DataFrame object, using Double Sq. Brackets.\n",
    "print(sub_data_frame)\n",
    "print(type(sub_data_frame))\n",
    "sub_df = india[['state', 'capital']]\n",
    "sub_df"
   ]
  },
  {
   "cell_type": "code",
   "execution_count": 44,
   "metadata": {},
   "outputs": [
    {
     "data": {
      "text/html": [
       "<div>\n",
       "<style scoped>\n",
       "    .dataframe tbody tr th:only-of-type {\n",
       "        vertical-align: middle;\n",
       "    }\n",
       "\n",
       "    .dataframe tbody tr th {\n",
       "        vertical-align: top;\n",
       "    }\n",
       "\n",
       "    .dataframe thead th {\n",
       "        text-align: right;\n",
       "    }\n",
       "</style>\n",
       "<table border=\"1\" class=\"dataframe\">\n",
       "  <thead>\n",
       "    <tr style=\"text-align: right;\">\n",
       "      <th></th>\n",
       "      <th>capital</th>\n",
       "      <th>population</th>\n",
       "      <th>state</th>\n",
       "      <th>Unnamed: 4</th>\n",
       "    </tr>\n",
       "  </thead>\n",
       "  <tbody>\n",
       "    <tr>\n",
       "      <th>pb</th>\n",
       "      <td>chandigarh</td>\n",
       "      <td>312</td>\n",
       "      <td>punjab</td>\n",
       "      <td>NaN</td>\n",
       "    </tr>\n",
       "    <tr>\n",
       "      <th>rj</th>\n",
       "      <td>jaipur</td>\n",
       "      <td>2344</td>\n",
       "      <td>rajasthan</td>\n",
       "      <td>NaN</td>\n",
       "    </tr>\n",
       "  </tbody>\n",
       "</table>\n",
       "</div>"
      ],
      "text/plain": [
       "       capital  population      state  Unnamed: 4\n",
       "pb  chandigarh         312     punjab         NaN\n",
       "rj      jaipur        2344  rajasthan         NaN"
      ]
     },
     "execution_count": 44,
     "metadata": {},
     "output_type": "execute_result"
    }
   ],
   "source": [
    "# accessing rows \n",
    "india[1:3]"
   ]
  },
  {
   "cell_type": "code",
   "execution_count": 45,
   "metadata": {},
   "outputs": [
    {
     "name": "stdout",
     "output_type": "stream",
     "text": [
      "capital       chandigarh\n",
      "population           312\n",
      "state             punjab\n",
      "Unnamed: 4           NaN\n",
      "Name: pb, dtype: object\n",
      "<class 'pandas.core.series.Series'>\n"
     ]
    }
   ],
   "source": [
    "# USING '.loc'  (label-based)\n",
    "# select rows using their index\n",
    "print( india.loc[\"pb\"]) # returns 'Series' object\n",
    "print(type(india.loc[\"pb\"]))"
   ]
  },
  {
   "cell_type": "code",
   "execution_count": 46,
   "metadata": {},
   "outputs": [
    {
     "data": {
      "text/html": [
       "<div>\n",
       "<style scoped>\n",
       "    .dataframe tbody tr th:only-of-type {\n",
       "        vertical-align: middle;\n",
       "    }\n",
       "\n",
       "    .dataframe tbody tr th {\n",
       "        vertical-align: top;\n",
       "    }\n",
       "\n",
       "    .dataframe thead th {\n",
       "        text-align: right;\n",
       "    }\n",
       "</style>\n",
       "<table border=\"1\" class=\"dataframe\">\n",
       "  <thead>\n",
       "    <tr style=\"text-align: right;\">\n",
       "      <th></th>\n",
       "      <th>state</th>\n",
       "    </tr>\n",
       "  </thead>\n",
       "  <tbody>\n",
       "    <tr>\n",
       "      <th>hr</th>\n",
       "      <td>haryana</td>\n",
       "    </tr>\n",
       "    <tr>\n",
       "      <th>pb</th>\n",
       "      <td>punjab</td>\n",
       "    </tr>\n",
       "    <tr>\n",
       "      <th>rj</th>\n",
       "      <td>rajasthan</td>\n",
       "    </tr>\n",
       "    <tr>\n",
       "      <th>mp</th>\n",
       "      <td>Madhya Pradesh</td>\n",
       "    </tr>\n",
       "  </tbody>\n",
       "</table>\n",
       "</div>"
      ],
      "text/plain": [
       "             state\n",
       "hr         haryana\n",
       "pb          punjab\n",
       "rj       rajasthan\n",
       "mp  Madhya Pradesh"
      ]
     },
     "execution_count": 46,
     "metadata": {},
     "output_type": "execute_result"
    }
   ],
   "source": [
    "india.loc[[\"pb\"]]  # returns DataFrame, .loc[ [rows], [columns]]\n",
    "india.iloc[:,2]    # returns series\n",
    "india.iloc[:,[2]]  # returns dataframe"
   ]
  },
  {
   "cell_type": "code",
   "execution_count": 47,
   "metadata": {},
   "outputs": [
    {
     "data": {
      "text/html": [
       "<div>\n",
       "<style scoped>\n",
       "    .dataframe tbody tr th:only-of-type {\n",
       "        vertical-align: middle;\n",
       "    }\n",
       "\n",
       "    .dataframe tbody tr th {\n",
       "        vertical-align: top;\n",
       "    }\n",
       "\n",
       "    .dataframe thead th {\n",
       "        text-align: right;\n",
       "    }\n",
       "</style>\n",
       "<table border=\"1\" class=\"dataframe\">\n",
       "  <thead>\n",
       "    <tr style=\"text-align: right;\">\n",
       "      <th></th>\n",
       "      <th>capital</th>\n",
       "      <th>population</th>\n",
       "      <th>state</th>\n",
       "      <th>Unnamed: 4</th>\n",
       "    </tr>\n",
       "  </thead>\n",
       "  <tbody>\n",
       "    <tr>\n",
       "      <th>pb</th>\n",
       "      <td>chandigarh</td>\n",
       "      <td>312</td>\n",
       "      <td>punjab</td>\n",
       "      <td>NaN</td>\n",
       "    </tr>\n",
       "    <tr>\n",
       "      <th>rj</th>\n",
       "      <td>jaipur</td>\n",
       "      <td>2344</td>\n",
       "      <td>rajasthan</td>\n",
       "      <td>NaN</td>\n",
       "    </tr>\n",
       "  </tbody>\n",
       "</table>\n",
       "</div>"
      ],
      "text/plain": [
       "       capital  population      state  Unnamed: 4\n",
       "pb  chandigarh         312     punjab         NaN\n",
       "rj      jaipur        2344  rajasthan         NaN"
      ]
     },
     "execution_count": 47,
     "metadata": {},
     "output_type": "execute_result"
    }
   ],
   "source": [
    "india.loc[[\"pb\",\"rj\"]]"
   ]
  },
  {
   "cell_type": "code",
   "execution_count": 48,
   "metadata": {},
   "outputs": [
    {
     "data": {
      "text/html": [
       "<div>\n",
       "<style scoped>\n",
       "    .dataframe tbody tr th:only-of-type {\n",
       "        vertical-align: middle;\n",
       "    }\n",
       "\n",
       "    .dataframe tbody tr th {\n",
       "        vertical-align: top;\n",
       "    }\n",
       "\n",
       "    .dataframe thead th {\n",
       "        text-align: right;\n",
       "    }\n",
       "</style>\n",
       "<table border=\"1\" class=\"dataframe\">\n",
       "  <thead>\n",
       "    <tr style=\"text-align: right;\">\n",
       "      <th></th>\n",
       "      <th>capital</th>\n",
       "      <th>state</th>\n",
       "    </tr>\n",
       "  </thead>\n",
       "  <tbody>\n",
       "    <tr>\n",
       "      <th>hr</th>\n",
       "      <td>chandigarh</td>\n",
       "      <td>haryana</td>\n",
       "    </tr>\n",
       "    <tr>\n",
       "      <th>pb</th>\n",
       "      <td>chandigarh</td>\n",
       "      <td>punjab</td>\n",
       "    </tr>\n",
       "    <tr>\n",
       "      <th>rj</th>\n",
       "      <td>jaipur</td>\n",
       "      <td>rajasthan</td>\n",
       "    </tr>\n",
       "    <tr>\n",
       "      <th>mp</th>\n",
       "      <td>Bhopal</td>\n",
       "      <td>Madhya Pradesh</td>\n",
       "    </tr>\n",
       "  </tbody>\n",
       "</table>\n",
       "</div>"
      ],
      "text/plain": [
       "       capital           state\n",
       "hr  chandigarh         haryana\n",
       "pb  chandigarh          punjab\n",
       "rj      jaipur       rajasthan\n",
       "mp      Bhopal  Madhya Pradesh"
      ]
     },
     "execution_count": 48,
     "metadata": {},
     "output_type": "execute_result"
    }
   ],
   "source": [
    "india.loc[:,[\"capital\", \"state\"]]  # .loc[:, columns] all the rows"
   ]
  },
  {
   "cell_type": "code",
   "execution_count": 49,
   "metadata": {},
   "outputs": [
    {
     "data": {
      "text/html": [
       "<div>\n",
       "<style scoped>\n",
       "    .dataframe tbody tr th:only-of-type {\n",
       "        vertical-align: middle;\n",
       "    }\n",
       "\n",
       "    .dataframe tbody tr th {\n",
       "        vertical-align: top;\n",
       "    }\n",
       "\n",
       "    .dataframe thead th {\n",
       "        text-align: right;\n",
       "    }\n",
       "</style>\n",
       "<table border=\"1\" class=\"dataframe\">\n",
       "  <thead>\n",
       "    <tr style=\"text-align: right;\">\n",
       "      <th></th>\n",
       "      <th>population</th>\n",
       "      <th>state</th>\n",
       "    </tr>\n",
       "  </thead>\n",
       "  <tbody>\n",
       "    <tr>\n",
       "      <th>pb</th>\n",
       "      <td>312</td>\n",
       "      <td>punjab</td>\n",
       "    </tr>\n",
       "    <tr>\n",
       "      <th>rj</th>\n",
       "      <td>2344</td>\n",
       "      <td>rajasthan</td>\n",
       "    </tr>\n",
       "  </tbody>\n",
       "</table>\n",
       "</div>"
      ],
      "text/plain": [
       "    population      state\n",
       "pb         312     punjab\n",
       "rj        2344  rajasthan"
      ]
     },
     "execution_count": 49,
     "metadata": {},
     "output_type": "execute_result"
    }
   ],
   "source": [
    "# USING 'iloc', similar to 'loc' difference: index based\n",
    "india.iloc[ [0,1], [1,2]]\n",
    "india.iloc[ 1:3, 1:3]"
   ]
  },
  {
   "cell_type": "code",
   "execution_count": 50,
   "metadata": {},
   "outputs": [
    {
     "data": {
      "text/plain": [
       "hr           haryana\n",
       "pb            punjab\n",
       "rj         rajasthan\n",
       "mp    Madhya Pradesh\n",
       "Name: state, dtype: object"
      ]
     },
     "execution_count": 50,
     "metadata": {},
     "output_type": "execute_result"
    }
   ],
   "source": [
    "india.iloc[:, 2] # returns series object"
   ]
  },
  {
   "cell_type": "code",
   "execution_count": 51,
   "metadata": {},
   "outputs": [],
   "source": [
    "# Comparison Operators"
   ]
  },
  {
   "cell_type": "code",
   "execution_count": 52,
   "metadata": {},
   "outputs": [
    {
     "name": "stdout",
     "output_type": "stream",
     "text": [
      "True\n",
      "True\n",
      "False\n"
     ]
    }
   ],
   "source": [
    "# Boolean \n",
    "print( True == 1)\n",
    "print( False == 0)\n",
    "print( True == 2)  # Unlike C++, +ve number != True in python, only 1 == True and 0 == False"
   ]
  },
  {
   "cell_type": "code",
   "execution_count": 53,
   "metadata": {},
   "outputs": [
    {
     "data": {
      "text/plain": [
       "array([False, False,  True,  True, False])"
      ]
     },
     "execution_count": 53,
     "metadata": {},
     "output_type": "execute_result"
    }
   ],
   "source": [
    "areas = np.array([12,23,343,545,12])\n",
    "areas > 100\n",
    "# areas > 100 , here python understand that you want to compare each element of the numpy.array with 100.\n",
    "# so in background: it create a array same size as that of areas with every value = 100 and then compare."
   ]
  },
  {
   "cell_type": "code",
   "execution_count": 54,
   "metadata": {},
   "outputs": [
    {
     "data": {
      "text/plain": [
       "False"
      ]
     },
     "execution_count": 54,
     "metadata": {},
     "output_type": "execute_result"
    }
   ],
   "source": [
    "# boolean Operators\n",
    "# and , or ,  not\n",
    "not True\n",
    "# 'not' has higher priority than 'and' & 'OR'"
   ]
  },
  {
   "cell_type": "code",
   "execution_count": 55,
   "metadata": {},
   "outputs": [],
   "source": [
    "b1 = np.array([True])\n",
    "b2 = np.array([True])\n",
    "b3 = np.array([True, False, True])\n",
    "b4 = np.array([True, True, False])"
   ]
  },
  {
   "cell_type": "code",
   "execution_count": 56,
   "metadata": {},
   "outputs": [
    {
     "data": {
      "text/plain": [
       "array([ True])"
      ]
     },
     "execution_count": 56,
     "metadata": {},
     "output_type": "execute_result"
    }
   ],
   "source": [
    "b1 and b2"
   ]
  },
  {
   "cell_type": "code",
   "execution_count": 57,
   "metadata": {},
   "outputs": [
    {
     "ename": "ValueError",
     "evalue": "The truth value of an array with more than one element is ambiguous. Use a.any() or a.all()",
     "output_type": "error",
     "traceback": [
      "\u001b[0;31m---------------------------------------------------------------------------\u001b[0m",
      "\u001b[0;31mValueError\u001b[0m                                Traceback (most recent call last)",
      "\u001b[0;32m<ipython-input-57-dc2d198300c5>\u001b[0m in \u001b[0;36m<module>\u001b[0;34m()\u001b[0m\n\u001b[0;32m----> 1\u001b[0;31m \u001b[0mb3\u001b[0m \u001b[0;32mand\u001b[0m \u001b[0mb4\u001b[0m\u001b[0;34m\u001b[0m\u001b[0m\n\u001b[0m",
      "\u001b[0;31mValueError\u001b[0m: The truth value of an array with more than one element is ambiguous. Use a.any() or a.all()"
     ]
    }
   ],
   "source": [
    "b3 and b4"
   ]
  },
  {
   "cell_type": "code",
   "execution_count": 58,
   "metadata": {},
   "outputs": [
    {
     "data": {
      "text/plain": [
       "array([ True, False, False])"
      ]
     },
     "execution_count": 58,
     "metadata": {},
     "output_type": "execute_result"
    }
   ],
   "source": [
    "np.logical_and(b3,b4) # elementwise and operation of two numpy arrays"
   ]
  },
  {
   "cell_type": "code",
   "execution_count": 59,
   "metadata": {},
   "outputs": [],
   "source": [
    "# boolean operators for 'numpy.array'\n",
    "# np.logical_and( a1, a2)\n",
    "# np.logical_or( a1, a2)\n",
    "# np.logical_not(a1, a2)"
   ]
  },
  {
   "cell_type": "code",
   "execution_count": 60,
   "metadata": {},
   "outputs": [
    {
     "data": {
      "text/html": [
       "<div>\n",
       "<style scoped>\n",
       "    .dataframe tbody tr th:only-of-type {\n",
       "        vertical-align: middle;\n",
       "    }\n",
       "\n",
       "    .dataframe tbody tr th {\n",
       "        vertical-align: top;\n",
       "    }\n",
       "\n",
       "    .dataframe thead th {\n",
       "        text-align: right;\n",
       "    }\n",
       "</style>\n",
       "<table border=\"1\" class=\"dataframe\">\n",
       "  <thead>\n",
       "    <tr style=\"text-align: right;\">\n",
       "      <th></th>\n",
       "      <th>capital</th>\n",
       "      <th>population</th>\n",
       "      <th>state</th>\n",
       "      <th>Unnamed: 4</th>\n",
       "    </tr>\n",
       "  </thead>\n",
       "  <tbody>\n",
       "    <tr>\n",
       "      <th>hr</th>\n",
       "      <td>chandigarh</td>\n",
       "      <td>234</td>\n",
       "      <td>haryana</td>\n",
       "      <td>NaN</td>\n",
       "    </tr>\n",
       "    <tr>\n",
       "      <th>pb</th>\n",
       "      <td>chandigarh</td>\n",
       "      <td>312</td>\n",
       "      <td>punjab</td>\n",
       "      <td>NaN</td>\n",
       "    </tr>\n",
       "    <tr>\n",
       "      <th>rj</th>\n",
       "      <td>jaipur</td>\n",
       "      <td>2344</td>\n",
       "      <td>rajasthan</td>\n",
       "      <td>NaN</td>\n",
       "    </tr>\n",
       "    <tr>\n",
       "      <th>mp</th>\n",
       "      <td>Bhopal</td>\n",
       "      <td>3455</td>\n",
       "      <td>Madhya Pradesh</td>\n",
       "      <td>NaN</td>\n",
       "    </tr>\n",
       "  </tbody>\n",
       "</table>\n",
       "</div>"
      ],
      "text/plain": [
       "       capital  population           state  Unnamed: 4\n",
       "hr  chandigarh         234         haryana         NaN\n",
       "pb  chandigarh         312          punjab         NaN\n",
       "rj      jaipur        2344       rajasthan         NaN\n",
       "mp      Bhopal        3455  Madhya Pradesh         NaN"
      ]
     },
     "execution_count": 60,
     "metadata": {},
     "output_type": "execute_result"
    }
   ],
   "source": [
    "# Filtering pandas DataFrame, mainly applying comparision and boolean operators on the DataFrame\n",
    "india\n",
    "# select the states whos population is greater than 1000"
   ]
  },
  {
   "cell_type": "code",
   "execution_count": 61,
   "metadata": {},
   "outputs": [
    {
     "name": "stdout",
     "output_type": "stream",
     "text": [
      "hr     234\n",
      "pb     312\n",
      "rj    2344\n",
      "mp    3455\n",
      "Name: population, dtype: int64\n"
     ]
    }
   ],
   "source": [
    "# comparison operator: work on 'Series' not on 'DataFrame'\n",
    "population = india[\"population\"] # return Series\n",
    "population = india.loc[:,\"population\"] # return Series\n",
    "population = india.iloc[:,1] # return Series\n",
    "print(population)"
   ]
  },
  {
   "cell_type": "code",
   "execution_count": 62,
   "metadata": {},
   "outputs": [
    {
     "name": "stdout",
     "output_type": "stream",
     "text": [
      "hr    False\n",
      "pb    False\n",
      "rj     True\n",
      "mp     True\n",
      "Name: population, dtype: bool\n"
     ]
    }
   ],
   "source": [
    "# Generate boolean series, basis: population > 1000\n",
    "pop_arr = population > 1000 # return 'Series' because variable on which  operation is done is also 'Series'\n",
    "print(pop_arr)"
   ]
  },
  {
   "cell_type": "code",
   "execution_count": 63,
   "metadata": {},
   "outputs": [
    {
     "data": {
      "text/html": [
       "<div>\n",
       "<style scoped>\n",
       "    .dataframe tbody tr th:only-of-type {\n",
       "        vertical-align: middle;\n",
       "    }\n",
       "\n",
       "    .dataframe tbody tr th {\n",
       "        vertical-align: top;\n",
       "    }\n",
       "\n",
       "    .dataframe thead th {\n",
       "        text-align: right;\n",
       "    }\n",
       "</style>\n",
       "<table border=\"1\" class=\"dataframe\">\n",
       "  <thead>\n",
       "    <tr style=\"text-align: right;\">\n",
       "      <th></th>\n",
       "      <th>capital</th>\n",
       "      <th>population</th>\n",
       "      <th>state</th>\n",
       "      <th>Unnamed: 4</th>\n",
       "    </tr>\n",
       "  </thead>\n",
       "  <tbody>\n",
       "    <tr>\n",
       "      <th>rj</th>\n",
       "      <td>jaipur</td>\n",
       "      <td>2344</td>\n",
       "      <td>rajasthan</td>\n",
       "      <td>NaN</td>\n",
       "    </tr>\n",
       "    <tr>\n",
       "      <th>mp</th>\n",
       "      <td>Bhopal</td>\n",
       "      <td>3455</td>\n",
       "      <td>Madhya Pradesh</td>\n",
       "      <td>NaN</td>\n",
       "    </tr>\n",
       "  </tbody>\n",
       "</table>\n",
       "</div>"
      ],
      "text/plain": [
       "   capital  population           state  Unnamed: 4\n",
       "rj  jaipur        2344       rajasthan         NaN\n",
       "mp  Bhopal        3455  Madhya Pradesh         NaN"
      ]
     },
     "execution_count": 63,
     "metadata": {},
     "output_type": "execute_result"
    }
   ],
   "source": [
    "# Use the boolean 'Series' to filter/subset the dataFrame\n",
    "india[pop_arr]"
   ]
  },
  {
   "cell_type": "code",
   "execution_count": 64,
   "metadata": {},
   "outputs": [
    {
     "data": {
      "text/html": [
       "<div>\n",
       "<style scoped>\n",
       "    .dataframe tbody tr th:only-of-type {\n",
       "        vertical-align: middle;\n",
       "    }\n",
       "\n",
       "    .dataframe tbody tr th {\n",
       "        vertical-align: top;\n",
       "    }\n",
       "\n",
       "    .dataframe thead th {\n",
       "        text-align: right;\n",
       "    }\n",
       "</style>\n",
       "<table border=\"1\" class=\"dataframe\">\n",
       "  <thead>\n",
       "    <tr style=\"text-align: right;\">\n",
       "      <th></th>\n",
       "      <th>capital</th>\n",
       "      <th>population</th>\n",
       "      <th>state</th>\n",
       "      <th>Unnamed: 4</th>\n",
       "    </tr>\n",
       "  </thead>\n",
       "  <tbody>\n",
       "    <tr>\n",
       "      <th>rj</th>\n",
       "      <td>jaipur</td>\n",
       "      <td>2344</td>\n",
       "      <td>rajasthan</td>\n",
       "      <td>NaN</td>\n",
       "    </tr>\n",
       "    <tr>\n",
       "      <th>mp</th>\n",
       "      <td>Bhopal</td>\n",
       "      <td>3455</td>\n",
       "      <td>Madhya Pradesh</td>\n",
       "      <td>NaN</td>\n",
       "    </tr>\n",
       "  </tbody>\n",
       "</table>\n",
       "</div>"
      ],
      "text/plain": [
       "   capital  population           state  Unnamed: 4\n",
       "rj  jaipur        2344       rajasthan         NaN\n",
       "mp  Bhopal        3455  Madhya Pradesh         NaN"
      ]
     },
     "execution_count": 64,
     "metadata": {},
     "output_type": "execute_result"
    }
   ],
   "source": [
    "india[ india[\"population\"] > 1000 ] "
   ]
  },
  {
   "cell_type": "code",
   "execution_count": 65,
   "metadata": {},
   "outputs": [
    {
     "data": {
      "text/html": [
       "<div>\n",
       "<style scoped>\n",
       "    .dataframe tbody tr th:only-of-type {\n",
       "        vertical-align: middle;\n",
       "    }\n",
       "\n",
       "    .dataframe tbody tr th {\n",
       "        vertical-align: top;\n",
       "    }\n",
       "\n",
       "    .dataframe thead th {\n",
       "        text-align: right;\n",
       "    }\n",
       "</style>\n",
       "<table border=\"1\" class=\"dataframe\">\n",
       "  <thead>\n",
       "    <tr style=\"text-align: right;\">\n",
       "      <th></th>\n",
       "      <th>capital</th>\n",
       "      <th>population</th>\n",
       "      <th>state</th>\n",
       "      <th>Unnamed: 4</th>\n",
       "    </tr>\n",
       "  </thead>\n",
       "  <tbody>\n",
       "    <tr>\n",
       "      <th>pb</th>\n",
       "      <td>chandigarh</td>\n",
       "      <td>312</td>\n",
       "      <td>punjab</td>\n",
       "      <td>NaN</td>\n",
       "    </tr>\n",
       "    <tr>\n",
       "      <th>rj</th>\n",
       "      <td>jaipur</td>\n",
       "      <td>2344</td>\n",
       "      <td>rajasthan</td>\n",
       "      <td>NaN</td>\n",
       "    </tr>\n",
       "  </tbody>\n",
       "</table>\n",
       "</div>"
      ],
      "text/plain": [
       "       capital  population      state  Unnamed: 4\n",
       "pb  chandigarh         312     punjab         NaN\n",
       "rj      jaipur        2344  rajasthan         NaN"
      ]
     },
     "execution_count": 65,
     "metadata": {},
     "output_type": "execute_result"
    }
   ],
   "source": [
    "# Boolean operation 'and','or','not' are applied on 'SERIES' not on 'DATAFRAME'\n",
    "# WE need to use \"np.logical_and(Series1, Series2)\", np.logical_or(a,b), np.logical_or(a,b), similar for 'not'\n",
    "# e.g find the states having popultion in range (300, 3000)\n",
    "india[ np.logical_and( india[\"population\"] > 300, india[\"population\"] < 3000)]"
   ]
  },
  {
   "cell_type": "code",
   "execution_count": null,
   "metadata": {},
   "outputs": [],
   "source": [
    "# while loop\n",
    "# while condition:\n",
    "#    expression"
   ]
  },
  {
   "cell_type": "code",
   "execution_count": 66,
   "metadata": {},
   "outputs": [
    {
     "name": "stdout",
     "output_type": "stream",
     "text": [
      "('height: ', 1.78)\n",
      "('height: ', 2.78)\n",
      "('height: ', 1.5)\n",
      "('height: ', 3.5)\n"
     ]
    }
   ],
   "source": [
    "# for loop\n",
    "family = [1.78, 2.78, 1.5, 3.5] # height of family members\n",
    "for height in family:\n",
    "    print(\"height: \",height)"
   ]
  },
  {
   "cell_type": "code",
   "execution_count": 67,
   "metadata": {},
   "outputs": [
    {
     "name": "stdout",
     "output_type": "stream",
     "text": [
      "('Index: ', 0, ' Height: ', 1.78)\n",
      "('Index: ', 1, ' Height: ', 2.78)\n",
      "('Index: ', 2, ' Height: ', 1.5)\n",
      "('Index: ', 3, ' Height: ', 3.5)\n"
     ]
    }
   ],
   "source": [
    "# 'Index' and 'value' both\n",
    "for index, height in enumerate(family):\n",
    "    print('Index: ',index,' Height: ',height)"
   ]
  },
  {
   "cell_type": "code",
   "execution_count": 68,
   "metadata": {},
   "outputs": [
    {
     "name": "stdout",
     "output_type": "stream",
     "text": [
      "F\n",
      "A\n",
      "M\n",
      "I\n",
      "L\n",
      "Y\n"
     ]
    }
   ],
   "source": [
    "# Iterate over 'String'\n",
    "for c in \"family\":\n",
    "    print(c.capitalize())"
   ]
  },
  {
   "cell_type": "code",
   "execution_count": 89,
   "metadata": {},
   "outputs": [
    {
     "name": "stdout",
     "output_type": "stream",
     "text": [
      "('state', ['haryana', 'punjab', 'rajasthan', 'Madhya Pradesh'])\n",
      "('population', [234, 312, 2344, 3455])\n",
      "('capital', ['chandigarh', 'chandigarh', 'jaipur', 'Bhopal'])\n"
     ]
    }
   ],
   "source": [
    "# Iterate over Dictionary\n",
    "# Dictionary requires a Method, numpy array requires function\n",
    "for k,v in mydict.items():\n",
    "    print(k,v)\n",
    "# Dictionary Iteration is Unordered because Dictionary is inherently unordered."
   ]
  },
  {
   "cell_type": "code",
   "execution_count": 74,
   "metadata": {},
   "outputs": [
    {
     "name": "stdout",
     "output_type": "stream",
     "text": [
      "2\n",
      "4\n",
      "6\n",
      "8\n",
      "10\n"
     ]
    }
   ],
   "source": [
    "# Iterate over numpy array\n",
    "for ele in arr3:\n",
    "    print(ele)"
   ]
  },
  {
   "cell_type": "code",
   "execution_count": 77,
   "metadata": {},
   "outputs": [
    {
     "name": "stdout",
     "output_type": "stream",
     "text": [
      "[ 2  4  6  8 10]\n",
      "[ 1  4  9 16 25]\n",
      "2\n",
      "4\n",
      "6\n",
      "8\n",
      "10\n",
      "1\n",
      "4\n",
      "9\n",
      "16\n",
      "25\n"
     ]
    }
   ],
   "source": [
    "# construct 2d array\n",
    "arr2d = np.array([arr3, arr4]) # arguement to np.array( list ) is list.\n",
    "for ele in arr2d: # 2D array is array of 1D array\n",
    "    print(ele)\n",
    "\n",
    "for ele in np.nditer(arr2d): # np.nditer(arr2D) to iterate over each element of n-dimensional array. \n",
    "    print(ele)\n",
    "# Dictionary requires a Method, numpy array requires function"
   ]
  },
  {
   "cell_type": "code",
   "execution_count": 80,
   "metadata": {},
   "outputs": [
    {
     "name": "stdout",
     "output_type": "stream",
     "text": [
      "capital\n",
      "population\n",
      "state\n",
      "Unnamed: 4\n"
     ]
    }
   ],
   "source": [
    "# Iterating over Pandas DataFrame\n",
    "for val in india: # print columns of dataframe\n",
    "    print(val)"
   ]
  },
  {
   "cell_type": "code",
   "execution_count": 83,
   "metadata": {},
   "outputs": [
    {
     "name": "stdout",
     "output_type": "stream",
     "text": [
      "hr\n",
      "capital       chandigarh\n",
      "population           234\n",
      "state            haryana\n",
      "Unnamed: 4           NaN\n",
      "Name: hr, dtype: object\n",
      "pb\n",
      "capital       chandigarh\n",
      "population           312\n",
      "state             punjab\n",
      "Unnamed: 4           NaN\n",
      "Name: pb, dtype: object\n",
      "rj\n",
      "capital          jaipur\n",
      "population         2344\n",
      "state         rajasthan\n",
      "Unnamed: 4          NaN\n",
      "Name: rj, dtype: object\n",
      "mp\n",
      "capital               Bhopal\n",
      "population              3455\n",
      "state         Madhya Pradesh\n",
      "Unnamed: 4               NaN\n",
      "Name: mp, dtype: object\n"
     ]
    }
   ],
   "source": [
    "# accessing the content of each row: method \"iterrows()\"\n",
    "for row_label, row_content in india.iterrows():\n",
    "    print(row_label)   # str\n",
    "    print(row_content) # Series"
   ]
  },
  {
   "cell_type": "code",
   "execution_count": 85,
   "metadata": {},
   "outputs": [
    {
     "name": "stdout",
     "output_type": "stream",
     "text": [
      "hr: chandigarh\n",
      "pb: chandigarh\n",
      "rj: jaipur\n",
      "mp: Bhopal\n"
     ]
    }
   ],
   "source": [
    "# we can easily access any element of the Series using 'Subseting'\n",
    "for row_label, row_content in india.iterrows():\n",
    "    #print(row_label,\":\",row_content[\"capital\"])\n",
    "    print(\"{}: {}\".format(row_label, row_content[\"capital\"]))"
   ]
  },
  {
   "cell_type": "code",
   "execution_count": 92,
   "metadata": {},
   "outputs": [
    {
     "data": {
      "text/html": [
       "<div>\n",
       "<style scoped>\n",
       "    .dataframe tbody tr th:only-of-type {\n",
       "        vertical-align: middle;\n",
       "    }\n",
       "\n",
       "    .dataframe tbody tr th {\n",
       "        vertical-align: top;\n",
       "    }\n",
       "\n",
       "    .dataframe thead th {\n",
       "        text-align: right;\n",
       "    }\n",
       "</style>\n",
       "<table border=\"1\" class=\"dataframe\">\n",
       "  <thead>\n",
       "    <tr style=\"text-align: right;\">\n",
       "      <th></th>\n",
       "      <th>capital</th>\n",
       "      <th>population</th>\n",
       "      <th>state</th>\n",
       "      <th>Unnamed: 4</th>\n",
       "      <th>STATE</th>\n",
       "    </tr>\n",
       "  </thead>\n",
       "  <tbody>\n",
       "    <tr>\n",
       "      <th>hr</th>\n",
       "      <td>chandigarh</td>\n",
       "      <td>234</td>\n",
       "      <td>haryana</td>\n",
       "      <td>NaN</td>\n",
       "      <td>HARYANA</td>\n",
       "    </tr>\n",
       "    <tr>\n",
       "      <th>pb</th>\n",
       "      <td>chandigarh</td>\n",
       "      <td>312</td>\n",
       "      <td>punjab</td>\n",
       "      <td>NaN</td>\n",
       "      <td>PUNJAB</td>\n",
       "    </tr>\n",
       "    <tr>\n",
       "      <th>rj</th>\n",
       "      <td>jaipur</td>\n",
       "      <td>2344</td>\n",
       "      <td>rajasthan</td>\n",
       "      <td>NaN</td>\n",
       "      <td>RAJASTHAN</td>\n",
       "    </tr>\n",
       "    <tr>\n",
       "      <th>mp</th>\n",
       "      <td>Bhopal</td>\n",
       "      <td>3455</td>\n",
       "      <td>Madhya Pradesh</td>\n",
       "      <td>NaN</td>\n",
       "      <td>MADHYA PRADESH</td>\n",
       "    </tr>\n",
       "  </tbody>\n",
       "</table>\n",
       "</div>"
      ],
      "text/plain": [
       "       capital  population           state  Unnamed: 4           STATE\n",
       "hr  chandigarh         234         haryana         NaN         HARYANA\n",
       "pb  chandigarh         312          punjab         NaN          PUNJAB\n",
       "rj      jaipur        2344       rajasthan         NaN       RAJASTHAN\n",
       "mp      Bhopal        3455  Madhya Pradesh         NaN  MADHYA PRADESH"
      ]
     },
     "execution_count": 92,
     "metadata": {},
     "output_type": "execute_result"
    }
   ],
   "source": [
    "# Adding new Column to data frame, # state in caps \"STATE\"\n",
    "for row_label, row_content in india.iterrows():\n",
    "    india.loc[row_label, \"STATE\"] = row_content[\"state\"].upper()\n",
    "india"
   ]
  },
  {
   "cell_type": "code",
   "execution_count": 93,
   "metadata": {},
   "outputs": [
    {
     "data": {
      "text/html": [
       "<div>\n",
       "<style scoped>\n",
       "    .dataframe tbody tr th:only-of-type {\n",
       "        vertical-align: middle;\n",
       "    }\n",
       "\n",
       "    .dataframe tbody tr th {\n",
       "        vertical-align: top;\n",
       "    }\n",
       "\n",
       "    .dataframe thead th {\n",
       "        text-align: right;\n",
       "    }\n",
       "</style>\n",
       "<table border=\"1\" class=\"dataframe\">\n",
       "  <thead>\n",
       "    <tr style=\"text-align: right;\">\n",
       "      <th></th>\n",
       "      <th>capital</th>\n",
       "      <th>population</th>\n",
       "      <th>state</th>\n",
       "      <th>Unnamed: 4</th>\n",
       "      <th>STATE</th>\n",
       "      <th>CAPITAL</th>\n",
       "    </tr>\n",
       "  </thead>\n",
       "  <tbody>\n",
       "    <tr>\n",
       "      <th>hr</th>\n",
       "      <td>chandigarh</td>\n",
       "      <td>234</td>\n",
       "      <td>haryana</td>\n",
       "      <td>NaN</td>\n",
       "      <td>HARYANA</td>\n",
       "      <td>CHANDIGARH</td>\n",
       "    </tr>\n",
       "    <tr>\n",
       "      <th>pb</th>\n",
       "      <td>chandigarh</td>\n",
       "      <td>312</td>\n",
       "      <td>punjab</td>\n",
       "      <td>NaN</td>\n",
       "      <td>PUNJAB</td>\n",
       "      <td>CHANDIGARH</td>\n",
       "    </tr>\n",
       "    <tr>\n",
       "      <th>rj</th>\n",
       "      <td>jaipur</td>\n",
       "      <td>2344</td>\n",
       "      <td>rajasthan</td>\n",
       "      <td>NaN</td>\n",
       "      <td>RAJASTHAN</td>\n",
       "      <td>JAIPUR</td>\n",
       "    </tr>\n",
       "    <tr>\n",
       "      <th>mp</th>\n",
       "      <td>Bhopal</td>\n",
       "      <td>3455</td>\n",
       "      <td>Madhya Pradesh</td>\n",
       "      <td>NaN</td>\n",
       "      <td>MADHYA PRADESH</td>\n",
       "      <td>BHOPAL</td>\n",
       "    </tr>\n",
       "  </tbody>\n",
       "</table>\n",
       "</div>"
      ],
      "text/plain": [
       "       capital  population           state  Unnamed: 4           STATE  \\\n",
       "hr  chandigarh         234         haryana         NaN         HARYANA   \n",
       "pb  chandigarh         312          punjab         NaN          PUNJAB   \n",
       "rj      jaipur        2344       rajasthan         NaN       RAJASTHAN   \n",
       "mp      Bhopal        3455  Madhya Pradesh         NaN  MADHYA PRADESH   \n",
       "\n",
       "       CAPITAL  \n",
       "hr  CHANDIGARH  \n",
       "pb  CHANDIGARH  \n",
       "rj      JAIPUR  \n",
       "mp      BHOPAL  "
      ]
     },
     "execution_count": 93,
     "metadata": {},
     "output_type": "execute_result"
    }
   ],
   "source": [
    "# Applying a Operation Element wise on column of DataFrame: df.apply()\n",
    "# here we add a new column, capital in caps\n",
    "india[\"CAPITAL\"] = india[\"capital\"].apply(str.upper)\n",
    "india"
   ]
  },
  {
   "cell_type": "code",
   "execution_count": 98,
   "metadata": {},
   "outputs": [
    {
     "name": "stdout",
     "output_type": "stream",
     "text": [
      "0.696469185598\n"
     ]
    }
   ],
   "source": [
    "# random numbers\n",
    "# np.random = subpackage inside it rand(), randint(), ... functions\n",
    "# to set seed, np.random.seed(x): fixing the seed to a particular value ==> generate the same sequence of random\n",
    "# numbers everytime.\n",
    "np.random.seed(123)\n",
    "print( np.random.rand() ) # generate random number btw (0,1)"
   ]
  },
  {
   "cell_type": "code",
   "execution_count": 109,
   "metadata": {},
   "outputs": [
    {
     "data": {
      "text/plain": [
       "1"
      ]
     },
     "execution_count": 109,
     "metadata": {},
     "output_type": "execute_result"
    }
   ],
   "source": [
    "# generate random integer\n",
    "np.random.randint(1,7)"
   ]
  },
  {
   "cell_type": "code",
   "execution_count": null,
   "metadata": {},
   "outputs": [],
   "source": []
  },
  {
   "cell_type": "code",
   "execution_count": null,
   "metadata": {},
   "outputs": [],
   "source": []
  },
  {
   "cell_type": "code",
   "execution_count": null,
   "metadata": {},
   "outputs": [],
   "source": []
  }
 ],
 "metadata": {
  "kernelspec": {
   "display_name": "Python 2",
   "language": "python",
   "name": "python2"
  },
  "language_info": {
   "codemirror_mode": {
    "name": "ipython",
    "version": 2
   },
   "file_extension": ".py",
   "mimetype": "text/x-python",
   "name": "python",
   "nbconvert_exporter": "python",
   "pygments_lexer": "ipython2",
   "version": "2.7.15"
  }
 },
 "nbformat": 4,
 "nbformat_minor": 2
}
